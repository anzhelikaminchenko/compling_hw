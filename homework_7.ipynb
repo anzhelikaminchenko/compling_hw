{
 "cells": [
  {
   "cell_type": "code",
   "execution_count": 1,
   "id": "82feafe9",
   "metadata": {},
   "outputs": [
    {
     "name": "stderr",
     "output_type": "stream",
     "text": [
      "[nltk_data] Downloading package stopwords to\n",
      "[nltk_data]     C:\\Users\\howto\\AppData\\Roaming\\nltk_data...\n",
      "[nltk_data]   Unzipping corpora\\stopwords.zip.\n",
      "[nltk_data] Downloading package wordnet to\n",
      "[nltk_data]     C:\\Users\\howto\\AppData\\Roaming\\nltk_data...\n",
      "[nltk_data]   Unzipping corpora\\wordnet.zip.\n"
     ]
    }
   ],
   "source": [
    "import nltk\n",
    "nltk.download('stopwords')\n",
    "nltk.download('wordnet')\n",
    "from nltk.corpus import wordnet as wn\n",
    "from nltk.corpus import stopwords\n",
    "\n",
    "from nltk.tokenize import WordPunctTokenizer\n",
    "from string import punctuation\n",
    "\n",
    "punct = punctuation+'«»—…“”*№–'\n",
    "stops = set(stopwords.words('russian'))"
   ]
  },
  {
   "cell_type": "code",
   "execution_count": 67,
   "id": "3cb0ba4b",
   "metadata": {},
   "outputs": [],
   "source": [
    "def normalize(text):\n",
    "    \n",
    "    words = [token.text.strip(punct) for token in list(WordPunctTokenizer(text))]\n",
    "    words = [morph.parse(word)[0].normal_form for word in words if word and word not in stops]\n",
    "\n",
    "    return words"
   ]
  },
  {
   "cell_type": "code",
   "execution_count": 72,
   "id": "c6f62965",
   "metadata": {},
   "outputs": [],
   "source": [
    "def lesk( word, sentence ):\n",
    "    bestsense = 0\n",
    "    maxoverlap = 0\n",
    "    \n",
    "    synsets = wn.synsets(word)\n",
    "    \n",
    "    synsets = synset_definition(word)\n",
    "    \n",
    "    for i, syns in enumerate(synsets): \n",
    "        overlap = len(set(syns).intersection(sentence))      \n",
    "        \n",
    "        if overlap > maxoverlap:\n",
    "            bestsense = i\n",
    "            maxoverlap = overlap        \n",
    "            return bestsense"
   ]
  },
  {
   "cell_type": "code",
   "execution_count": 73,
   "id": "c957b04e",
   "metadata": {},
   "outputs": [
    {
     "data": {
      "text/plain": [
       "0"
      ]
     },
     "execution_count": 73,
     "metadata": {},
     "output_type": "execute_result"
    }
   ],
   "source": [
    "lesk('day', 'some point or period in time'.split())"
   ]
  },
  {
   "cell_type": "code",
   "execution_count": 74,
   "id": "65ae8734",
   "metadata": {},
   "outputs": [
    {
     "data": {
      "text/plain": [
       "'time for Earth to make a complete rotation on its axis'"
      ]
     },
     "execution_count": 74,
     "metadata": {},
     "output_type": "execute_result"
    }
   ],
   "source": [
    "wn.synsets(\"day\")[0].definition()"
   ]
  },
  {
   "cell_type": "code",
   "execution_count": 127,
   "id": "78107056",
   "metadata": {},
   "outputs": [],
   "source": [
    "corpus_wsd = []\n",
    "corpus = open('corpus_wsd_50k.txt', encoding = 'utf-8').read().split('\\n\\n')\n",
    "for sent in corpus:\n",
    "    corpus_wsd.append([s.split('\\t') for s in sent.split('\\n')])"
   ]
  },
  {
   "cell_type": "code",
   "execution_count": 143,
   "id": "8781e081",
   "metadata": {},
   "outputs": [
    {
     "ename": "ZeroDivisionError",
     "evalue": "division by zero",
     "output_type": "error",
     "traceback": [
      "\u001b[1;31m---------------------------------------------------------------------------\u001b[0m",
      "\u001b[1;31mZeroDivisionError\u001b[0m                         Traceback (most recent call last)",
      "\u001b[1;32m<ipython-input-143-387532fcda14>\u001b[0m in \u001b[0;36m<module>\u001b[1;34m\u001b[0m\n\u001b[0;32m     14\u001b[0m         \u001b[1;32mexcept\u001b[0m \u001b[0mIndexError\u001b[0m\u001b[1;33m:\u001b[0m\u001b[1;33m\u001b[0m\u001b[1;33m\u001b[0m\u001b[0m\n\u001b[0;32m     15\u001b[0m             \u001b[1;32mpass\u001b[0m\u001b[1;33m\u001b[0m\u001b[1;33m\u001b[0m\u001b[0m\n\u001b[1;32m---> 16\u001b[1;33m \u001b[0maccuracy\u001b[0m \u001b[1;33m=\u001b[0m \u001b[0mright\u001b[0m\u001b[1;33m/\u001b[0m\u001b[0mtotal\u001b[0m\u001b[1;33m\u001b[0m\u001b[1;33m\u001b[0m\u001b[0m\n\u001b[0m",
      "\u001b[1;31mZeroDivisionError\u001b[0m: division by zero"
     ]
    }
   ],
   "source": [
    "def lesk(n):\n",
    "    accuracy = []\n",
    "    total = 0\n",
    "    right = 0\n",
    "    for sent in corpus:\n",
    "        try:\n",
    "            sent_tokens = [word[1].lower() for word in sent]\n",
    "            \n",
    "            for word in sent:\n",
    "                if word[0] != '':\n",
    "                    total += 1\n",
    "                    if wn.synsets(word[1])[lesk(word[1], sentence)] == wn.lemma_from_key(word[0]).synset():\n",
    "                        right += 1\n",
    "        except IndexError:\n",
    "            pass\n",
    "accuracy = right/total"
   ]
  },
  {
   "cell_type": "code",
   "execution_count": 138,
   "id": "dc07bae2",
   "metadata": {},
   "outputs": [
    {
     "data": {
      "text/plain": [
       "0.0"
      ]
     },
     "execution_count": 138,
     "metadata": {},
     "output_type": "execute_result"
    }
   ],
   "source": [
    "accuracy"
   ]
  },
  {
   "cell_type": "markdown",
   "id": "c059d5ac",
   "metadata": {},
   "source": [
    "получается либо ошибка 'NoneType', либо 0. "
   ]
  }
 ],
 "metadata": {
  "kernelspec": {
   "display_name": "Python 3",
   "language": "python",
   "name": "python3"
  },
  "language_info": {
   "codemirror_mode": {
    "name": "ipython",
    "version": 3
   },
   "file_extension": ".py",
   "mimetype": "text/x-python",
   "name": "python",
   "nbconvert_exporter": "python",
   "pygments_lexer": "ipython3",
   "version": "3.8.8"
  }
 },
 "nbformat": 4,
 "nbformat_minor": 5
}
