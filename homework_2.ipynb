{
 "cells": [
  {
   "cell_type": "markdown",
   "id": "f3705663",
   "metadata": {},
   "source": [
    "# Домашнее задание № 2. Мешок слов"
   ]
  },
  {
   "cell_type": "markdown",
   "id": "0cf72d19",
   "metadata": {},
   "source": [
    "## Задание 1 (3 балла)"
   ]
  },
  {
   "cell_type": "markdown",
   "id": "4a045e99",
   "metadata": {},
   "source": [
    "У векторайзеров в sklearn есть встроенная токенизация на регулярных выражениях. Найдите способо заменить её на кастомную токенизацию"
   ]
  },
  {
   "cell_type": "markdown",
   "id": "90b4d453",
   "metadata": {},
   "source": [
    "Обучите векторайзер с дефолтной токенизацией и с токенизацией razdel.tokenize. Обучите классификатор с каждым из векторизаторов. Сравните метрики и выберете победителя. \n",
    "\n",
    "(в вашей тетрадке должен быть код обучения и все метрики; если вы сдаете в .py файлах то сохраните полученные метрики в отдельном файле или в комментариях)"
   ]
  },
  {
   "cell_type": "code",
   "execution_count": 40,
   "id": "129c4d2e",
   "metadata": {},
   "outputs": [],
   "source": [
    "import pandas as pd\n",
    "from razdel import tokenize\n",
    "from sklearn.feature_extraction.text import CountVectorizer, TfidfVectorizer\n",
    "from sklearn.linear_model import LogisticRegression\n",
    "from sklearn.tree import DecisionTreeClassifier\n",
    "from sklearn.neighbors import KNeighborsClassifier\n",
    "from sklearn.naive_bayes import MultinomialNB\n",
    "from sklearn.ensemble import RandomForestClassifier\n",
    "from sklearn.model_selection import train_test_split\n",
    "from sklearn.metrics import classification_report, accuracy_score\n",
    "from sklearn.metrics.pairwise import cosine_distances, cosine_similarity\n",
    "\n",
    "from IPython.display import Image\n",
    "from IPython.core.display import HTML "
   ]
  },
  {
   "cell_type": "code",
   "execution_count": 41,
   "id": "8bbc2365",
   "metadata": {},
   "outputs": [],
   "source": [
    "data = pd.read_csv('labeled.csv')"
   ]
  },
  {
   "cell_type": "code",
   "execution_count": 42,
   "id": "01341538",
   "metadata": {},
   "outputs": [
    {
     "data": {
      "text/html": [
       "<div>\n",
       "<style scoped>\n",
       "    .dataframe tbody tr th:only-of-type {\n",
       "        vertical-align: middle;\n",
       "    }\n",
       "\n",
       "    .dataframe tbody tr th {\n",
       "        vertical-align: top;\n",
       "    }\n",
       "\n",
       "    .dataframe thead th {\n",
       "        text-align: right;\n",
       "    }\n",
       "</style>\n",
       "<table border=\"1\" class=\"dataframe\">\n",
       "  <thead>\n",
       "    <tr style=\"text-align: right;\">\n",
       "      <th></th>\n",
       "      <th>comment</th>\n",
       "      <th>toxic</th>\n",
       "    </tr>\n",
       "  </thead>\n",
       "  <tbody>\n",
       "    <tr>\n",
       "      <th>0</th>\n",
       "      <td>Верблюдов-то за что? Дебилы, бл...\\n</td>\n",
       "      <td>1.0</td>\n",
       "    </tr>\n",
       "    <tr>\n",
       "      <th>1</th>\n",
       "      <td>Хохлы, это отдушина затюканого россиянина, мол...</td>\n",
       "      <td>1.0</td>\n",
       "    </tr>\n",
       "    <tr>\n",
       "      <th>2</th>\n",
       "      <td>Собаке - собачья смерть\\n</td>\n",
       "      <td>1.0</td>\n",
       "    </tr>\n",
       "    <tr>\n",
       "      <th>3</th>\n",
       "      <td>Страницу обнови, дебил. Это тоже не оскорблени...</td>\n",
       "      <td>1.0</td>\n",
       "    </tr>\n",
       "    <tr>\n",
       "      <th>4</th>\n",
       "      <td>тебя не убедил 6-страничный пдф в том, что Скр...</td>\n",
       "      <td>1.0</td>\n",
       "    </tr>\n",
       "  </tbody>\n",
       "</table>\n",
       "</div>"
      ],
      "text/plain": [
       "                                             comment  toxic\n",
       "0               Верблюдов-то за что? Дебилы, бл...\\n    1.0\n",
       "1  Хохлы, это отдушина затюканого россиянина, мол...    1.0\n",
       "2                          Собаке - собачья смерть\\n    1.0\n",
       "3  Страницу обнови, дебил. Это тоже не оскорблени...    1.0\n",
       "4  тебя не убедил 6-страничный пдф в том, что Скр...    1.0"
      ]
     },
     "execution_count": 42,
     "metadata": {},
     "output_type": "execute_result"
    }
   ],
   "source": [
    "data.head()"
   ]
  },
  {
   "cell_type": "code",
   "execution_count": 43,
   "id": "3df99cf4",
   "metadata": {
    "scrolled": true
   },
   "outputs": [
    {
     "data": {
      "text/plain": [
       "<AxesSubplot:>"
      ]
     },
     "execution_count": 43,
     "metadata": {},
     "output_type": "execute_result"
    },
    {
     "data": {
      "image/png": "[encoded data removed]",
      "text/plain": [
       "<Figure size 432x288 with 1 Axes>"
      ]
     },
     "metadata": {
      "needs_background": "light"
     },
     "output_type": "display_data"
    }
   ],
   "source": [
    "data['toxic'].value_counts().plot(kind=\"bar\")"
   ]
  },
  {
   "cell_type": "code",
   "execution_count": 44,
   "id": "6b3a656d",
   "metadata": {},
   "outputs": [],
   "source": [
    "train, test = train_test_split(data, test_size=0.1, shuffle=True)"
   ]
  },
  {
   "cell_type": "code",
   "execution_count": 45,
   "id": "563a2eab",
   "metadata": {},
   "outputs": [],
   "source": [
    "y = train.toxic.values\n",
    "y_test = test.toxic.values"
   ]
  },
  {
   "cell_type": "code",
   "execution_count": 46,
   "id": "220e0b5d",
   "metadata": {},
   "outputs": [],
   "source": [
    "# дефолтная токенизация\n",
    "vectorizer = CountVectorizer()\n",
    "X = vectorizer.fit_transform(train.comment)\n",
    "X_1 = vectorizer.transform(test.comment) "
   ]
  },
  {
   "cell_type": "code",
   "execution_count": 47,
   "id": "b6903bac",
   "metadata": {
    "scrolled": true
   },
   "outputs": [
    {
     "data": {
      "text/plain": [
       "(12970, 63843)"
      ]
     },
     "execution_count": 47,
     "metadata": {},
     "output_type": "execute_result"
    }
   ],
   "source": [
    "X.shape"
   ]
  },
  {
   "cell_type": "code",
   "execution_count": 48,
   "id": "56c479fd",
   "metadata": {
    "scrolled": false
   },
   "outputs": [],
   "source": [
    "def razdel_tokenize (text):\n",
    "    tokens = list (tokenize(text))\n",
    "    tokens = [_.text for _ in tokens]\n",
    "    return (tokens)\n",
    "\n",
    "# векторизация с токенизацией из razdel\n",
    "custom_vectorizer = CountVectorizer(tokenizer = razdel_tokenize)\n",
    "X_razdel = custom_vectorizer.fit_transform (train.comment)\n",
    "X_1 = custom_vectorizer.transform (test.comment) "
   ]
  },
  {
   "cell_type": "code",
   "execution_count": 49,
   "id": "c4752c6e",
   "metadata": {},
   "outputs": [
    {
     "data": {
      "text/plain": [
       "(12970, 64777)"
      ]
     },
     "execution_count": 49,
     "metadata": {},
     "output_type": "execute_result"
    }
   ],
   "source": [
    "X_razdel.shape"
   ]
  },
  {
   "cell_type": "code",
   "execution_count": 50,
   "id": "11df948a",
   "metadata": {},
   "outputs": [],
   "source": [
    "# дефолтный классификатор\n",
    "clf = LogisticRegression(C=0.1, class_weight='balanced')\n",
    "clf.fit(X, y)\n",
    "\n",
    "# razdel классификатор\n",
    "clf_razdel = LogisticRegression(C=0.1, class_weight='balanced', max_iter=1000)\n",
    "clf_razdel.fit(X_razdel, y)\n",
    "\n",
    "# предсказания\n",
    "preds = clf.predict(X)\n",
    "preds_razdel = clf_razdel.predict(X_1)"
   ]
  },
  {
   "cell_type": "code",
   "execution_count": 55,
   "id": "68d2d93b",
   "metadata": {},
   "outputs": [
    {
     "name": "stdout",
     "output_type": "stream",
     "text": [
      "              precision    recall  f1-score   support\n",
      "\n",
      "         0.0       0.98      0.90      0.94      8645\n",
      "         1.0       0.83      0.96      0.89      4325\n",
      "\n",
      "    accuracy                           0.92     12970\n",
      "   macro avg       0.90      0.93      0.91     12970\n",
      "weighted avg       0.93      0.92      0.92     12970\n",
      "\n"
     ]
    }
   ],
   "source": [
    "# дефолтная метрика\n",
    "print(classification_report(y, preds, zero_division=0))"
   ]
  },
  {
   "cell_type": "code",
   "execution_count": 57,
   "id": "612ee976",
   "metadata": {
    "scrolled": true
   },
   "outputs": [
    {
     "name": "stdout",
     "output_type": "stream",
     "text": [
      "              precision    recall  f1-score   support\n",
      "\n",
      "         0.0       0.92      0.86      0.88       941\n",
      "         1.0       0.76      0.85      0.80       501\n",
      "\n",
      "    accuracy                           0.85      1442\n",
      "   macro avg       0.84      0.85      0.84      1442\n",
      "weighted avg       0.86      0.85      0.86      1442\n",
      "\n"
     ]
    }
   ],
   "source": [
    "# метрика для razdel \n",
    "print(classification_report(y_test, preds_razdel, zero_division=0))"
   ]
  },
  {
   "cell_type": "markdown",
   "id": "c47968d4",
   "metadata": {},
   "source": [
    "## Вывод\n",
    "Векторизация с razdel.tokenize незначительно, но повышает качество классификатора."
   ]
  },
  {
   "cell_type": "markdown",
   "id": "1ffa9f76",
   "metadata": {},
   "source": [
    "## Задание 2 (3 балла)"
   ]
  },
  {
   "cell_type": "markdown",
   "id": "5f358949",
   "metadata": {},
   "source": [
    "Преобразуйте таблицу с абсолютными частотностями в семинарской тетрадке в таблицу с tfidf значениями. (Таблица - https://i.ibb.co/r5Nc2HC/abs-bow.jpg) Формула tfidf есть в семинаре на картнике с пояснениями на английском. \n",
    "Считать нужно в питоне. Формат итоговой таблицы может быть любым, главное, чтобы был код и можно было воспроизвести вычисления. "
   ]
  },
  {
   "cell_type": "code",
   "execution_count": 58,
   "id": "c5b50abc",
   "metadata": {},
   "outputs": [],
   "source": [
    "data = ['я и ты', 'ты и я', 'я я и только я', 'только не я', 'он']\n",
    "data = [razdel_tokenize(d) for d in data]\n",
    "\n",
    "vocabulary = ['я', 'ты', 'и', 'только', 'не', 'он']"
   ]
  },
  {
   "cell_type": "code",
   "execution_count": 63,
   "id": "dd1d04ba",
   "metadata": {},
   "outputs": [],
   "source": [
    "import numpy as np\n",
    "import math\n",
    "\n",
    "def calculate_tf_idf(docs_tokenized, vocab):\n",
    "    N = len(docs_tokenized)\n",
    "    V = len(vocab)\n",
    "    result = np.zeros((N, V))    \n",
    "    for i in range(0, N):\n",
    "        doc = docs_tokenized[i]\n",
    "        for w in doc:\n",
    "            j = vocab.index(w)\n",
    "            # tf\n",
    "            tf = doc.count(w)/len(doc)\n",
    "            df = 0\n",
    "            # df\n",
    "            for d in docs_tokenized:\n",
    "                if w in d:\n",
    "                    df += 1\n",
    "            idf = np.log10(N/df)\n",
    "            tfidf = tf * idf\n",
    "            result[i, j] = round(tfidf, 3)\n",
    "            \n",
    "    return result "
   ]
  },
  {
   "cell_type": "code",
   "execution_count": 64,
   "id": "a6fdf398",
   "metadata": {},
   "outputs": [
    {
     "name": "stdout",
     "output_type": "stream",
     "text": [
      "[[0.032 0.133 0.074 0.    0.    0.   ]\n",
      " [0.032 0.133 0.074 0.    0.    0.   ]\n",
      " [0.058 0.    0.044 0.08  0.    0.   ]\n",
      " [0.032 0.    0.    0.133 0.233 0.   ]\n",
      " [0.    0.    0.    0.    0.    0.699]]\n"
     ]
    }
   ],
   "source": [
    "print(calculate_tf_idf(data, vocabulary)) "
   ]
  },
  {
   "cell_type": "markdown",
   "id": "2f5bc8de",
   "metadata": {},
   "source": [
    "## Задание 3 (2 балла)"
   ]
  },
  {
   "cell_type": "markdown",
   "id": "f8961bbf",
   "metadata": {},
   "source": [
    "Обучите 2 любых разных классификатора из семинара. Предскажите токсичность для текстов из тестовой выборки (используйте одну и ту же выборку для обоих классификаторов) и найдите 10 самых токсичных для каждого из классификаторов. Сравните получаемые тексты - какие тексты совпадают, какие отличаются, правда ли тексты токсичные?"
   ]
  },
  {
   "cell_type": "markdown",
   "id": "b46681ef",
   "metadata": {},
   "source": [
    "Требования к классификаторам:   \n",
    "а) один должен использовать CountVectorizer, другой TfidfVectorizer  \n",
    "б) у векторазера должны быть вручную заданы как минимум 5 параметров  \n",
    "в) у классификатора должно быть задано вручную как минимум 2 параметра  \n",
    "г)  f1 мера каждого из классификаторов должна быть минимум 0.75  "
   ]
  },
  {
   "cell_type": "code",
   "execution_count": 65,
   "id": "ed77d7b1",
   "metadata": {},
   "outputs": [],
   "source": [
    "# MultinomialNB\n",
    "count_vectorizer = CountVectorizer(tokenizer = razdel_tokenize, \n",
    "                            max_features=1000, min_df=5, max_df=0.4)\n",
    "X = count_vectorizer.fit_transform(train.comment)\n",
    "X_1 = count_vectorizer.transform(test.comment)"
   ]
  },
  {
   "cell_type": "code",
   "execution_count": 66,
   "id": "7cd916f1",
   "metadata": {},
   "outputs": [
    {
     "name": "stdout",
     "output_type": "stream",
     "text": [
      "              precision    recall  f1-score   support\n",
      "\n",
      "         0.0       0.82      0.90      0.86       941\n",
      "         1.0       0.77      0.62      0.69       501\n",
      "\n",
      "    accuracy                           0.80      1442\n",
      "   macro avg       0.79      0.76      0.77      1442\n",
      "weighted avg       0.80      0.80      0.80      1442\n",
      "\n"
     ]
    }
   ],
   "source": [
    "clf = MultinomialNB(alpha=1.)\n",
    "clf.fit(X, y)\n",
    "preds = clf.predict(X_1)\n",
    "\n",
    "print(classification_report(y_test, preds))"
   ]
  },
  {
   "cell_type": "code",
   "execution_count": 69,
   "id": "bc6c0849",
   "metadata": {},
   "outputs": [],
   "source": [
    "probs = clf.predict_proba(X_1)\n",
    "toxic_probs = [p[1] for p in probs]\n",
    "\n",
    "comments = test.comment.tolist()\n",
    "\n",
    "res = dict(zip(comments, toxic_probs))\n",
    "res_sorted = {f'{k} : {v}': v for k, v in sorted(res.items(), key=lambda item: item[1])}\n",
    "\n",
    "top_ten_clf = list(res_sorted)[-10:]"
   ]
  },
  {
   "cell_type": "code",
   "execution_count": 70,
   "id": "98a14f47",
   "metadata": {
    "scrolled": false
   },
   "outputs": [
    {
     "data": {
      "text/plain": [
       "['Хохлы не люди. Их нужно обязательно бить, унижать, ссать на лицо. Если же пытаться вести с ними хорошо, как это делали в СССР и докрымской России, то они начинают наглеть и безобразничать. Как и все дегенераты, хохлы вежливое отношение принимают за слабость. Увидел хохлы, плюнь ему в рожу и пни под зад сапогом. Ради счастья всего человечества.\\n : 0.9999998102303957',\n",
       " 'ну ты тупой, блядь, совет выкрутить к тебе исходил из предположения, что у тебя наушники ашановские, которое ты, кстати, и не опровергнул. я и сам его не слушаю на 200 громкости, но всю эту хуйню слышно и без этого\\n : 0.9999998578559074',\n",
       " 'В общем земля тебе пухом братишка, печально что люди с таким хуёвым воспитанием населяют эту планету. быдловатый, сапожный словарный запас. Ну это и ясно, по тебе видно что ты вчера из пещеры вылез, не в обиду, но это выглядит так. Надеюсь что ты прсто троль, иначе просто не представляю как это возможно. Нас негры снежками называют и чё? ты хотя бы раз в жизни черного видел ? Или по репортажам знаком с ними ? Если у индусов зелёный цвет кожи такими я их вижу, я же не называю их помощниками несмотря на то, что вся страна огромная, грязная, вонючая свалка и им бы вполне подошло. У тебя видимо проблемы с глазами. Я никогда не видел зеленых индусов. Нигеры реально на солнышке подпеклись, но если из духовки достанешь, а сверху чёрное значит подгорело от того и обгорелые. Просто фейспалм, советую не курить спайс. Про косых и говорить нечего там на лице всё написано. Косого ты в зеркале увидишь )\\n : 0.9999998812562652',\n",
       " 'ну так и задайся вопросом, петух ты ущербный, почему он стримит и ему за это донатят, а ты сидишь на шеи своей пизды матери и не зарабатываешь ни копейки? может как раз-таки потому, что ты, хуй уебищный, максимально скучное никому не всравшееся мурло? просто пиздец логика у двущеров, я в ахуе\\n : 0.9999998927977232',\n",
       " 'Нет, мне тебя жалко, ты ненавидишь союз, не любишь русских, особенно Путина, даже своих предков также поливаеш грязью, особенно символично, что несмотря на ненависть к русским, у тебя такой ник, это какая-то квинтэссенция изливания желчи во всё вокруг. Ведь по сути, ты же просто пришёл и сказал: вот это говно, это и это, когда к тебе обратились (понятно, что именно ради этого всё и затевалось) со словами, молодой человек, ваш юношеский максимализм неуместен, вы посчитали это слабостью: как же, они не могут так же издеваться и при этом не попасть под бан.\\n : 0.9999999391337174',\n",
       " 'Какую тему? То, что жиды пидорасы? По-моему это ты пришёл в тред, оскорбился что тут хохлов не обсуждают и начал разводить разговоры о своей мусорной странёнке. Кто ещё тему перекрывает, долбоёбина, иди таблеток наебни, или я санитаров вызываю.\\n : 0.9999999615791503',\n",
       " 'Сука, ты ему про аномалии, а он тебе ПРО ХАБАР! ПРИЧЕМ ТУТ РЕЗАНЬЕ ПОЛОВЫХ ОРГАНОВ И ИЗНАСИЛОВАНИЯ, А ДЕБИЧ? ПРИРОДА ДАЛА МУЖЧИНАМ СИЛУ И МОЗГИ, ЧЕГО ЖЕНЩИНЫ СМОГУТ ПРИОБРЕСТИ ТОЛЬКО ЧЕРЕЗ ГИГАНТСКОЕ УПОРСТВО . Здесь речь не о дискриминации, А О БАНАЛЬНОМ ФАКТЕ ! Ну а кукареканье о равенстве прав - всего лишь КУКАРЕКАНЬЯ , я только представлю себе бабу металлурга и уже смешно становится, нет у них способностей к мужским профессиями - НУ И НЕХУЙ ТУДА ПРОСИТЬСЯ . Пускай есть готовят, за больными ухаживают, одежду шьют, картины рисуют и всё остальное, чем они обычно занимаются, НО РАВЕНСТВА В ПРАВАХ, ПОМИМО РАВЕНСТВА ЮРИДИЧЕСКИХ - ЭТО ПРОСТО АБСУРД. Если эта Фелмке Халсема топит за равенство, ТАК ПУСКАЙ БЕРЕТ АВТОМАТ В РУКИ И ПИЗДУЕТ ЗАЩИЩАТЬ СВОЮ СТРАНУ. ДЕЛАЕТ БЛЯДЬ МАРШ-БРОСКИ КАЖДЫЙ ДЕНЬ, РОЕТ ОКОПЫ, ПИЗДИТСЯ, УЧИТСЯ СТРЕЛЯТЬ, КОЛОТЬ ЧЕЛОВЕКА В РУКОПАШНУЮ И БРОСАТЬСЯ НА АМБРАЗУРЫ, ДОКАЗЫВАЯ ЧТО ОНА НИЧЕМ НЕ ХУЖЕ. Но нет, она же способна только пиздеть и ущемлять мужиков в их законных правах, нарушая стойкую систему и порядок.\\n : 0.9999999978194865',\n",
       " 'Предлагаю вашему вниманию поэтические страницы маестра. До тридцати сиянье чуда В тебе, быть может, будет жить Улыбки нежность неоткуда Тебя заставит не забыть Потом морская синь, дороги И быт усталый и глухой Тебя доедут до берлоги И в старость уведут рукой Останутся со мной мгновенья Недокасанья юных рук Недосознанье упоенья Былой любви к тебе, мой друг. 6.03.07. АПОЛОГИЯ ДВИЖЕНИЯ. Среди чернеющих небес Себя найдешь на улице Бредущим по городу Где только снег идет Как ты Другое все иного направленья И сотни тысяч стен домов Тебя встречают В ужасе Ты страшен Поскольку ты идешь Они стоят Тот кто идет всегда опасен И одинок Как этот снег Как эта ночь Огромная удача Что ты не видишь Как ты одинок Но ты уснешь Как это небо станешь Великой темнотой Луна звенит И звезды опадают Как снег, как листопад Куда-то вниз Туда где ты Страниц не различая Запишешь их Листву и звон от звезд И песни стон и лунное дыханье На маятник повяжешь низ Чтоб верх по стрелке шел вперед И только так достигнешь ты себя Своих богов, своих детей Своих последствий И выбор сделаешь на пользу лишь себе 8.03.09. ЧЕЛОВЕК. Такое длинное мгновенье: А дальше эхо и забвенье Что надо нам успеть За этот срок недолгий? Спросить себя: Ты кто? - И дать ответ; Но главное влюбиться: Чтобы ответ мог подтвердиться. 9.01.10. ЮНОСТЬ ПОЭТОВ. Я срезал стебель для своих утех Я гений Значит правом данным от начала Я выбираю жребий тех Кто нужен мне для счастья и причала А, может, для страдания Как агнец богу на закланье На пир души и хищной, и прекрасной Веду я за руку фантомы красоты И каждый ты живешь лишь в мере той Что под руку со мной ведет тебя судьба слепая Ты значим лишь в моих глазах Ты существуешь только как моя болезнь Как озеро испившее нарцисс Как призрак сна настигнувший меня На кромке заколдованного лета Знайте, юность саван воскрешенного поэта 10.02.09.\\n : 1.0',\n",
       " 'Блеаадь, как же обидно когда создаешь тред, пародируешь речь ватников, случайно употребив слово из скрипта, и он скрывается у всех. Пересоздаю. Я много лет тут сижу с вами и обсераю пидорашек хоть я и сам один из них , смеюсь над их смертями, делаю фотожабы с обезьянами. Я-то думал это делают русские русофобы и украинцы, которых процентов 10, поэтому не относился как к чему-то иному как самокритике, самоиронии или справедливому негодованию из-за войны на Донбассе (в конце концов, я считаю украинцев своими братьями и их бугурт небезосновательным). Но меня нахуй осенило когда сначала вернули значки, а потом произошел расстрел мечети в НЗ. Тут до кучи блядских муслимов и они делают это вместе с нами (я думал они слишком беспросветно тупы для того, чтобы интересоваться политикой). Называют русских пидорашками, славщитом. Бляядь, вы действительно думаете вы лучше пидорашек? И вообще славян? Хорошо, я согласен, что кавказские мужчины часто выглядят лучше русских. Но в остальном вы намного хуже даже пидорашек, которые живут окруженные говном и не охуевают, когда с утра, выходя из подъезда на работу, вступают в десятисантиметровую грязь, считая это нормой; которые не имеют никакой солидарности ни по какому признаку, ненавидят друг друга априори, даже своих детей бросают как ёбаные негры, которые скорее сдадут тебя начальству за маячащее вознаграждение (которого им не дадут), если попытаешься подбить людей на забастовку из-за невыплаты зарплаты за полгода; трусливый и терпеливый скот, который барина превозносит и делит людей на касты по признаку наличия и крутости жоповозки; пиздлявые уебки, которые превозносят свой уебищный совок, КОТОРЫЙ ИЗОБРЕЛ ВСЕ В МИРЕ А АМЕРИКАНЦЫ УКРАЛИ!!11, но по факту выясняется, что совок сам практически нихуя не построил и не модернизировал, всё либо по западным проектам с согласия запада, либо с помощью технологического шпионажа. Воистину народ-гной, народ-пидор, народ-мразь, самый подлый народ в мире. Но вы даже на фоне пидорашек выглядите микробами, вы просто ёбаные ничтожества, причем я не пытаюсь вас оскорбить, мои слова действительно отражают вложенный в них изначальный смысл, вы ничто. Да, пидорашки именно такие, какими я описал их выше, они уберхуевые, но они днище цивилизованных народов, тогда как вас к этим цивилизованным народам даже отнести нельзя. Пидорашки хоть что-то изобрели, а если не изобрели, то смогли спиздить и воссоздать технологии и не просто какую-нибудь открывалку банок, а ядерное оружие и энергетику, создали ценящуюся в мире литературу, создали пусть и хуёвую, милитаризованную, построенную на лжи и крови, угнетении и унижении собственных граждан и в конце концов развалившуюся, но сверхдержаву, сделали массу географических открытий и захватили полмира, сейчас воспитывают массу хороших кодеров (правда они скорее воспитываются не благодаря, а вопреки, когда видят какой пиздец вокруг и находят из него такой выход). Не говоря уж об остальных славянах, которых вы тут презрительно называете славщитом и чистильщиками британских туалетов. А по факту поймите, мы-то конечно говно, по сравнению со странами первого мира, с Китаем, ЮК и Японией, даже со странами Южной Америки. Но вы-то блядь даже среди рашкинских регионов самое дно. В прошлом вы (чеченцы, даги и прочие сорта) были просто дикарями, которые нападали на русские караваны и только поэтому вас решили выебать и зохватить. А если говорить о среднеазиатах, которые бугуртят с оккупации, то вы были обычными нищими кочевниками, подтиравшимися камнем и пьющими верблюжью мочу, не имеющими названий народами. Сейчас вас все боятся потому, что если пидорашка сделает в вас пару дырок, защищая себя, то его посадят на бутылку, а если вы убьёте пидорашку, то вам нихуя не будет. И есть мнение, что это сделано специально, чтобы русский воспитывался униженным рабом. Вы унижаете русских детей в школе, потому что вы агрессивные обезьяны, не способные в диалог и возгорающиеся с малейшей искры, и пусть мне тут кто-нибудь заикнется про протопоповскую хуету, дети в школе должны учиться, вдохновляться и выбирать будущую профессию, а не бороться за выживание и дебильный статус в иерархии. И не слушайте дебилов из b , унижение и избиение слабых не делает вас лучше тех, кого вы унижаете, делает защита. Я не люблю выражаться фразами нациков, но вы воистину столетия просто сидели в горах и ебали баранов, вас даже народ-пидор смог захватить. Я знаю, что есть много армянских ученых, музыкантов, известных людей всех сортов, получивших признание в странах первого мира. Я знаю про охуенную грузинскую культуру (которую вы, судя по всему, нагло спиздили в свое время). Но где блядь чеченские я знаю, что вас тут особенно много, поэтому акцентирую внимание именно на вас среди всех муслимских народов СНГ , дагестанские ученые? Открыли дверь? Где государства, культуры? Почему в среднеазиатских парашах работы нет вообще и они все едут уже не в рашку, а в азиатские страны работать заграницу? Хоть что-то есть в вас достойное упоминания, кроме наглости и агрессии? Арийцы, блядь? Самая чистая раса, о чем любят похвастаться чеченцы? Пик 2, вот такие арийцы. Помесь арабов турков, славян и других европеоидов. Алсо, Володин долбит, Пыня хуйло, рашка бантустан, русня народ-гной.\\n : 1.0',\n",
       " 'Ну давай разберём всё тобой написанное. Бляядь, вы действительно думаете вы лучше пидорашек? Ну в целом, всё что живёт в рашке - затронуто говномидасом, но никто тут это не признает. сейчас воспитывают массу хороших кодеров В соседнем треде обоссали уже. Иди обтекай. Вы унижаете русских детей в школе Я учился в рашке и у нас был класс, который состоял онли из русачков. Думаешь, что то изменилось? Чурки тебе говна в жопу залили и заставили русачков в классе кошмарить омежных русачков? Я не люблю выражаться фразами нациков, но вы воистину столетия просто сидели в горах и ебали баранов, вас даже народ-пидор смог захватить. Плоховато ты знаешь историю. Когда русня пришла на Кавказ, тут всё уже было поделено османами и персами. А потом РИ наебала персов и постоянно нападала на османов высасывая причины из пальца, в принципе, русачки, что от них ещё было ожидать. В прошлом вы (чеченцы, даги и прочие сорта) были просто дикарями...А если говорить о среднеазиатах, которые бугуртят с оккупации, то вы были обычными нищими кочевниками Очередной акт незнания истории. Например у кавказцев по факту у народов отвественных за этногенез дагов и азеров уже был Дербент, а русачков даже в планах не было. Почитай историю Кавказа и Средней Азии, там были и локальные империи и нагибы округи и прочее и прочее. Называют русских пидорашками, славщитом. Говоришь это так, будто бы в этом что то плохое. У меня знакомые po рашеры irl, которые являются русскими и которые ссут на русню с ещё большей колокольни чем я Сейчас вас все боятся потому, что если пидорашка сделает в вас пару дырок, защищая себя, то его посадят на бутылку, а если вы убьёте пидорашку, то вам нихуя не будет. Может потому что в рашке мочить с волыны ножа человека, который идёт на тебя с кулаками - превышение пределов самообороны? Кто виноват в том, что русня настолько вырожденческая, что один чеченский доходяга ставит на колени группу русачков? Ты думаешь, будь руснявая гопота менее вырожденческая, то так же людей не кошмарила? Кто виноват, что вы морозитесь или даёте по съебатору, когда видите, как вашего славянского друга избивают унижают? Да чего уж там, тот митинг вспомните, где жирик, какого то парня на колени поставил и все вокруг стоят и снимают, словно стадо руснявых баранов. Зуб даю, в той толпе стояли его друзья и знакомые. Лично для меня это пиздец, особенно проигрываю, когда там не какой нибудь братуха-борцуха, а смарчёк чеченский. Никогда бы не бросил и не бросал друга в таком пиздеце и не важно, какой нации был друг, а какой нападавший. Вся ваша проблема не том, что вы слабками, не в том, что большинство русачков еблом похож на свинью, не в том, что за тысячу лет существования не смогли построить нормальную цивилизацию и другим не давали. Проблема в обыкновенной ошибке выжившего, вы видите кавказское быдло гопника, потому что оно в среднем сильнее, напористее, агрессивнее и образ кавказца, как лица которое представляет опасность выжигается у вас в мозгах, при этом не хотите замечать, что у вас, целые города набитые руснявыми АУЕшниками, потому что один среднестатистический руснявый гопник ауешник быдлойд сосёт у одного среднестатистического чуркобесского гопника быдлойда. В конечном итоге русачков в станице кущевской ебал кто? Другие русачки. В школу приезжали и выберали лолей на поёбку кто? Другие русачки. Сжигал русачков кто? Другие русачки. Всё вскрылось совершенно случайно. Сколько таких станиц, деревень и городов по всей рашке? аз-кун\\n : 1.0']"
      ]
     },
     "execution_count": 70,
     "metadata": {},
     "output_type": "execute_result"
    }
   ],
   "source": [
    "top_ten_clf"
   ]
  },
  {
   "cell_type": "code",
   "execution_count": 79,
   "id": "7571e25f",
   "metadata": {},
   "outputs": [],
   "source": [
    "# DecisionTreeClassifier\n",
    "tfidf_vectorizer = TfidfVectorizer(tokenizer=tokenize_via_razdel, \n",
    "                            max_features=1000, min_df=4, max_df=0.4)\n",
    "\n",
    "X = tfidf_vectorizer.fit_transform(train.comment)\n",
    "X_1 = tfidf_vectorizer.transform(test.comment)"
   ]
  },
  {
   "cell_type": "code",
   "execution_count": 80,
   "id": "74a5f9c8",
   "metadata": {
    "scrolled": true
   },
   "outputs": [
    {
     "name": "stdout",
     "output_type": "stream",
     "text": [
      "              precision    recall  f1-score   support\n",
      "\n",
      "         0.0       0.82      0.52      0.64       941\n",
      "         1.0       0.47      0.78      0.58       501\n",
      "\n",
      "    accuracy                           0.61      1442\n",
      "   macro avg       0.64      0.65      0.61      1442\n",
      "weighted avg       0.70      0.61      0.62      1442\n",
      "\n"
     ]
    }
   ],
   "source": [
    "clf_1 = DecisionTreeClassifier(max_depth=8, class_weight='balanced')\n",
    "clf_1.fit(X, y)\n",
    "preds = clf_1.predict(X_1)\n",
    "\n",
    "print(classification_report(y_test, preds))"
   ]
  },
  {
   "cell_type": "code",
   "execution_count": 83,
   "id": "8d7863d6",
   "metadata": {},
   "outputs": [],
   "source": [
    "probs = clf_1.predict_proba(X_1)\n",
    "toxic_probs = [p[1] for p in probs]\n",
    "\n",
    "comments = test.comment.tolist()\n",
    "\n",
    "res = dict(zip(comments, toxic_probs))\n",
    "res_sorted = {f'{k} :  {v}': v for k, v in sorted(res.items(), key=lambda item: item[1])}\n",
    "\n",
    "top_ten_clf_1 = list(res_sorted)[-10:]"
   ]
  },
  {
   "cell_type": "code",
   "execution_count": 84,
   "id": "e6445ac6",
   "metadata": {},
   "outputs": [
    {
     "data": {
      "text/plain": [
       "['Панические атаки и ВСД очень частые спутники проявившейся шизофрении. Не хочу вас пугать, но посетите психиатра. Вам выпишут АД по вашему состоянию. И вы еще очень много лет будете адекватным человеком.\\n :  1.0',\n",
       " 'А,ясно. У вас может быть свое мнение и это похвально,но оно неправильное . Сами же тоже самое пишите. Да вот на деле хватит одного выстрела с танка, сотня-другая убитых и раненных - и все эти 15 миллионов разбегутся по домам. :  1.0',\n",
       " 'Про последнюю есть отличная песня у The Black Dahlia Murder - Phantom Limb Masturbation)\\n :  1.0',\n",
       " 'Да не, у меня штанишки на резинке )\\n :  1.0',\n",
       " 'У него хохлы были в предках.\\n :  1.0',\n",
       " 'Во первых нахуй нужны ибо эти аккумы говно (низкая ёмкость). Во вторых куча проводов что бы зарядить несколько аккумов. В третьих цена. В итоге одни минусы при одном плюсе. Проще один раз купить нормальную зарядку и несколько аккумов.\\n :  1.0',\n",
       " 'Ну а как же? Только с разрешением в письменном виде хохлы ебутся. А ещё они там снегирей распинают. Не верь всему что тебе по телевизору говорят, даун.\\n :  1.0',\n",
       " 'Потому что сенегалец лучше хохла. Хохлы вообще не люди\\n :  1.0',\n",
       " 'можете назвать ХОТЬ ОДНУ блядь нацию, которая лучше евреев? Любая европейская нация лучше еврейской (наверное поэтому у бугоизбранных от них так бомбит) жыды по уровню развития где-то на уровне русни (в чём-то лучше, в чём-то безнадёжно хуёвее) :  1.0',\n",
       " 'Хохлы не люди. Их нужно обязательно бить, унижать, ссать на лицо. Если же пытаться вести с ними хорошо, как это делали в СССР и докрымской России, то они начинают наглеть и безобразничать. Как и все дегенераты, хохлы вежливое отношение принимают за слабость. Увидел хохлы, плюнь ему в рожу и пни под зад сапогом. Ради счастья всего человечества.\\n :  1.0']"
      ]
     },
     "execution_count": 84,
     "metadata": {},
     "output_type": "execute_result"
    }
   ],
   "source": [
    "top_ten_clf_1"
   ]
  },
  {
   "cell_type": "markdown",
   "id": "ba55ef52",
   "metadata": {},
   "source": [
    "## Вывод\n",
    "Оба классификатора отобрали разные токсичные комментарии, совпал всего один (\"Хохлы не люди...\"). Есть значительная разница в размерах этих комментариях (заметная). MultinomialNB выбрал более комментарии куда более токсик, чем DecisionTreeClassifier. Это также можно проследить по f1 мере, 0.86/0.69 vs. 0.64/0.58. "
   ]
  }
 ],
 "metadata": {
  "kernelspec": {
   "display_name": "Python 3",
   "language": "python",
   "name": "python3"
  },
  "language_info": {
   "codemirror_mode": {
    "name": "ipython",
    "version": 3
   },
   "file_extension": ".py",
   "mimetype": "text/x-python",
   "name": "python",
   "nbconvert_exporter": "python",
   "pygments_lexer": "ipython3",
   "version": "3.8.8"
  }
 },
 "nbformat": 4,
 "nbformat_minor": 5
}
