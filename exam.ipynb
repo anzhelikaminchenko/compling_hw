{
 "cells": [
  {
   "cell_type": "markdown",
   "id": "d36ed8f8",
   "metadata": {},
   "source": [
    "# Задание 1"
   ]
  },
  {
   "cell_type": "code",
   "execution_count": 1,
   "id": "136c25f5",
   "metadata": {},
   "outputs": [],
   "source": [
    "text = \"Зонды будут запущены в космос в 2029 году и отправятся ко второй точке Лагранжа в системе Солнце\""
   ]
  },
  {
   "cell_type": "code",
   "execution_count": 2,
   "id": "816367da",
   "metadata": {},
   "outputs": [],
   "source": [
    "from pymystem3 import Mystem\n",
    "import os, json\n",
    "mystem = Mystem()"
   ]
  },
  {
   "cell_type": "code",
   "execution_count": 6,
   "id": "1b187b3d",
   "metadata": {},
   "outputs": [
    {
     "data": {
      "text/plain": [
       "['зонд',\n",
       " ' ',\n",
       " 'быть',\n",
       " ' ',\n",
       " 'запускать',\n",
       " ' ',\n",
       " 'в',\n",
       " ' ',\n",
       " 'космос',\n",
       " ' ',\n",
       " 'в',\n",
       " ' ',\n",
       " '2029',\n",
       " ' ',\n",
       " 'год',\n",
       " ' ',\n",
       " 'и',\n",
       " ' ',\n",
       " 'отправляться',\n",
       " ' ']"
      ]
     },
     "execution_count": 6,
     "metadata": {},
     "output_type": "execute_result"
    }
   ],
   "source": [
    "mystem.lemmatize(text)[:20]"
   ]
  },
  {
   "cell_type": "code",
   "execution_count": 7,
   "id": "399c4d88",
   "metadata": {},
   "outputs": [],
   "source": [
    "words_analized = mystem.analyze(text)"
   ]
  },
  {
   "cell_type": "code",
   "execution_count": 9,
   "id": "494f11ee",
   "metadata": {},
   "outputs": [
    {
     "data": {
      "text/plain": [
       "[{'analysis': [{'lex': 'зонд', 'wt': 1, 'gr': 'S,муж,неод=(вин,мн|им,мн)'}],\n",
       "  'text': 'Зонды'},\n",
       " {'text': ' '},\n",
       " {'analysis': [{'lex': 'быть', 'wt': 1, 'gr': 'V,нп=непрош,мн,изъяв,3-л'}],\n",
       "  'text': 'будут'},\n",
       " {'text': ' '},\n",
       " {'analysis': [{'lex': 'запускать',\n",
       "    'wt': 1,\n",
       "    'gr': 'V=прош,мн,прич,кр,сов,страд'}],\n",
       "  'text': 'запущены'},\n",
       " {'text': ' '},\n",
       " {'analysis': [{'lex': 'в', 'wt': 0.9999917878, 'gr': 'PR='}], 'text': 'в'},\n",
       " {'text': ' '},\n",
       " {'analysis': [{'lex': 'космос', 'wt': 1, 'gr': 'S,муж,неод=(вин,ед|им,ед)'}],\n",
       "  'text': 'космос'},\n",
       " {'text': ' '},\n",
       " {'analysis': [{'lex': 'в', 'wt': 0.9999917878, 'gr': 'PR='}], 'text': 'в'},\n",
       " {'text': ' '},\n",
       " {'text': '2029'},\n",
       " {'text': ' '},\n",
       " {'analysis': [{'lex': 'год', 'wt': 1, 'gr': 'S,муж,неод=(дат,ед|местн,ед)'}],\n",
       "  'text': 'году'},\n",
       " {'text': ' '},\n",
       " {'analysis': [{'lex': 'и', 'wt': 0.9999770357, 'gr': 'CONJ='}], 'text': 'и'},\n",
       " {'text': ' '},\n",
       " {'analysis': [{'lex': 'отправляться',\n",
       "    'wt': 1,\n",
       "    'gr': 'V,нп=непрош,мн,изъяв,3-л,сов'}],\n",
       "  'text': 'отправятся'},\n",
       " {'text': ' '}]"
      ]
     },
     "execution_count": 9,
     "metadata": {},
     "output_type": "execute_result"
    }
   ],
   "source": [
    "words_analized[:20]"
   ]
  },
  {
   "cell_type": "markdown",
   "id": "c6463aff",
   "metadata": {},
   "source": [
    "# Задание 2"
   ]
  },
  {
   "cell_type": "code",
   "execution_count": 10,
   "id": "dffbd526",
   "metadata": {},
   "outputs": [],
   "source": [
    "import requests\n",
    "r = requests.get(\n",
    "    'https://raw.githubusercontent.com/mannefedov/compling_nlp_hse_course/master/data/anna_karenina.txt'\n",
    ")\n",
    "\n",
    "# работайте с этими предложениями\n",
    "sentences = r.text.split('\\n')\n",
    "sentences = [sent for sent in sentences if len(sent) > 10]"
   ]
  },
  {
   "cell_type": "code",
   "execution_count": 30,
   "id": "f3d71578",
   "metadata": {},
   "outputs": [
    {
     "data": {
      "text/plain": [
       "'«Анна Каренина» – это сложное, психологически утонченное, остропроблемное произведение, насыщенное приметами времени. Л.Н. Толстой на страницах произведения показывает, как рушатся остатки патриархального уклада жизни в России под натиском буржуазного прогресса, как падают нравы, ослабевают семейные устои, вырождается аристократия.'"
      ]
     },
     "execution_count": 30,
     "metadata": {},
     "output_type": "execute_result"
    }
   ],
   "source": [
    "sentences[0]"
   ]
  },
  {
   "cell_type": "code",
   "execution_count": 24,
   "id": "fef4eb60",
   "metadata": {},
   "outputs": [],
   "source": [
    "sent = open('sent.txt', encoding = 'utf-8')"
   ]
  },
  {
   "cell_type": "code",
   "execution_count": 25,
   "id": "73335e69",
   "metadata": {},
   "outputs": [],
   "source": [
    "import pandas as pd\n",
    "from sklearn.feature_extraction.text import TfidfVectorizer"
   ]
  },
  {
   "cell_type": "code",
   "execution_count": 27,
   "id": "6e58c47e",
   "metadata": {},
   "outputs": [],
   "source": [
    "vectorizer = TfidfVectorizer()\n",
    "X = vectorizer.fit_transform(sent)"
   ]
  },
  {
   "cell_type": "code",
   "execution_count": 28,
   "id": "b0509222",
   "metadata": {},
   "outputs": [],
   "source": [
    "df_idf = pd.DataFrame(vectorizer.idf_, index = vectorizer.get_feature_names(), columns = ['idf_weights'])\n",
    "df_idf = df_idf.sort_values(by=['idf_weights'])"
   ]
  },
  {
   "cell_type": "code",
   "execution_count": 29,
   "id": "08b11758",
   "metadata": {},
   "outputs": [
    {
     "data": {
      "text/html": [
       "<div>\n",
       "<style scoped>\n",
       "    .dataframe tbody tr th:only-of-type {\n",
       "        vertical-align: middle;\n",
       "    }\n",
       "\n",
       "    .dataframe tbody tr th {\n",
       "        vertical-align: top;\n",
       "    }\n",
       "\n",
       "    .dataframe thead th {\n",
       "        text-align: right;\n",
       "    }\n",
       "</style>\n",
       "<table border=\"1\" class=\"dataframe\">\n",
       "  <thead>\n",
       "    <tr style=\"text-align: right;\">\n",
       "      <th></th>\n",
       "      <th>idf_weights</th>\n",
       "    </tr>\n",
       "  </thead>\n",
       "  <tbody>\n",
       "    <tr>\n",
       "      <th>ослабевают</th>\n",
       "      <td>1.0</td>\n",
       "    </tr>\n",
       "    <tr>\n",
       "      <th>остатки</th>\n",
       "      <td>1.0</td>\n",
       "    </tr>\n",
       "    <tr>\n",
       "      <th>остропроблемное</th>\n",
       "      <td>1.0</td>\n",
       "    </tr>\n",
       "    <tr>\n",
       "      <th>на</th>\n",
       "      <td>1.0</td>\n",
       "    </tr>\n",
       "    <tr>\n",
       "      <th>это</th>\n",
       "      <td>1.0</td>\n",
       "    </tr>\n",
       "  </tbody>\n",
       "</table>\n",
       "</div>"
      ],
      "text/plain": [
       "                 idf_weights\n",
       "ослабевают               1.0\n",
       "остатки                  1.0\n",
       "остропроблемное          1.0\n",
       "на                       1.0\n",
       "это                      1.0"
      ]
     },
     "execution_count": 29,
     "metadata": {},
     "output_type": "execute_result"
    }
   ],
   "source": [
    "df_idf.tail()"
   ]
  },
  {
   "cell_type": "markdown",
   "id": "2738b9a5",
   "metadata": {},
   "source": [
    "# Задание 3"
   ]
  },
  {
   "cell_type": "code",
   "execution_count": 72,
   "id": "c5320090",
   "metadata": {},
   "outputs": [],
   "source": [
    "from string import punctuation\n",
    "from razdel import sentenize\n",
    "from razdel import tokenize as razdel_tokenize\n",
    "import numpy as np\n",
    "import nltk\n",
    "\n",
    "from collections import Counter\n",
    "from gensim.models.phrases import Phrases\n",
    "from nltk.tokenize import sent_tokenize"
   ]
  },
  {
   "cell_type": "code",
   "execution_count": 73,
   "id": "a70780da",
   "metadata": {},
   "outputs": [],
   "source": [
    "def ngrammer(tokens, n=2):\n",
    "    ngrams = []\n",
    "    for i in range(0,len(tokens)-n+1):\n",
    "        ngrams.append(' '.join(tokens[i:i+n]))\n",
    "    return ngrams"
   ]
  },
  {
   "cell_type": "code",
   "execution_count": 74,
   "id": "2b7b436c",
   "metadata": {},
   "outputs": [],
   "source": [
    "unigrams = Counter()\n",
    "bigrams = Counter()"
   ]
  },
  {
   "cell_type": "markdown",
   "id": "82c6e5f9",
   "metadata": {},
   "source": [
    "# Задание 4"
   ]
  },
  {
   "cell_type": "code",
   "execution_count": 31,
   "id": "422e810f",
   "metadata": {},
   "outputs": [],
   "source": [
    "import textdistance"
   ]
  },
  {
   "cell_type": "code",
   "execution_count": 32,
   "id": "d1ed0be4",
   "metadata": {},
   "outputs": [],
   "source": [
    "words = [\"решение\",\"ршеение\",\"ренешик\",\"рещиние\",\"ришение\"]"
   ]
  },
  {
   "cell_type": "code",
   "execution_count": 36,
   "id": "67fc01b1",
   "metadata": {},
   "outputs": [],
   "source": [
    "from collections import Counter"
   ]
  },
  {
   "cell_type": "code",
   "execution_count": 37,
   "id": "f7cea85d",
   "metadata": {},
   "outputs": [],
   "source": [
    "def get_closest_match_with_metric(words, lookup,topn=20, metric=textdistance.levenshtein):\n",
    "    similarities = Counter()\n",
    "    \n",
    "    for word in lookup:\n",
    "        similarities[word] = metric.normalized_similarity(words, word) \n",
    "    \n",
    "    return similarities.most_common(topn)"
   ]
  },
  {
   "cell_type": "code",
   "execution_count": 53,
   "id": "2ecbe512",
   "metadata": {},
   "outputs": [
    {
     "data": {
      "text/plain": [
       "[('решение', 1.0),\n",
       " ('ришение', 0.8571428571428572),\n",
       " ('ршеение', 0.7142857142857143),\n",
       " ('рещиние', 0.7142857142857143),\n",
       " ('ренешик', 0.5714285714285714)]"
      ]
     },
     "execution_count": 53,
     "metadata": {},
     "output_type": "execute_result"
    }
   ],
   "source": [
    "# levenshtein\n",
    "get_closest_match_with_metric('решение', words, 5, textdistance.levenshtein)"
   ]
  },
  {
   "cell_type": "code",
   "execution_count": 48,
   "id": "be4a7577",
   "metadata": {},
   "outputs": [
    {
     "data": {
      "text/plain": [
       "[('решение', 1.0),\n",
       " ('ршеение', 0.8571428571428572),\n",
       " ('ришение', 0.8571428571428572),\n",
       " ('рещиние', 0.7142857142857143),\n",
       " ('ренешик', 0.5714285714285714)]"
      ]
     },
     "execution_count": 48,
     "metadata": {},
     "output_type": "execute_result"
    }
   ],
   "source": [
    "# damerau_levenshtein\n",
    "get_closest_match_with_metric('решение', words, 5, textdistance.damerau_levenshtein)"
   ]
  },
  {
   "cell_type": "code",
   "execution_count": 54,
   "id": "989186ce",
   "metadata": {},
   "outputs": [
    {
     "data": {
      "text/plain": [
       "[('ршеение', 1.0),\n",
       " ('решение', 0.7142857142857143),\n",
       " ('ришение', 0.7142857142857143),\n",
       " ('рещиние', 0.5714285714285714),\n",
       " ('ренешик', 0.4285714285714286)]"
      ]
     },
     "execution_count": 54,
     "metadata": {},
     "output_type": "execute_result"
    }
   ],
   "source": [
    "# levenshtein\n",
    "get_closest_match_with_metric('ршеение', words, 5, textdistance.levenshtein)"
   ]
  },
  {
   "cell_type": "code",
   "execution_count": 49,
   "id": "5e10fcb4",
   "metadata": {},
   "outputs": [
    {
     "data": {
      "text/plain": [
       "[('ршеение', 1.0),\n",
       " ('решение', 0.8571428571428572),\n",
       " ('ришение', 0.7142857142857143),\n",
       " ('рещиние', 0.5714285714285714),\n",
       " ('ренешик', 0.4285714285714286)]"
      ]
     },
     "execution_count": 49,
     "metadata": {},
     "output_type": "execute_result"
    }
   ],
   "source": [
    "# damerau_levenshtein\n",
    "get_closest_match_with_metric('ршеение', words, 5, textdistance.damerau_levenshtein)"
   ]
  },
  {
   "cell_type": "code",
   "execution_count": 55,
   "id": "53c8c61d",
   "metadata": {},
   "outputs": [
    {
     "data": {
      "text/plain": [
       "[('ренешик', 1.0),\n",
       " ('решение', 0.5714285714285714),\n",
       " ('ршеение', 0.4285714285714286),\n",
       " ('рещиние', 0.4285714285714286),\n",
       " ('ришение', 0.4285714285714286)]"
      ]
     },
     "execution_count": 55,
     "metadata": {},
     "output_type": "execute_result"
    }
   ],
   "source": [
    "# levenshtein\n",
    "get_closest_match_with_metric('ренешик', words, 5, textdistance.levenshtein)"
   ]
  },
  {
   "cell_type": "code",
   "execution_count": 50,
   "id": "d146dfaf",
   "metadata": {},
   "outputs": [
    {
     "data": {
      "text/plain": [
       "[('ренешик', 1.0),\n",
       " ('решение', 0.5714285714285714),\n",
       " ('ршеение', 0.4285714285714286),\n",
       " ('рещиние', 0.4285714285714286),\n",
       " ('ришение', 0.4285714285714286)]"
      ]
     },
     "execution_count": 50,
     "metadata": {},
     "output_type": "execute_result"
    }
   ],
   "source": [
    "# damerau_levenshtein\n",
    "get_closest_match_with_metric('ренешик', words, 5, textdistance.damerau_levenshtein)"
   ]
  },
  {
   "cell_type": "code",
   "execution_count": 56,
   "id": "c7289c10",
   "metadata": {},
   "outputs": [
    {
     "data": {
      "text/plain": [
       "[('рещиние', 1.0),\n",
       " ('решение', 0.7142857142857143),\n",
       " ('ршеение', 0.5714285714285714),\n",
       " ('ришение', 0.5714285714285714),\n",
       " ('ренешик', 0.4285714285714286)]"
      ]
     },
     "execution_count": 56,
     "metadata": {},
     "output_type": "execute_result"
    }
   ],
   "source": [
    "# levenshtein\n",
    "get_closest_match_with_metric('рещиние', words, 5, textdistance.levenshtein)"
   ]
  },
  {
   "cell_type": "code",
   "execution_count": 51,
   "id": "3e914da1",
   "metadata": {},
   "outputs": [
    {
     "data": {
      "text/plain": [
       "[('рещиние', 1.0),\n",
       " ('решение', 0.7142857142857143),\n",
       " ('ршеение', 0.5714285714285714),\n",
       " ('ришение', 0.5714285714285714),\n",
       " ('ренешик', 0.4285714285714286)]"
      ]
     },
     "execution_count": 51,
     "metadata": {},
     "output_type": "execute_result"
    }
   ],
   "source": [
    "# damerau_levenshtein\n",
    "get_closest_match_with_metric('рещиние', words, 5, textdistance.damerau_levenshtein)"
   ]
  },
  {
   "cell_type": "code",
   "execution_count": 57,
   "id": "3938cfb2",
   "metadata": {},
   "outputs": [
    {
     "data": {
      "text/plain": [
       "[('ришение', 1.0),\n",
       " ('решение', 0.8571428571428572),\n",
       " ('ршеение', 0.7142857142857143),\n",
       " ('рещиние', 0.5714285714285714),\n",
       " ('ренешик', 0.4285714285714286)]"
      ]
     },
     "execution_count": 57,
     "metadata": {},
     "output_type": "execute_result"
    }
   ],
   "source": [
    "# levenshtein\n",
    "get_closest_match_with_metric('ришение', words, 5, textdistance.levenshtein)"
   ]
  },
  {
   "cell_type": "code",
   "execution_count": 52,
   "id": "38efe939",
   "metadata": {},
   "outputs": [
    {
     "data": {
      "text/plain": [
       "[('ришение', 1.0),\n",
       " ('решение', 0.8571428571428572),\n",
       " ('ршеение', 0.7142857142857143),\n",
       " ('рещиние', 0.5714285714285714),\n",
       " ('ренешик', 0.4285714285714286)]"
      ]
     },
     "execution_count": 52,
     "metadata": {},
     "output_type": "execute_result"
    }
   ],
   "source": [
    "# damerau_levenshtein\n",
    "get_closest_match_with_metric('ришение', words, 5, textdistance.damerau_levenshtein)"
   ]
  },
  {
   "cell_type": "markdown",
   "id": "2882c2c1",
   "metadata": {},
   "source": [
    "# Задание 5"
   ]
  },
  {
   "cell_type": "code",
   "execution_count": 68,
   "id": "652b9ec3",
   "metadata": {},
   "outputs": [],
   "source": [
    "# стандартные библиотеки\n",
    "import os, re\n",
    "import numpy as np\n",
    "from time import time\n",
    "from sklearn.model_selection import train_test_split\n",
    "import pandas as pd\n",
    "from collections import Counter\n",
    "from string import punctuation\n",
    "import matplotlib.pyplot as plt\n",
    "%matplotlib inline\n",
    "\n",
    "\n",
    "# tf и huggingface \n",
    "import tensorflow as tf\n",
    "from transformers import TFAutoModel\n",
    "from transformers import AutoTokenizer\n",
    "import tensorflow_text as tf_text"
   ]
  },
  {
   "cell_type": "code",
   "execution_count": 59,
   "id": "7eb1c935",
   "metadata": {},
   "outputs": [
    {
     "data": {
      "application/vnd.jupyter.widget-view+json": {
       "model_id": "b63fcf16b13447c0877f187f27dc3a12",
       "version_major": 2,
       "version_minor": 0
      },
      "text/plain": [
       "Downloading:   0%|          | 0.00/28.0 [00:00<?, ?B/s]"
      ]
     },
     "metadata": {},
     "output_type": "display_data"
    },
    {
     "data": {
      "application/vnd.jupyter.widget-view+json": {
       "model_id": "f1694c05ea0548468b70c7d63f35fcaf",
       "version_major": 2,
       "version_minor": 0
      },
      "text/plain": [
       "Downloading:   0%|          | 0.00/483 [00:00<?, ?B/s]"
      ]
     },
     "metadata": {},
     "output_type": "display_data"
    },
    {
     "data": {
      "application/vnd.jupyter.widget-view+json": {
       "model_id": "60a09a65efa94a89ad138e864befefb5",
       "version_major": 2,
       "version_minor": 0
      },
      "text/plain": [
       "Downloading:   0%|          | 0.00/226k [00:00<?, ?B/s]"
      ]
     },
     "metadata": {},
     "output_type": "display_data"
    },
    {
     "data": {
      "application/vnd.jupyter.widget-view+json": {
       "model_id": "dfe479a058674b2d8b102c18b8f75b17",
       "version_major": 2,
       "version_minor": 0
      },
      "text/plain": [
       "Downloading:   0%|          | 0.00/455k [00:00<?, ?B/s]"
      ]
     },
     "metadata": {},
     "output_type": "display_data"
    },
    {
     "data": {
      "application/vnd.jupyter.widget-view+json": {
       "model_id": "7ddcde1588f348dca55b78ba1cb97de8",
       "version_major": 2,
       "version_minor": 0
      },
      "text/plain": [
       "Downloading:   0%|          | 0.00/347M [00:00<?, ?B/s]"
      ]
     },
     "metadata": {},
     "output_type": "display_data"
    },
    {
     "name": "stderr",
     "output_type": "stream",
     "text": [
      "Some layers from the model checkpoint at distilbert-base-uncased were not used when initializing TFDistilBertModel: ['vocab_projector', 'vocab_transform', 'vocab_layer_norm', 'activation_13']\n",
      "- This IS expected if you are initializing TFDistilBertModel from the checkpoint of a model trained on another task or with another architecture (e.g. initializing a BertForSequenceClassification model from a BertForPreTraining model).\n",
      "- This IS NOT expected if you are initializing TFDistilBertModel from the checkpoint of a model that you expect to be exactly identical (initializing a BertForSequenceClassification model from a BertForSequenceClassification model).\n",
      "All the layers of TFDistilBertModel were initialized from the model checkpoint at distilbert-base-uncased.\n",
      "If your task is similar to the task the model of the checkpoint was trained on, you can already use TFDistilBertModel for predictions without further training.\n"
     ]
    }
   ],
   "source": [
    "tokenizer = AutoTokenizer.from_pretrained('distilbert-base-uncased')\n",
    "model_dis = TFAutoModel.from_pretrained('distilbert-base-uncased')"
   ]
  },
  {
   "cell_type": "code",
   "execution_count": 71,
   "id": "21c6ce9a",
   "metadata": {},
   "outputs": [],
   "source": [
    "def decode_bert_tokenizer(text):\n",
    "    encoded = tokenizer.encode(text)\n",
    "    return [tokenizer.decode([x]) for x in encoded]"
   ]
  }
 ],
 "metadata": {
  "kernelspec": {
   "display_name": "Python 3",
   "language": "python",
   "name": "python3"
  },
  "language_info": {
   "codemirror_mode": {
    "name": "ipython",
    "version": 3
   },
   "file_extension": ".py",
   "mimetype": "text/x-python",
   "name": "python",
   "nbconvert_exporter": "python",
   "pygments_lexer": "ipython3",
   "version": "3.8.8"
  }
 },
 "nbformat": 4,
 "nbformat_minor": 5
}
