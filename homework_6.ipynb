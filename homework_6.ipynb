{
 "cells": [
  {
   "cell_type": "markdown",
   "id": "c73ad80c",
   "metadata": {},
   "source": [
    "## Задание 1"
   ]
  },
  {
   "cell_type": "code",
   "execution_count": 7,
   "id": "89d0350c",
   "metadata": {},
   "outputs": [],
   "source": [
    "import tensorflow as tf\n",
    "import numpy as np\n",
    "import pandas as pd\n",
    "from string import punctuation\n",
    "from sklearn.model_selection import train_test_split\n",
    "from collections import Counter\n",
    "import matplotlib.pyplot as plt\n",
    "from sklearn.decomposition import TruncatedSVD\n",
    "from sklearn.feature_extraction.text import CountVectorizer\n",
    "from sklearn.metrics.pairwise import cosine_distances\n",
    "\n",
    "from IPython.display import Image\n",
    "from IPython.core.display import HTML \n",
    "import pymorphy2\n",
    "from pymorphy2 import MorphAnalyzer\n",
    "morph = MorphAnalyzer()\n",
    "\n",
    "%matplotlib inline"
   ]
  },
  {
   "cell_type": "code",
   "execution_count": 13,
   "id": "c82afae9",
   "metadata": {},
   "outputs": [],
   "source": [
    "wiki = open('wiki_data.txt', encoding = 'utf-8').read().split('\\n')\n",
    "\n",
    "def return_lemma(token):\n",
    "    return morph.parse(token)[0].normal_form"
   ]
  },
  {
   "cell_type": "code",
   "execution_count": 14,
   "id": "661be759",
   "metadata": {},
   "outputs": [],
   "source": [
    "def preprocess(text):\n",
    "    tokens = text.lower().split()\n",
    "    tokens = [token.strip(punctuation) for token in tokens]\n",
    "    tokens = [return_lemma(token) for token in tokens]\n",
    "    return tokens"
   ]
  },
  {
   "cell_type": "code",
   "execution_count": 17,
   "id": "cf9b326b",
   "metadata": {},
   "outputs": [],
   "source": [
    "vocab = Counter()\n",
    "\n",
    "for text in wiki:\n",
    "    vocab.update(preprocess(text))\n",
    "    \n",
    "filtered_vocab = set()\n",
    "\n",
    "for word in vocab:\n",
    "    if vocab[word] > 30:\n",
    "        filtered_vocab.add(word)\n",
    "        \n",
    "word2id = { 'PAD':0}\n",
    "\n",
    "for word in filtered_vocab:\n",
    "    word2id[word] = len(word2id)\n",
    "id2word = {i:word for word, i in word2id.items()}\n",
    "sentences = []\n",
    "\n",
    "for text in wiki:\n",
    "    tokens = preprocess(text)\n",
    "    ids = [word2id[token] for token in tokens if token in word2id]\n",
    "    sentences.append(ids)"
   ]
  },
  {
   "cell_type": "code",
   "execution_count": 22,
   "id": "50bfa1f3",
   "metadata": {},
   "outputs": [],
   "source": [
    "vocab_size = len(id2word)\n",
    "\n",
    "total_words = 0\n",
    "for w in list(vocab.keys()):\n",
    "    if w in filtered_vocab:\n",
    "        total_words += vocab[w]\n",
    "probas = [vocab[w]/total_words for w in filtered_vocab ]"
   ]
  },
  {
   "cell_type": "code",
   "execution_count": 23,
   "id": "afcd1e87",
   "metadata": {},
   "outputs": [],
   "source": [
    "def gen_batches_sg(sentences, window = 6, batch_size=1000):\n",
    "    while True:\n",
    "        X_target = []\n",
    "        X_context = []\n",
    "        y = []\n",
    "\n",
    "        for sent in sentences:\n",
    "            for i in range(len(sent)-1):\n",
    "                word = sent[i]\n",
    "                context = sent[max(0, i-window):i] + sent[i+1:i+window]\n",
    "                for context_word in context:\n",
    "                    X_target.append(word)\n",
    "                    X_context.append(context_word)\n",
    "                    y.append(1)\n",
    "                    \n",
    "                    X_target.append(word)\n",
    "                    X_context.append(word2id[np.random.choice(list(filtered_vocab), p=probas)])\n",
    "                    y.append(0)\n",
    "                    \n",
    "                    if len(X_target) >= batch_size:\n",
    "                        X_target = np.array(X_target)\n",
    "                        X_context = np.array(X_context)\n",
    "                        y = np.array(y)\n",
    "                        yield ((X_target, X_context), y)\n",
    "                        X_target = []\n",
    "                        X_context = []\n",
    "                        y = []"
   ]
  },
  {
   "cell_type": "code",
   "execution_count": 50,
   "id": "9056eb45",
   "metadata": {},
   "outputs": [],
   "source": [
    "def gen_batches_cbow(sentences, window, batch_size=1000):\n",
    "    while True:\n",
    "        X_target = []\n",
    "        X_context = []\n",
    "        y = []\n",
    "\n",
    "        for sent in sentences:\n",
    "            for i in range(len(sent)-1):\n",
    "                word = sent[i]\n",
    "                context = sent[max(0, i-window//2):i] + sent[i+1:i+window//2]\n",
    "\n",
    "                X_target.append(word)\n",
    "                X_context.append(context)\n",
    "                y.append(1)\n",
    "                \n",
    "                X_target.append(word2id[np.random.choice(list(filtered_vocab), p=probas)])\n",
    "                X_context.append(context)\n",
    "                y.append(0)\n",
    "\n",
    "                if len(X_target) == batch_size:\n",
    "                    X_target = np.array(X_target)\n",
    "                    X_context = tf.keras.preprocessing.sequence.pad_sequences(X_context, maxlen=window*2)\n",
    "                    y = np.array(y)\n",
    "                    yield ((X_target, X_context), y)\n",
    "                    X_target = []\n",
    "                    X_context = []\n",
    "                    y = []"
   ]
  },
  {
   "cell_type": "markdown",
   "id": "23ee105c",
   "metadata": {},
   "source": [
    "### skip-gram"
   ]
  },
  {
   "cell_type": "code",
   "execution_count": 25,
   "id": "6b5b5f99",
   "metadata": {},
   "outputs": [],
   "source": [
    "inputs_target = tf.keras.layers.Input(shape=(1,))\n",
    "inputs_context = tf.keras.layers.Input(shape=(1,))\n",
    "\n",
    "\n",
    "embeddings_target = tf.keras.layers.Embedding(input_dim=len(word2id), output_dim=300)(inputs_target, )\n",
    "embeddings_context = tf.keras.layers.Embedding(input_dim=len(word2id), output_dim=300)(inputs_context, )\n",
    "\n",
    "target = tf.keras.layers.Flatten()(embeddings_target)\n",
    "context = tf.keras.layers.Flatten()(embeddings_context)\n",
    "\n",
    "dot = tf.keras.layers.Dot(1)([target, context])\n",
    "outputs = tf.keras.layers.Activation(activation='sigmoid')(dot)\n",
    "\n",
    "sg_model = tf.keras.Model(inputs=[inputs_target, inputs_context], \n",
    "                       outputs=outputs)\n",
    "optimizer = tf.keras.optimizers.Adam(learning_rate=0.001)\n",
    "sg_model.compile(optimizer=optimizer,\n",
    "              loss='binary_crossentropy',\n",
    "              metrics=['accuracy'])"
   ]
  },
  {
   "cell_type": "code",
   "execution_count": 26,
   "id": "fa3d2fb2",
   "metadata": {},
   "outputs": [
    {
     "name": "stdout",
     "output_type": "stream",
     "text": [
      "Epoch 1/2\n",
      "3000/3000 [==============================] - 8714s 3s/step - loss: 0.6810 - accuracy: 0.5494 - val_loss: 0.6886 - val_accuracy: 0.5329\n",
      "Epoch 2/2\n",
      "3000/3000 [==============================] - 9756s 3s/step - loss: 0.6667 - accuracy: 0.5755 - val_loss: 0.6659 - val_accuracy: 0.5883\n"
     ]
    },
    {
     "data": {
      "text/plain": [
       "<keras.callbacks.History at 0x2513141ce80>"
      ]
     },
     "execution_count": 26,
     "metadata": {},
     "output_type": "execute_result"
    }
   ],
   "source": [
    "sg_model.fit(gen_batches_sg(sentences[:19000], window=12),\n",
    "          validation_data=gen_batches_sg(sentences[19000:],  window=12),\n",
    "          batch_size=1000,\n",
    "          steps_per_epoch=3000,\n",
    "          validation_steps=30,\n",
    "         epochs=2)"
   ]
  },
  {
   "cell_type": "code",
   "execution_count": 27,
   "id": "9c50df57",
   "metadata": {},
   "outputs": [],
   "source": [
    "def most_similar(word, embeddings):\n",
    "    similar = [id2word[i] for i in \n",
    "               cosine_distances(embeddings[word2id[word]].reshape(1, -1), embeddings).argsort()[0][:10]]\n",
    "    return similar"
   ]
  },
  {
   "cell_type": "code",
   "execution_count": 28,
   "id": "7e1a9a90",
   "metadata": {},
   "outputs": [],
   "source": [
    "sg_embeddings = sg_model.layers[2].get_weights()[0]"
   ]
  },
  {
   "cell_type": "code",
   "execution_count": 29,
   "id": "f7867a9a",
   "metadata": {},
   "outputs": [
    {
     "data": {
      "text/plain": [
       "['судьба',\n",
       " 'оказываться',\n",
       " 'проявлять',\n",
       " 'наслать',\n",
       " 'неудачный',\n",
       " 'ради',\n",
       " 'ад',\n",
       " 'верить',\n",
       " 'сюжет',\n",
       " 'всегда']"
      ]
     },
     "execution_count": 29,
     "metadata": {},
     "output_type": "execute_result"
    }
   ],
   "source": [
    "most_similar('судьба', sg_embeddings)"
   ]
  },
  {
   "cell_type": "code",
   "execution_count": 30,
   "id": "ffe2db87",
   "metadata": {},
   "outputs": [
    {
     "data": {
      "text/plain": [
       "['библия',\n",
       " 'далёкий',\n",
       " 'равный',\n",
       " 'идентичный',\n",
       " 'прежде',\n",
       " 'внешне',\n",
       " 'обеспечивать',\n",
       " 'необходимый',\n",
       " 'влияние',\n",
       " 'выяснить']"
      ]
     },
     "execution_count": 30,
     "metadata": {},
     "output_type": "execute_result"
    }
   ],
   "source": [
    "most_similar('библия', sg_embeddings)"
   ]
  },
  {
   "cell_type": "markdown",
   "id": "846cee73",
   "metadata": {},
   "source": [
    "### cbow"
   ]
  },
  {
   "cell_type": "code",
   "execution_count": 46,
   "id": "4b12b301",
   "metadata": {},
   "outputs": [],
   "source": [
    "inputs_target = tf.keras.layers.Input(shape=(1,))\n",
    "inputs_context = tf.keras.layers.Input(shape=(10,))\n",
    "\n",
    "\n",
    "embeddings_target = tf.keras.layers.Embedding(input_dim=len(word2id), output_dim=100)(inputs_target, )\n",
    "embeddings_context = tf.keras.layers.Embedding(input_dim=len(word2id), output_dim=100)(inputs_context, )\n",
    "\n",
    "target = tf.keras.layers.Flatten()(embeddings_target)\n",
    "context = tf.keras.layers.Lambda(lambda x: tf.keras.backend.sum(x, axis=1))(embeddings_context)\n",
    "dot = tf.keras.layers.Dot(1)([target, context])\n",
    "\n",
    "outputs = tf.keras.layers.Activation(activation='sigmoid')(dot)\n",
    "\n",
    "cbow_model = tf.keras.Model(inputs=[inputs_target, inputs_context], \n",
    "                       outputs=outputs)\n",
    "\n",
    "\n",
    "optimizer = tf.keras.optimizers.Adam(learning_rate=0.001)\n",
    "cbow_model.compile(optimizer=optimizer,\n",
    "              loss='binary_crossentropy',\n",
    "              metrics=['accuracy'])"
   ]
  },
  {
   "cell_type": "code",
   "execution_count": 51,
   "id": "5b70b437",
   "metadata": {},
   "outputs": [
    {
     "name": "stdout",
     "output_type": "stream",
     "text": [
      "Epoch 1/2\n",
      "1000/1000 [==============================] - 6750s 7s/step - loss: 0.6500 - accuracy: 0.6025 - val_loss: 0.6113 - val_accuracy: 0.6566\n",
      "Epoch 2/2\n",
      "1000/1000 [==============================] - 3019s 3s/step - loss: 0.5978 - accuracy: 0.6727 - val_loss: 0.5853 - val_accuracy: 0.6827\n"
     ]
    },
    {
     "data": {
      "text/plain": [
       "<keras.callbacks.History at 0x2512d0e2b50>"
      ]
     },
     "execution_count": 51,
     "metadata": {},
     "output_type": "execute_result"
    }
   ],
   "source": [
    "cbow_model.fit(gen_batches_cbow(sentences[:10000], window=6),\n",
    "          validation_data=gen_batches_cbow(sentences[10000:], window=6),\n",
    "          batch_size=1000,\n",
    "          steps_per_epoch=1000,\n",
    "          validation_steps=30,\n",
    "         epochs=2)"
   ]
  },
  {
   "cell_type": "code",
   "execution_count": 57,
   "id": "0702eea0",
   "metadata": {},
   "outputs": [],
   "source": [
    "cbow_embeddings = cbow_model.layers[2].get_weights()[0]"
   ]
  },
  {
   "cell_type": "code",
   "execution_count": 58,
   "id": "14dec6b9",
   "metadata": {},
   "outputs": [
    {
     "data": {
      "text/plain": [
       "['судьба',\n",
       " 'убеждение',\n",
       " 'узнать',\n",
       " 'возможность',\n",
       " 'ставить',\n",
       " 'существо',\n",
       " 'понимание',\n",
       " 'хотеть',\n",
       " 'внутри',\n",
       " 'из-за']"
      ]
     },
     "execution_count": 58,
     "metadata": {},
     "output_type": "execute_result"
    }
   ],
   "source": [
    "most_similar('судьба', cbow_embeddings)"
   ]
  },
  {
   "cell_type": "code",
   "execution_count": 59,
   "id": "607818a7",
   "metadata": {},
   "outputs": [
    {
     "data": {
      "text/plain": [
       "['библия',\n",
       " 'перевод',\n",
       " 'заголовок',\n",
       " 'высокочастотный',\n",
       " 'мультсериал',\n",
       " 'грузинский',\n",
       " 'брод',\n",
       " 'армянский',\n",
       " 'уродить',\n",
       " 'пустынный']"
      ]
     },
     "execution_count": 59,
     "metadata": {},
     "output_type": "execute_result"
    }
   ],
   "source": [
    "most_similar('библия', cbow_embeddings)"
   ]
  },
  {
   "cell_type": "markdown",
   "id": "60a57f75",
   "metadata": {},
   "source": [
    "## Задание 2"
   ]
  },
  {
   "cell_type": "code",
   "execution_count": 60,
   "id": "ef026c8a",
   "metadata": {},
   "outputs": [],
   "source": [
    "import gensim"
   ]
  },
  {
   "cell_type": "code",
   "execution_count": 64,
   "id": "5dd49423",
   "metadata": {},
   "outputs": [],
   "source": [
    "wiki = open('wiki_data.txt', encoding = 'utf-8').read().split('\\n')\n",
    "texts = [preprocess(text) for text in wiki]"
   ]
  },
  {
   "cell_type": "code",
   "execution_count": 65,
   "id": "2122ae35",
   "metadata": {},
   "outputs": [],
   "source": [
    "w2v = gensim.models.Word2Vec(texts)"
   ]
  },
  {
   "cell_type": "code",
   "execution_count": 66,
   "id": "05bfb8fc",
   "metadata": {},
   "outputs": [
    {
     "name": "stdout",
     "output_type": "stream",
     "text": [
      "Wall time: 44.4 s\n"
     ]
    }
   ],
   "source": [
    "%%time\n",
    "w2v = gensim.models.Word2Vec(texts, \n",
    "                             vector_size = 100, \n",
    "                             min_count = 20, \n",
    "                             max_vocab_size = 12000,\n",
    "                             window = 6,\n",
    "                             epochs = 10,\n",
    "                             sg = 0,\n",
    "                             negative = 10)"
   ]
  },
  {
   "cell_type": "code",
   "execution_count": 67,
   "id": "ca9baadc",
   "metadata": {},
   "outputs": [
    {
     "data": {
      "text/plain": [
       "[('рассказывать', 0.6021789312362671),\n",
       " ('рассказать', 0.5571690797805786),\n",
       " ('узнать', 0.5498092174530029),\n",
       " ('любовь', 0.5396974682807922),\n",
       " ('узнавать', 0.5395961403846741),\n",
       " ('перси', 0.5262677669525146),\n",
       " ('ничего', 0.5252251029014587),\n",
       " ('убивать', 0.5202212929725647),\n",
       " ('гибель', 0.5154215097427368),\n",
       " ('просить', 0.5040279626846313)]"
      ]
     },
     "execution_count": 67,
     "metadata": {},
     "output_type": "execute_result"
    }
   ],
   "source": [
    "w2v.wv.similar_by_word('судьба')"
   ]
  },
  {
   "cell_type": "code",
   "execution_count": 72,
   "id": "82669bd8",
   "metadata": {},
   "outputs": [
    {
     "name": "stdout",
     "output_type": "stream",
     "text": [
      "Wall time: 2min 53s\n"
     ]
    }
   ],
   "source": [
    "%%time\n",
    "ft = gensim.models.FastText(texts, min_n=7, max_n=13)"
   ]
  },
  {
   "cell_type": "code",
   "execution_count": 73,
   "id": "975ec77f",
   "metadata": {},
   "outputs": [
    {
     "data": {
      "text/plain": [
       "[('«судьба', 0.8315027952194214),\n",
       " ('заботиться', 0.7801317572593689),\n",
       " ('правда', 0.7736448645591736),\n",
       " ('мысль', 0.7621597647666931),\n",
       " ('мечта', 0.7558774948120117),\n",
       " ('позаботиться', 0.7523524761199951),\n",
       " ('рассказывать', 0.7465763688087463),\n",
       " ('узнать', 0.743129551410675),\n",
       " ('заговорить', 0.7386758923530579),\n",
       " ('рассказать', 0.7382193803787231)]"
      ]
     },
     "execution_count": 73,
     "metadata": {},
     "output_type": "execute_result"
    }
   ],
   "source": [
    "ft.wv.most_similar('судьба')"
   ]
  },
  {
   "cell_type": "code",
   "execution_count": 74,
   "id": "b4500dd7",
   "metadata": {},
   "outputs": [
    {
     "data": {
      "text/plain": [
       "[('«библия', 0.8701739311218262),\n",
       " ('хроника', 0.8610767126083374),\n",
       " ('генеалогия', 0.8248050808906555),\n",
       " ('грамматик', 0.8202798962593079),\n",
       " ('грамматика', 0.8110436201095581),\n",
       " ('рукопись', 0.8056421875953674),\n",
       " ('«истории»', 0.8051820993423462),\n",
       " ('хроник', 0.800186276435852),\n",
       " ('жизнеописание', 0.7992774844169617),\n",
       " ('трактат', 0.7978590726852417)]"
      ]
     },
     "execution_count": 74,
     "metadata": {},
     "output_type": "execute_result"
    }
   ],
   "source": [
    "ft.wv.most_similar('библия')"
   ]
  },
  {
   "cell_type": "markdown",
   "id": "26056344",
   "metadata": {},
   "source": [
    "## Задание 3"
   ]
  },
  {
   "cell_type": "code",
   "execution_count": 76,
   "id": "c3842bd8",
   "metadata": {},
   "outputs": [],
   "source": [
    "data = pd.read_csv('labeled.csv')\n",
    "data['norm_text'] = data.comment.apply(preprocess)"
   ]
  },
  {
   "cell_type": "code",
   "execution_count": 88,
   "id": "70708e31",
   "metadata": {},
   "outputs": [],
   "source": [
    "vocab = Counter()\n",
    "\n",
    "for text in data['norm_text']:\n",
    "    vocab2.update(text)\n",
    "    \n",
    "filtered_vocab2 = set()\n",
    "\n",
    "for word in vocab2:\n",
    "    if vocab2[word] > 5:\n",
    "        filtered_vocab2.add(word)\n",
    "\n",
    "len(filtered_vocab2)\n",
    "\n",
    "word2id2 = { 'PAD':0}\n",
    "\n",
    "for word in filtered_vocab2:\n",
    "    word2id2[word] = len(word2id2)\n",
    "id2word2 = {i:word for word, i in word2id2.items()}\n",
    "\n",
    "X = []\n",
    "\n",
    "for tokens in data['norm_text']:\n",
    "    ids = [word2id2[token] for token in tokens if token in word2id2]\n",
    "    X.append(ids)\n",
    "    \n",
    "X = tf.keras.preprocessing.sequence.pad_sequences(X, maxlen=100)\n",
    "y = data.toxic.values\n",
    "\n",
    "X_train, X_valid, y_train, y_valid = train_test_split(X, y, test_size=0.05)"
   ]
  },
  {
   "cell_type": "markdown",
   "id": "eee34736",
   "metadata": {},
   "source": [
    "## sg"
   ]
  },
  {
   "cell_type": "code",
   "execution_count": 130,
   "id": "bae0c0e2",
   "metadata": {},
   "outputs": [],
   "source": [
    "sg_weights = np.zeros((len(word2id), 100))\n",
    "\n",
    "for word, i in word2id.items():\n",
    "    if word == 'PAD':\n",
    "        continue\n",
    "    try:\n",
    "        sg_weights[i] = sg_embeddings[word2id[word]]\n",
    "    except KeyError:\n",
    "        continue\n",
    "        sg_weights[i] = sg_embeddings[word2id['опрагпллирао']]"
   ]
  },
  {
   "cell_type": "code",
   "execution_count": 105,
   "id": "9fa141f7",
   "metadata": {},
   "outputs": [],
   "source": [
    "inputs = tf.keras.layers.Input(shape = (100,))\n",
    "\n",
    "embeddings = tf.keras.layers.Embedding(input_dim = len(word2id), output_dim = 100, \n",
    "                                       trainable = False,\n",
    "                                       weights = [sg_weights])(inputs, )\n",
    "mean = tf.keras.layers.Lambda(lambda x: tf.keras.backend.mean(x,  axis = 1))(embeddings)\n",
    "\n",
    "outputs = tf.keras.layers.Dense(1, activation = 'sigmoid')(mean)\n",
    "\n",
    "sg_model = tf.keras.Model(inputs = inputs, outputs = outputs)\n",
    "optimizer = tf.keras.optimizers.Adam()\n",
    "sg_model.compile(optimizer = optimizer,\n",
    "              loss = 'binary_crossentropy',\n",
    "              metrics = ['accuracy'])"
   ]
  },
  {
   "cell_type": "code",
   "execution_count": 108,
   "id": "e66441c1",
   "metadata": {},
   "outputs": [
    {
     "name": "stdout",
     "output_type": "stream",
     "text": [
      "Epoch 1/30\n",
      "428/428 [==============================] - 2s 5ms/step - loss: 0.6083 - accuracy: 0.6673 - val_loss: 0.6382 - val_accuracy: 0.6297\n",
      "Epoch 2/30\n",
      "428/428 [==============================] - 2s 6ms/step - loss: 0.6074 - accuracy: 0.6673 - val_loss: 0.6374 - val_accuracy: 0.6297\n",
      "Epoch 3/30\n",
      "428/428 [==============================] - 2s 6ms/step - loss: 0.6066 - accuracy: 0.6676 - val_loss: 0.6371 - val_accuracy: 0.6297\n",
      "Epoch 4/30\n",
      "428/428 [==============================] - 3s 6ms/step - loss: 0.6058 - accuracy: 0.6674 - val_loss: 0.6367 - val_accuracy: 0.6311\n",
      "Epoch 5/30\n",
      "428/428 [==============================] - 3s 6ms/step - loss: 0.6050 - accuracy: 0.6685 - val_loss: 0.6366 - val_accuracy: 0.6297\n",
      "Epoch 6/30\n",
      "428/428 [==============================] - 3s 6ms/step - loss: 0.6044 - accuracy: 0.6692 - val_loss: 0.6356 - val_accuracy: 0.6297\n",
      "Epoch 7/30\n",
      "428/428 [==============================] - 3s 6ms/step - loss: 0.6037 - accuracy: 0.6696 - val_loss: 0.6353 - val_accuracy: 0.6297\n",
      "Epoch 8/30\n",
      "428/428 [==============================] - 2s 5ms/step - loss: 0.6031 - accuracy: 0.6702 - val_loss: 0.6346 - val_accuracy: 0.6311\n",
      "Epoch 9/30\n",
      "428/428 [==============================] - 3s 6ms/step - loss: 0.6025 - accuracy: 0.6708 - val_loss: 0.6339 - val_accuracy: 0.6311\n",
      "Epoch 10/30\n",
      "428/428 [==============================] - 3s 6ms/step - loss: 0.6019 - accuracy: 0.6709 - val_loss: 0.6337 - val_accuracy: 0.6311\n",
      "Epoch 11/30\n",
      "428/428 [==============================] - 3s 6ms/step - loss: 0.6014 - accuracy: 0.6715 - val_loss: 0.6328 - val_accuracy: 0.6311\n",
      "Epoch 12/30\n",
      "428/428 [==============================] - 2s 6ms/step - loss: 0.6009 - accuracy: 0.6721 - val_loss: 0.6325 - val_accuracy: 0.6325\n",
      "Epoch 13/30\n",
      "428/428 [==============================] - 2s 6ms/step - loss: 0.6004 - accuracy: 0.6725 - val_loss: 0.6323 - val_accuracy: 0.6325\n",
      "Epoch 14/30\n",
      "428/428 [==============================] - 2s 5ms/step - loss: 0.6000 - accuracy: 0.6735 - val_loss: 0.6319 - val_accuracy: 0.6338\n",
      "Epoch 15/30\n",
      "428/428 [==============================] - 2s 5ms/step - loss: 0.5995 - accuracy: 0.6742 - val_loss: 0.6321 - val_accuracy: 0.6338\n",
      "Epoch 16/30\n",
      "428/428 [==============================] - 2s 6ms/step - loss: 0.5991 - accuracy: 0.6742 - val_loss: 0.6312 - val_accuracy: 0.6366\n",
      "Epoch 17/30\n",
      "428/428 [==============================] - 2s 6ms/step - loss: 0.5987 - accuracy: 0.6744 - val_loss: 0.6308 - val_accuracy: 0.6338\n",
      "Epoch 18/30\n",
      "428/428 [==============================] - 2s 6ms/step - loss: 0.5983 - accuracy: 0.6743 - val_loss: 0.6306 - val_accuracy: 0.6338\n",
      "Epoch 19/30\n",
      "428/428 [==============================] - 2s 6ms/step - loss: 0.5979 - accuracy: 0.6743 - val_loss: 0.6300 - val_accuracy: 0.6366\n",
      "Epoch 20/30\n",
      "428/428 [==============================] - 2s 6ms/step - loss: 0.5976 - accuracy: 0.6749 - val_loss: 0.6296 - val_accuracy: 0.6380\n",
      "Epoch 21/30\n",
      "428/428 [==============================] - 2s 5ms/step - loss: 0.5972 - accuracy: 0.6747 - val_loss: 0.6290 - val_accuracy: 0.6408\n",
      "Epoch 22/30\n",
      "428/428 [==============================] - 2s 6ms/step - loss: 0.5969 - accuracy: 0.6755 - val_loss: 0.6292 - val_accuracy: 0.6408\n",
      "Epoch 23/30\n",
      "428/428 [==============================] - 2s 6ms/step - loss: 0.5965 - accuracy: 0.6752 - val_loss: 0.6288 - val_accuracy: 0.6422\n",
      "Epoch 24/30\n",
      "428/428 [==============================] - 2s 6ms/step - loss: 0.5962 - accuracy: 0.6762 - val_loss: 0.6286 - val_accuracy: 0.6422\n",
      "Epoch 25/30\n",
      "428/428 [==============================] - 2s 6ms/step - loss: 0.5959 - accuracy: 0.6762 - val_loss: 0.6284 - val_accuracy: 0.6422\n",
      "Epoch 26/30\n",
      "428/428 [==============================] - 2s 6ms/step - loss: 0.5956 - accuracy: 0.6769 - val_loss: 0.6280 - val_accuracy: 0.6436\n",
      "Epoch 27/30\n",
      "428/428 [==============================] - 2s 6ms/step - loss: 0.5953 - accuracy: 0.6772 - val_loss: 0.6279 - val_accuracy: 0.6436\n",
      "Epoch 28/30\n",
      "428/428 [==============================] - 2s 5ms/step - loss: 0.5951 - accuracy: 0.6779 - val_loss: 0.6277 - val_accuracy: 0.6436\n",
      "Epoch 29/30\n",
      "428/428 [==============================] - 2s 6ms/step - loss: 0.5947 - accuracy: 0.6775 - val_loss: 0.6279 - val_accuracy: 0.6436\n",
      "Epoch 30/30\n",
      "428/428 [==============================] - 2s 6ms/step - loss: 0.5945 - accuracy: 0.6777 - val_loss: 0.6274 - val_accuracy: 0.6449\n"
     ]
    },
    {
     "data": {
      "text/plain": [
       "<keras.callbacks.History at 0x25130298af0>"
      ]
     },
     "execution_count": 108,
     "metadata": {},
     "output_type": "execute_result"
    }
   ],
   "source": [
    "sg_model.fit(X_train, y_train, \n",
    "          validation_data=(X_valid, y_valid),\n",
    "          batch_size=32,\n",
    "          epochs=30)"
   ]
  },
  {
   "cell_type": "code",
   "execution_count": 109,
   "id": "e6920510",
   "metadata": {},
   "outputs": [
    {
     "name": "stdout",
     "output_type": "stream",
     "text": [
      "dict_keys(['loss', 'accuracy', 'val_loss', 'val_accuracy'])\n"
     ]
    },
    {
     "data": {
      "image/png": "[encoded data removed]",
      "text/plain": [
       "<Figure size 432x288 with 1 Axes>"
      ]
     },
     "metadata": {
      "needs_background": "light"
     },
     "output_type": "display_data"
    }
   ],
   "source": [
    "print(sg_model.history.history.keys())\n",
    "plt.plot(sg_model.history.history['accuracy'])\n",
    "plt.plot(sg_model.history.history['val_accuracy'])\n",
    "plt.title('sg_model accuracy')\n",
    "plt.ylabel('accuracy')\n",
    "plt.xlabel('epoch')\n",
    "plt.legend(['train', 'val'], loc='upper left')\n",
    "plt.show()"
   ]
  },
  {
   "cell_type": "markdown",
   "id": "046aeb89",
   "metadata": {},
   "source": [
    "## cbow"
   ]
  },
  {
   "cell_type": "code",
   "execution_count": 131,
   "id": "333e0789",
   "metadata": {},
   "outputs": [],
   "source": [
    "cbow_weights = np.zeros((len(word2id), 100))\n",
    "\n",
    "for word, i in word2id.items():\n",
    "    if word == 'PAD':\n",
    "        continue\n",
    "    try:\n",
    "        cbow_weights[i] = cbow_embeddings[word2id[word]]\n",
    "    except KeyError:\n",
    "        continue\n",
    "        cbow_weights[i] = cbow_embeddings[word2id['опрагпллирао']]"
   ]
  },
  {
   "cell_type": "code",
   "execution_count": 126,
   "id": "555068a4",
   "metadata": {},
   "outputs": [],
   "source": [
    "inputs = tf.keras.layers.Input(shape = (100,))\n",
    "\n",
    "embeddings = tf.keras.layers.Embedding(input_dim = len(word2id), output_dim = 100, \n",
    "                                       trainable = False,\n",
    "                                       weights = [cbow_weights])(inputs, )\n",
    "mean = tf.keras.layers.Lambda(lambda x: tf.keras.backend.mean(x,  axis = 1))(embeddings)\n",
    "\n",
    "outputs = tf.keras.layers.Dense(1, activation = 'sigmoid')(mean)\n",
    "\n",
    "model = tf.keras.Model(inputs = inputs, outputs = outputs)\n",
    "optimizer = tf.keras.optimizers.Adam()\n",
    "model.compile(optimizer = optimizer,\n",
    "              loss = 'binary_crossentropy',\n",
    "              metrics = ['accuracy'])"
   ]
  },
  {
   "cell_type": "code",
   "execution_count": 132,
   "id": "f6538507",
   "metadata": {},
   "outputs": [
    {
     "name": "stdout",
     "output_type": "stream",
     "text": [
      "Epoch 1/30\n",
      "428/428 [==============================] - 3s 6ms/step - loss: 0.6122 - accuracy: 0.6671 - val_loss: 0.6421 - val_accuracy: 0.6283\n",
      "Epoch 2/30\n",
      "428/428 [==============================] - 2s 6ms/step - loss: 0.6119 - accuracy: 0.6670 - val_loss: 0.6418 - val_accuracy: 0.6283\n",
      "Epoch 3/30\n",
      "428/428 [==============================] - 2s 6ms/step - loss: 0.6116 - accuracy: 0.6670 - val_loss: 0.6413 - val_accuracy: 0.6283\n",
      "Epoch 4/30\n",
      "428/428 [==============================] - 3s 6ms/step - loss: 0.6113 - accuracy: 0.6670 - val_loss: 0.6407 - val_accuracy: 0.6283\n",
      "Epoch 5/30\n",
      "428/428 [==============================] - 3s 6ms/step - loss: 0.6110 - accuracy: 0.6670 - val_loss: 0.6405 - val_accuracy: 0.6283\n",
      "Epoch 6/30\n",
      "428/428 [==============================] - 3s 6ms/step - loss: 0.6107 - accuracy: 0.6671 - val_loss: 0.6402 - val_accuracy: 0.6283\n",
      "Epoch 7/30\n",
      "428/428 [==============================] - 2s 6ms/step - loss: 0.6105 - accuracy: 0.6671 - val_loss: 0.6399 - val_accuracy: 0.6283\n",
      "Epoch 8/30\n",
      "428/428 [==============================] - 2s 6ms/step - loss: 0.6102 - accuracy: 0.6671 - val_loss: 0.6400 - val_accuracy: 0.6283\n",
      "Epoch 9/30\n",
      "428/428 [==============================] - 2s 5ms/step - loss: 0.6099 - accuracy: 0.6671 - val_loss: 0.6396 - val_accuracy: 0.6283\n",
      "Epoch 10/30\n",
      "428/428 [==============================] - 2s 5ms/step - loss: 0.6096 - accuracy: 0.6671 - val_loss: 0.6396 - val_accuracy: 0.6283\n",
      "Epoch 11/30\n",
      "428/428 [==============================] - 3s 6ms/step - loss: 0.6094 - accuracy: 0.6672 - val_loss: 0.6392 - val_accuracy: 0.6283\n",
      "Epoch 12/30\n",
      "428/428 [==============================] - 3s 6ms/step - loss: 0.6091 - accuracy: 0.6673 - val_loss: 0.6393 - val_accuracy: 0.6283\n",
      "Epoch 13/30\n",
      "428/428 [==============================] - 3s 6ms/step - loss: 0.6089 - accuracy: 0.6673 - val_loss: 0.6388 - val_accuracy: 0.6283\n",
      "Epoch 14/30\n",
      "428/428 [==============================] - 3s 6ms/step - loss: 0.6086 - accuracy: 0.6673 - val_loss: 0.6382 - val_accuracy: 0.6283\n",
      "Epoch 15/30\n",
      "428/428 [==============================] - 2s 6ms/step - loss: 0.6084 - accuracy: 0.6673 - val_loss: 0.6380 - val_accuracy: 0.6283\n",
      "Epoch 16/30\n",
      "428/428 [==============================] - 3s 6ms/step - loss: 0.6081 - accuracy: 0.6673 - val_loss: 0.6376 - val_accuracy: 0.6283\n",
      "Epoch 17/30\n",
      "428/428 [==============================] - 3s 6ms/step - loss: 0.6079 - accuracy: 0.6673 - val_loss: 0.6378 - val_accuracy: 0.6283\n",
      "Epoch 18/30\n",
      "428/428 [==============================] - 3s 6ms/step - loss: 0.6077 - accuracy: 0.6673 - val_loss: 0.6375 - val_accuracy: 0.6283\n",
      "Epoch 19/30\n",
      "428/428 [==============================] - 3s 6ms/step - loss: 0.6074 - accuracy: 0.6673 - val_loss: 0.6369 - val_accuracy: 0.6283\n",
      "Epoch 20/30\n",
      "428/428 [==============================] - 3s 6ms/step - loss: 0.6072 - accuracy: 0.6674 - val_loss: 0.6373 - val_accuracy: 0.6283\n",
      "Epoch 21/30\n",
      "428/428 [==============================] - 2s 6ms/step - loss: 0.6070 - accuracy: 0.6673 - val_loss: 0.6370 - val_accuracy: 0.6283\n",
      "Epoch 22/30\n",
      "428/428 [==============================] - 3s 6ms/step - loss: 0.6068 - accuracy: 0.6674 - val_loss: 0.6367 - val_accuracy: 0.6283\n",
      "Epoch 23/30\n",
      "428/428 [==============================] - 3s 6ms/step - loss: 0.6066 - accuracy: 0.6674 - val_loss: 0.6365 - val_accuracy: 0.6283\n",
      "Epoch 24/30\n",
      "428/428 [==============================] - 3s 6ms/step - loss: 0.6063 - accuracy: 0.6674 - val_loss: 0.6364 - val_accuracy: 0.6283\n",
      "Epoch 25/30\n",
      "428/428 [==============================] - 3s 6ms/step - loss: 0.6061 - accuracy: 0.6674 - val_loss: 0.6363 - val_accuracy: 0.6283\n",
      "Epoch 26/30\n",
      "428/428 [==============================] - 3s 6ms/step - loss: 0.6059 - accuracy: 0.6674 - val_loss: 0.6357 - val_accuracy: 0.6283\n",
      "Epoch 27/30\n",
      "428/428 [==============================] - 2s 6ms/step - loss: 0.6057 - accuracy: 0.6674 - val_loss: 0.6355 - val_accuracy: 0.6283\n",
      "Epoch 28/30\n",
      "428/428 [==============================] - 2s 5ms/step - loss: 0.6055 - accuracy: 0.6676 - val_loss: 0.6357 - val_accuracy: 0.6283\n",
      "Epoch 29/30\n",
      "428/428 [==============================] - 3s 6ms/step - loss: 0.6053 - accuracy: 0.6674 - val_loss: 0.6353 - val_accuracy: 0.6283\n",
      "Epoch 30/30\n",
      "428/428 [==============================] - 3s 6ms/step - loss: 0.6051 - accuracy: 0.6676 - val_loss: 0.6350 - val_accuracy: 0.6283\n"
     ]
    },
    {
     "data": {
      "text/plain": [
       "<keras.callbacks.History at 0x25131b0bfd0>"
      ]
     },
     "execution_count": 132,
     "metadata": {},
     "output_type": "execute_result"
    }
   ],
   "source": [
    "model.fit(X_train, y_train, \n",
    "          validation_data=(X_valid, y_valid),\n",
    "          batch_size=32,\n",
    "          epochs=30)"
   ]
  },
  {
   "cell_type": "code",
   "execution_count": 128,
   "id": "7ce9b01b",
   "metadata": {},
   "outputs": [
    {
     "name": "stdout",
     "output_type": "stream",
     "text": [
      "dict_keys(['loss', 'accuracy', 'val_loss', 'val_accuracy'])\n"
     ]
    },
    {
     "data": {
      "image/png": "[encoded data removed]",
      "text/plain": [
       "<Figure size 432x288 with 1 Axes>"
      ]
     },
     "metadata": {
      "needs_background": "light"
     },
     "output_type": "display_data"
    }
   ],
   "source": [
    "print(model.history.history.keys())\n",
    "plt.plot(model.history.history['accuracy'])\n",
    "plt.plot(model.history.history['val_accuracy'])\n",
    "plt.title('cbow_model accuracy')\n",
    "plt.ylabel('accuracy')\n",
    "plt.xlabel('epoch')\n",
    "plt.legend(['train', 'val'], loc='upper left')\n",
    "plt.show()"
   ]
  },
  {
   "cell_type": "markdown",
   "id": "5ba48900",
   "metadata": {},
   "source": [
    "## ft"
   ]
  },
  {
   "cell_type": "code",
   "execution_count": 121,
   "id": "dc4217df",
   "metadata": {},
   "outputs": [
    {
     "name": "stdout",
     "output_type": "stream",
     "text": [
      "Wall time: 16min 53s\n"
     ]
    }
   ],
   "source": [
    "%%time\n",
    "ft = gensim.models.FastText(texts + data['norm_text'].values.tolist(), window=10, epochs=10)"
   ]
  },
  {
   "cell_type": "code",
   "execution_count": 122,
   "id": "ab1bf73e",
   "metadata": {},
   "outputs": [],
   "source": [
    "ft_weights = np.zeros((len(word2id2), 100))\n",
    "\n",
    "for word, i in word2id2.items():\n",
    "\n",
    "    if word == 'PAD':\n",
    "        continue\n",
    "\n",
    "    try:\n",
    "        ft_weights[i] = ft.wv[word]\n",
    "    \n",
    "    except KeyError:\n",
    "        continue\n",
    "        ft_weights[i] = ft.wv['опрагпллирао']\n",
    "        \n",
    "inputs = tf.keras.layers.Input(shape=(100,))\n",
    "\n",
    "embeddings = tf.keras.layers.Embedding(input_dim=len(word2id2), output_dim=100, \n",
    "                                       trainable=False,\n",
    "                                       weights=[sg_ft_weights])(inputs, )\n",
    "mean = tf.keras.layers.Lambda(lambda x: tf.keras.backend.mean(x,  axis=1))(embeddings)\n",
    "\n",
    "outputs = tf.keras.layers.Dense(1, activation='sigmoid')(mean)\n",
    "\n",
    "model = tf.keras.Model(inputs=inputs, outputs=outputs)\n",
    "optimizer = tf.keras.optimizers.Adam()\n",
    "model.compile(optimizer=optimizer,\n",
    "              loss='binary_crossentropy',\n",
    "              metrics=['accuracy'])"
   ]
  },
  {
   "cell_type": "code",
   "execution_count": 134,
   "id": "7532f05e",
   "metadata": {
    "scrolled": false
   },
   "outputs": [
    {
     "name": "stdout",
     "output_type": "stream",
     "text": [
      "Epoch 1/50\n",
      "92/92 [==============================] - 1s 10ms/step - loss: 0.6049 - accuracy: 0.6678 - val_loss: 0.6349 - val_accuracy: 0.6283\n",
      "Epoch 2/50\n",
      "92/92 [==============================] - 1s 8ms/step - loss: 0.6049 - accuracy: 0.6679 - val_loss: 0.6350 - val_accuracy: 0.6283\n",
      "Epoch 3/50\n",
      "92/92 [==============================] - 1s 9ms/step - loss: 0.6048 - accuracy: 0.6679 - val_loss: 0.6350 - val_accuracy: 0.6283\n",
      "Epoch 4/50\n",
      "92/92 [==============================] - 1s 9ms/step - loss: 0.6048 - accuracy: 0.6679 - val_loss: 0.6349 - val_accuracy: 0.6283\n",
      "Epoch 5/50\n",
      "92/92 [==============================] - 1s 9ms/step - loss: 0.6047 - accuracy: 0.6679 - val_loss: 0.6348 - val_accuracy: 0.6283\n",
      "Epoch 6/50\n",
      "92/92 [==============================] - 1s 9ms/step - loss: 0.6047 - accuracy: 0.6678 - val_loss: 0.6348 - val_accuracy: 0.6283\n",
      "Epoch 7/50\n",
      "92/92 [==============================] - 1s 9ms/step - loss: 0.6046 - accuracy: 0.6678 - val_loss: 0.6349 - val_accuracy: 0.6283\n",
      "Epoch 8/50\n",
      "92/92 [==============================] - 1s 9ms/step - loss: 0.6046 - accuracy: 0.6678 - val_loss: 0.6348 - val_accuracy: 0.6283\n",
      "Epoch 9/50\n",
      "92/92 [==============================] - 1s 9ms/step - loss: 0.6045 - accuracy: 0.6678 - val_loss: 0.6347 - val_accuracy: 0.6283\n",
      "Epoch 10/50\n",
      "92/92 [==============================] - 1s 9ms/step - loss: 0.6045 - accuracy: 0.6680 - val_loss: 0.6348 - val_accuracy: 0.6283\n",
      "Epoch 11/50\n",
      "92/92 [==============================] - 1s 9ms/step - loss: 0.6044 - accuracy: 0.6678 - val_loss: 0.6347 - val_accuracy: 0.6283\n",
      "Epoch 12/50\n",
      "92/92 [==============================] - 1s 9ms/step - loss: 0.6044 - accuracy: 0.6679 - val_loss: 0.6346 - val_accuracy: 0.6283\n",
      "Epoch 13/50\n",
      "92/92 [==============================] - 1s 9ms/step - loss: 0.6043 - accuracy: 0.6679 - val_loss: 0.6346 - val_accuracy: 0.6283\n",
      "Epoch 14/50\n",
      "92/92 [==============================] - 1s 9ms/step - loss: 0.6043 - accuracy: 0.6679 - val_loss: 0.6346 - val_accuracy: 0.6283\n",
      "Epoch 15/50\n",
      "92/92 [==============================] - 1s 8ms/step - loss: 0.6042 - accuracy: 0.6681 - val_loss: 0.6343 - val_accuracy: 0.6283\n",
      "Epoch 16/50\n",
      "92/92 [==============================] - 1s 8ms/step - loss: 0.6041 - accuracy: 0.6680 - val_loss: 0.6344 - val_accuracy: 0.6283\n",
      "Epoch 17/50\n",
      "92/92 [==============================] - 1s 8ms/step - loss: 0.6041 - accuracy: 0.6680 - val_loss: 0.6343 - val_accuracy: 0.6283\n",
      "Epoch 18/50\n",
      "92/92 [==============================] - 1s 9ms/step - loss: 0.6040 - accuracy: 0.6680 - val_loss: 0.6343 - val_accuracy: 0.6283\n",
      "Epoch 19/50\n",
      "92/92 [==============================] - 1s 9ms/step - loss: 0.6040 - accuracy: 0.6681 - val_loss: 0.6343 - val_accuracy: 0.6283\n",
      "Epoch 20/50\n",
      "92/92 [==============================] - 1s 9ms/step - loss: 0.6039 - accuracy: 0.6680 - val_loss: 0.6341 - val_accuracy: 0.6283\n",
      "Epoch 21/50\n",
      "92/92 [==============================] - 1s 9ms/step - loss: 0.6038 - accuracy: 0.6680 - val_loss: 0.6340 - val_accuracy: 0.6283\n",
      "Epoch 22/50\n",
      "92/92 [==============================] - 1s 9ms/step - loss: 0.6038 - accuracy: 0.6680 - val_loss: 0.6340 - val_accuracy: 0.6283\n",
      "Epoch 23/50\n",
      "92/92 [==============================] - 1s 9ms/step - loss: 0.6037 - accuracy: 0.6681 - val_loss: 0.6340 - val_accuracy: 0.6283\n",
      "Epoch 24/50\n",
      "92/92 [==============================] - 1s 9ms/step - loss: 0.6036 - accuracy: 0.6681 - val_loss: 0.6338 - val_accuracy: 0.6283\n",
      "Epoch 25/50\n",
      "92/92 [==============================] - 1s 9ms/step - loss: 0.6036 - accuracy: 0.6682 - val_loss: 0.6337 - val_accuracy: 0.6283\n",
      "Epoch 26/50\n",
      "92/92 [==============================] - 1s 9ms/step - loss: 0.6035 - accuracy: 0.6683 - val_loss: 0.6337 - val_accuracy: 0.6283\n",
      "Epoch 27/50\n",
      "92/92 [==============================] - 1s 9ms/step - loss: 0.6034 - accuracy: 0.6682 - val_loss: 0.6337 - val_accuracy: 0.6283\n",
      "Epoch 28/50\n",
      "92/92 [==============================] - 1s 9ms/step - loss: 0.6034 - accuracy: 0.6683 - val_loss: 0.6337 - val_accuracy: 0.6283\n",
      "Epoch 29/50\n",
      "92/92 [==============================] - 1s 9ms/step - loss: 0.6033 - accuracy: 0.6682 - val_loss: 0.6336 - val_accuracy: 0.6283\n",
      "Epoch 30/50\n",
      "92/92 [==============================] - 1s 9ms/step - loss: 0.6032 - accuracy: 0.6683 - val_loss: 0.6335 - val_accuracy: 0.6283\n",
      "Epoch 31/50\n",
      "92/92 [==============================] - 1s 9ms/step - loss: 0.6031 - accuracy: 0.6683 - val_loss: 0.6335 - val_accuracy: 0.6283\n",
      "Epoch 32/50\n",
      "92/92 [==============================] - 1s 9ms/step - loss: 0.6031 - accuracy: 0.6683 - val_loss: 0.6334 - val_accuracy: 0.6283\n",
      "Epoch 33/50\n",
      "92/92 [==============================] - 1s 9ms/step - loss: 0.6030 - accuracy: 0.6682 - val_loss: 0.6333 - val_accuracy: 0.6283\n",
      "Epoch 34/50\n",
      "92/92 [==============================] - 1s 9ms/step - loss: 0.6029 - accuracy: 0.6684 - val_loss: 0.6332 - val_accuracy: 0.6283\n",
      "Epoch 35/50\n",
      "92/92 [==============================] - 1s 8ms/step - loss: 0.6029 - accuracy: 0.6683 - val_loss: 0.6333 - val_accuracy: 0.6283\n",
      "Epoch 36/50\n",
      "92/92 [==============================] - 1s 8ms/step - loss: 0.6028 - accuracy: 0.6682 - val_loss: 0.6330 - val_accuracy: 0.6283\n",
      "Epoch 37/50\n",
      "92/92 [==============================] - 1s 9ms/step - loss: 0.6027 - accuracy: 0.6684 - val_loss: 0.6329 - val_accuracy: 0.6283\n",
      "Epoch 38/50\n",
      "92/92 [==============================] - 1s 9ms/step - loss: 0.6027 - accuracy: 0.6684 - val_loss: 0.6329 - val_accuracy: 0.6283\n",
      "Epoch 39/50\n",
      "92/92 [==============================] - 1s 9ms/step - loss: 0.6026 - accuracy: 0.6682 - val_loss: 0.6329 - val_accuracy: 0.6283\n",
      "Epoch 40/50\n",
      "92/92 [==============================] - 1s 9ms/step - loss: 0.6025 - accuracy: 0.6683 - val_loss: 0.6329 - val_accuracy: 0.6283\n",
      "Epoch 41/50\n",
      "92/92 [==============================] - 1s 9ms/step - loss: 0.6024 - accuracy: 0.6685 - val_loss: 0.6328 - val_accuracy: 0.6283\n",
      "Epoch 42/50\n",
      "92/92 [==============================] - 1s 9ms/step - loss: 0.6024 - accuracy: 0.6685 - val_loss: 0.6326 - val_accuracy: 0.6283\n",
      "Epoch 43/50\n",
      "92/92 [==============================] - 1s 9ms/step - loss: 0.6023 - accuracy: 0.6688 - val_loss: 0.6327 - val_accuracy: 0.6283\n",
      "Epoch 44/50\n",
      "92/92 [==============================] - 1s 9ms/step - loss: 0.6022 - accuracy: 0.6688 - val_loss: 0.6327 - val_accuracy: 0.6283\n",
      "Epoch 45/50\n",
      "92/92 [==============================] - 1s 9ms/step - loss: 0.6022 - accuracy: 0.6687 - val_loss: 0.6326 - val_accuracy: 0.6283\n",
      "Epoch 46/50\n",
      "92/92 [==============================] - 1s 9ms/step - loss: 0.6021 - accuracy: 0.6688 - val_loss: 0.6325 - val_accuracy: 0.6283\n",
      "Epoch 47/50\n",
      "92/92 [==============================] - 1s 9ms/step - loss: 0.6020 - accuracy: 0.6687 - val_loss: 0.6325 - val_accuracy: 0.6283\n",
      "Epoch 48/50\n",
      "92/92 [==============================] - 1s 9ms/step - loss: 0.6020 - accuracy: 0.6688 - val_loss: 0.6323 - val_accuracy: 0.6283\n",
      "Epoch 49/50\n",
      "92/92 [==============================] - 1s 9ms/step - loss: 0.6019 - accuracy: 0.6688 - val_loss: 0.6322 - val_accuracy: 0.6283\n",
      "Epoch 50/50\n",
      "92/92 [==============================] - 1s 9ms/step - loss: 0.6018 - accuracy: 0.6689 - val_loss: 0.6322 - val_accuracy: 0.6283\n"
     ]
    },
    {
     "data": {
      "text/plain": [
       "<keras.callbacks.History at 0x25130b7b4f0>"
      ]
     },
     "execution_count": 134,
     "metadata": {},
     "output_type": "execute_result"
    }
   ],
   "source": [
    "model.fit(X_train, y_train, \n",
    "          validation_data=(X_valid, y_valid),\n",
    "          batch_size=150,\n",
    "          epochs=50)"
   ]
  },
  {
   "cell_type": "code",
   "execution_count": 135,
   "id": "8706765a",
   "metadata": {},
   "outputs": [
    {
     "data": {
      "image/png": "[encoded data removed]",
      "text/plain": [
       "<Figure size 432x288 with 1 Axes>"
      ]
     },
     "metadata": {
      "needs_background": "light"
     },
     "output_type": "display_data"
    }
   ],
   "source": [
    "plt.plot(model.history.history['accuracy'])\n",
    "plt.plot(model.history.history['val_accuracy'])\n",
    "plt.title('ft_model accuracy')\n",
    "plt.ylabel('accuracy')\n",
    "plt.xlabel('epoch')\n",
    "plt.legend(['train', 'val'], loc='upper left')\n",
    "plt.show()"
   ]
  },
  {
   "cell_type": "markdown",
   "id": "15f10557",
   "metadata": {},
   "source": [
    "## w2v"
   ]
  },
  {
   "cell_type": "code",
   "execution_count": 137,
   "id": "f8d3533f",
   "metadata": {},
   "outputs": [],
   "source": [
    "w2v_weights = np.zeros((len(word2id2), 100))\n",
    "\n",
    "for word, i in word2id2.items():\n",
    "\n",
    "    if word == 'PAD':\n",
    "        continue\n",
    "\n",
    "    try:\n",
    "        w2v_weights[i] = w2v.wv[word]\n",
    "    \n",
    "    except KeyError:\n",
    "        continue\n",
    "        w2v_weights[i] = w2v.wv['опрагпллирао']\n",
    "\n",
    "inputs = tf.keras.layers.Input(shape=(100,))\n",
    "\n",
    "embeddings = tf.keras.layers.Embedding(input_dim=len(word2id2), output_dim=100, \n",
    "                                       trainable=False,\n",
    "                                       weights=[w2v_weights])(inputs, )\n",
    "mean = tf.keras.layers.Lambda(lambda x: tf.keras.backend.mean(x,  axis=1))(embeddings)\n",
    "\n",
    "outputs = tf.keras.layers.Dense(1, activation='sigmoid')(mean)\n",
    "\n",
    "model = tf.keras.Model(inputs=inputs, outputs=outputs)\n",
    "optimizer = tf.keras.optimizers.Adam()\n",
    "model.compile(optimizer=optimizer,\n",
    "              loss='binary_crossentropy',\n",
    "              metrics=['accuracy'])"
   ]
  },
  {
   "cell_type": "code",
   "execution_count": 138,
   "id": "44e1bb87",
   "metadata": {
    "scrolled": false
   },
   "outputs": [
    {
     "name": "stdout",
     "output_type": "stream",
     "text": [
      "Epoch 1/50\n",
      "92/92 [==============================] - 10s 97ms/step - loss: 0.6512 - accuracy: 0.6509 - val_loss: 0.6518 - val_accuracy: 0.6283\n",
      "Epoch 2/50\n",
      "92/92 [==============================] - 1s 10ms/step - loss: 0.6216 - accuracy: 0.6650 - val_loss: 0.6421 - val_accuracy: 0.6283\n",
      "Epoch 3/50\n",
      "92/92 [==============================] - 1s 10ms/step - loss: 0.6090 - accuracy: 0.6659 - val_loss: 0.6331 - val_accuracy: 0.6283\n",
      "Epoch 4/50\n",
      "92/92 [==============================] - 1s 9ms/step - loss: 0.5992 - accuracy: 0.6663 - val_loss: 0.6246 - val_accuracy: 0.6297\n",
      "Epoch 5/50\n",
      "92/92 [==============================] - 1s 10ms/step - loss: 0.5909 - accuracy: 0.6666 - val_loss: 0.6169 - val_accuracy: 0.6297\n",
      "Epoch 6/50\n",
      "92/92 [==============================] - 1s 9ms/step - loss: 0.5837 - accuracy: 0.6673 - val_loss: 0.6101 - val_accuracy: 0.6338\n",
      "Epoch 7/50\n",
      "92/92 [==============================] - 1s 9ms/step - loss: 0.5774 - accuracy: 0.6691 - val_loss: 0.6039 - val_accuracy: 0.6380\n",
      "Epoch 8/50\n",
      "92/92 [==============================] - 1s 10ms/step - loss: 0.5719 - accuracy: 0.6715 - val_loss: 0.5993 - val_accuracy: 0.6366\n",
      "Epoch 9/50\n",
      "92/92 [==============================] - 1s 8ms/step - loss: 0.5670 - accuracy: 0.6727 - val_loss: 0.5945 - val_accuracy: 0.6394\n",
      "Epoch 10/50\n",
      "92/92 [==============================] - 1s 8ms/step - loss: 0.5626 - accuracy: 0.6759 - val_loss: 0.5907 - val_accuracy: 0.6422\n",
      "Epoch 11/50\n",
      "92/92 [==============================] - 1s 8ms/step - loss: 0.5587 - accuracy: 0.6788 - val_loss: 0.5868 - val_accuracy: 0.6463\n",
      "Epoch 12/50\n",
      "92/92 [==============================] - 1s 9ms/step - loss: 0.5551 - accuracy: 0.6842 - val_loss: 0.5831 - val_accuracy: 0.6505\n",
      "Epoch 13/50\n",
      "92/92 [==============================] - 1s 9ms/step - loss: 0.5518 - accuracy: 0.6865 - val_loss: 0.5808 - val_accuracy: 0.6463\n",
      "Epoch 14/50\n",
      "92/92 [==============================] - 1s 9ms/step - loss: 0.5488 - accuracy: 0.6894 - val_loss: 0.5778 - val_accuracy: 0.6436\n",
      "Epoch 15/50\n",
      "92/92 [==============================] - 1s 9ms/step - loss: 0.5461 - accuracy: 0.6908 - val_loss: 0.5746 - val_accuracy: 0.6505\n",
      "Epoch 16/50\n",
      "92/92 [==============================] - 1s 9ms/step - loss: 0.5435 - accuracy: 0.6966 - val_loss: 0.5726 - val_accuracy: 0.6546\n",
      "Epoch 17/50\n",
      "92/92 [==============================] - 1s 9ms/step - loss: 0.5411 - accuracy: 0.7007 - val_loss: 0.5710 - val_accuracy: 0.6546\n",
      "Epoch 18/50\n",
      "92/92 [==============================] - 1s 9ms/step - loss: 0.5389 - accuracy: 0.7017 - val_loss: 0.5686 - val_accuracy: 0.6616\n",
      "Epoch 19/50\n",
      "92/92 [==============================] - 1s 9ms/step - loss: 0.5368 - accuracy: 0.7062 - val_loss: 0.5670 - val_accuracy: 0.6616\n",
      "Epoch 20/50\n",
      "92/92 [==============================] - 1s 9ms/step - loss: 0.5348 - accuracy: 0.7072 - val_loss: 0.5650 - val_accuracy: 0.6671\n",
      "Epoch 21/50\n",
      "92/92 [==============================] - 1s 9ms/step - loss: 0.5329 - accuracy: 0.7116 - val_loss: 0.5633 - val_accuracy: 0.6699\n",
      "Epoch 22/50\n",
      "92/92 [==============================] - 1s 9ms/step - loss: 0.5312 - accuracy: 0.7158 - val_loss: 0.5626 - val_accuracy: 0.6699\n",
      "Epoch 23/50\n",
      "92/92 [==============================] - 1s 9ms/step - loss: 0.5296 - accuracy: 0.7160 - val_loss: 0.5609 - val_accuracy: 0.6685\n",
      "Epoch 24/50\n",
      "92/92 [==============================] - 1s 9ms/step - loss: 0.5280 - accuracy: 0.7183 - val_loss: 0.5595 - val_accuracy: 0.6755\n",
      "Epoch 25/50\n",
      "92/92 [==============================] - 1s 9ms/step - loss: 0.5265 - accuracy: 0.7202 - val_loss: 0.5581 - val_accuracy: 0.6838\n",
      "Epoch 26/50\n",
      "92/92 [==============================] - 1s 9ms/step - loss: 0.5252 - accuracy: 0.7214 - val_loss: 0.5569 - val_accuracy: 0.6838\n",
      "Epoch 27/50\n",
      "92/92 [==============================] - 1s 9ms/step - loss: 0.5238 - accuracy: 0.7259 - val_loss: 0.5555 - val_accuracy: 0.6865\n",
      "Epoch 28/50\n",
      "92/92 [==============================] - 1s 9ms/step - loss: 0.5225 - accuracy: 0.7276 - val_loss: 0.5552 - val_accuracy: 0.6879\n",
      "Epoch 29/50\n",
      "92/92 [==============================] - 1s 8ms/step - loss: 0.5213 - accuracy: 0.7276 - val_loss: 0.5539 - val_accuracy: 0.6852\n",
      "Epoch 30/50\n",
      "92/92 [==============================] - 1s 8ms/step - loss: 0.5201 - accuracy: 0.7292 - val_loss: 0.5526 - val_accuracy: 0.6921\n",
      "Epoch 31/50\n",
      "92/92 [==============================] - 1s 8ms/step - loss: 0.5191 - accuracy: 0.7318 - val_loss: 0.5521 - val_accuracy: 0.6935\n",
      "Epoch 32/50\n",
      "92/92 [==============================] - 1s 9ms/step - loss: 0.5180 - accuracy: 0.7319 - val_loss: 0.5508 - val_accuracy: 0.6907\n",
      "Epoch 33/50\n",
      "92/92 [==============================] - 1s 9ms/step - loss: 0.5170 - accuracy: 0.7338 - val_loss: 0.5502 - val_accuracy: 0.6907\n",
      "Epoch 34/50\n",
      "92/92 [==============================] - 1s 9ms/step - loss: 0.5160 - accuracy: 0.7342 - val_loss: 0.5496 - val_accuracy: 0.6907\n",
      "Epoch 35/50\n",
      "92/92 [==============================] - 1s 9ms/step - loss: 0.5151 - accuracy: 0.7352 - val_loss: 0.5492 - val_accuracy: 0.6921\n",
      "Epoch 36/50\n",
      "92/92 [==============================] - 1s 8ms/step - loss: 0.5142 - accuracy: 0.7368 - val_loss: 0.5482 - val_accuracy: 0.6949\n",
      "Epoch 37/50\n",
      "92/92 [==============================] - 1s 9ms/step - loss: 0.5134 - accuracy: 0.7376 - val_loss: 0.5474 - val_accuracy: 0.6949\n",
      "Epoch 38/50\n",
      "92/92 [==============================] - 1s 9ms/step - loss: 0.5125 - accuracy: 0.7381 - val_loss: 0.5473 - val_accuracy: 0.6935\n",
      "Epoch 39/50\n",
      "92/92 [==============================] - 1s 9ms/step - loss: 0.5118 - accuracy: 0.7376 - val_loss: 0.5460 - val_accuracy: 0.6976\n",
      "Epoch 40/50\n",
      "92/92 [==============================] - 1s 9ms/step - loss: 0.5110 - accuracy: 0.7386 - val_loss: 0.5455 - val_accuracy: 0.6990\n",
      "Epoch 41/50\n",
      "92/92 [==============================] - 1s 9ms/step - loss: 0.5103 - accuracy: 0.7398 - val_loss: 0.5457 - val_accuracy: 0.6990\n",
      "Epoch 42/50\n",
      "92/92 [==============================] - 1s 9ms/step - loss: 0.5096 - accuracy: 0.7400 - val_loss: 0.5448 - val_accuracy: 0.7018\n",
      "Epoch 43/50\n",
      "92/92 [==============================] - 1s 9ms/step - loss: 0.5090 - accuracy: 0.7422 - val_loss: 0.5441 - val_accuracy: 0.7018\n",
      "Epoch 44/50\n",
      "92/92 [==============================] - 1s 9ms/step - loss: 0.5083 - accuracy: 0.7432 - val_loss: 0.5444 - val_accuracy: 0.7018\n",
      "Epoch 45/50\n",
      "92/92 [==============================] - 1s 9ms/step - loss: 0.5077 - accuracy: 0.7414 - val_loss: 0.5428 - val_accuracy: 0.7046\n",
      "Epoch 46/50\n",
      "92/92 [==============================] - 1s 9ms/step - loss: 0.5070 - accuracy: 0.7453 - val_loss: 0.5433 - val_accuracy: 0.7032\n",
      "Epoch 47/50\n",
      "92/92 [==============================] - 1s 8ms/step - loss: 0.5065 - accuracy: 0.7439 - val_loss: 0.5433 - val_accuracy: 0.7018\n",
      "Epoch 48/50\n",
      "92/92 [==============================] - 1s 9ms/step - loss: 0.5059 - accuracy: 0.7455 - val_loss: 0.5420 - val_accuracy: 0.7060\n",
      "Epoch 49/50\n",
      "92/92 [==============================] - 1s 8ms/step - loss: 0.5054 - accuracy: 0.7452 - val_loss: 0.5414 - val_accuracy: 0.7101\n",
      "Epoch 50/50\n",
      "92/92 [==============================] - 1s 7ms/step - loss: 0.5049 - accuracy: 0.7464 - val_loss: 0.5408 - val_accuracy: 0.7115\n"
     ]
    },
    {
     "data": {
      "text/plain": [
       "<keras.callbacks.History at 0x25131b0b790>"
      ]
     },
     "execution_count": 138,
     "metadata": {},
     "output_type": "execute_result"
    }
   ],
   "source": [
    "model.fit(X_train, y_train, \n",
    "          validation_data=(X_valid, y_valid),\n",
    "          batch_size=150,\n",
    "          epochs=50)"
   ]
  },
  {
   "cell_type": "code",
   "execution_count": 139,
   "id": "7803f6f6",
   "metadata": {},
   "outputs": [
    {
     "data": {
      "image/png": "[encoded data removed]",
      "text/plain": [
       "<Figure size 432x288 with 1 Axes>"
      ]
     },
     "metadata": {
      "needs_background": "light"
     },
     "output_type": "display_data"
    }
   ],
   "source": [
    "plt.plot(model.history.history['accuracy'])\n",
    "plt.plot(model.history.history['val_accuracy'])\n",
    "plt.title('w2v_model accuracy')\n",
    "plt.ylabel('accuracy')\n",
    "plt.xlabel('epoch')\n",
    "plt.legend(['train', 'val'], loc='upper left')\n",
    "plt.show()"
   ]
  },
  {
   "cell_type": "markdown",
   "id": "9fd7a31a",
   "metadata": {},
   "source": [
    "**из приведённых выше моделей, лучшие результаты показала w2v_model (хотя при изменении параметров, в значительной степени меняются результаты)**"
   ]
  },
  {
   "cell_type": "markdown",
   "id": "7d4c5e43",
   "metadata": {},
   "source": [
    "## rus-vectores"
   ]
  }
 ],
 "metadata": {
  "kernelspec": {
   "display_name": "Python 3",
   "language": "python",
   "name": "python3"
  },
  "language_info": {
   "codemirror_mode": {
    "name": "ipython",
    "version": 3
   },
   "file_extension": ".py",
   "mimetype": "text/x-python",
   "name": "python",
   "nbconvert_exporter": "python",
   "pygments_lexer": "ipython3",
   "version": "3.8.8"
  }
 },
 "nbformat": 4,
 "nbformat_minor": 5
}
