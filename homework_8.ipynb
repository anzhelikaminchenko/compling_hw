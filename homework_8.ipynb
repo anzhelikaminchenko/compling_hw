{
 "cells": [
  {
   "cell_type": "code",
   "execution_count": 6,
   "id": "7f4c40e1",
   "metadata": {},
   "outputs": [],
   "source": [
    "import tensorflow as tf\n",
    "import pandas as pd\n",
    "import numpy as np\n",
    "from string import punctuation\n",
    "from sklearn.model_selection import train_test_split\n",
    "from collections import Counter\n",
    "from IPython.display import Image\n",
    "from IPython.core.display import HTML \n",
    "import matplotlib.pyplot as plt\n",
    "%matplotlib inline"
   ]
  },
  {
   "cell_type": "code",
   "execution_count": 3,
   "id": "25816e1e",
   "metadata": {},
   "outputs": [],
   "source": [
    "data = pd.read_csv('lenta_40k.csv')"
   ]
  },
  {
   "cell_type": "code",
   "execution_count": 4,
   "id": "6dc53fd0",
   "metadata": {},
   "outputs": [
    {
     "data": {
      "text/html": [
       "<div>\n",
       "<style scoped>\n",
       "    .dataframe tbody tr th:only-of-type {\n",
       "        vertical-align: middle;\n",
       "    }\n",
       "\n",
       "    .dataframe tbody tr th {\n",
       "        vertical-align: top;\n",
       "    }\n",
       "\n",
       "    .dataframe thead th {\n",
       "        text-align: right;\n",
       "    }\n",
       "</style>\n",
       "<table border=\"1\" class=\"dataframe\">\n",
       "  <thead>\n",
       "    <tr style=\"text-align: right;\">\n",
       "      <th></th>\n",
       "      <th>text</th>\n",
       "      <th>topic</th>\n",
       "    </tr>\n",
       "  </thead>\n",
       "  <tbody>\n",
       "    <tr>\n",
       "      <th>0</th>\n",
       "      <td>Россия должна сотрудничать с Всемирным антидоп...</td>\n",
       "      <td>Спорт</td>\n",
       "    </tr>\n",
       "    <tr>\n",
       "      <th>1</th>\n",
       "      <td>Уголовный суд Кувейта 28 июня освободил под за...</td>\n",
       "      <td>Мир</td>\n",
       "    </tr>\n",
       "    <tr>\n",
       "      <th>2</th>\n",
       "      <td>Французский журнал Charlie Hebdo опубликовал н...</td>\n",
       "      <td>Интернет и СМИ</td>\n",
       "    </tr>\n",
       "    <tr>\n",
       "      <th>3</th>\n",
       "      <td>В Петербурге в доме № 53 по улице Лени Голиков...</td>\n",
       "      <td>Россия</td>\n",
       "    </tr>\n",
       "    <tr>\n",
       "      <th>4</th>\n",
       "      <td>В московском аэропорту \"Домодедово\" задержан г...</td>\n",
       "      <td>Россия</td>\n",
       "    </tr>\n",
       "  </tbody>\n",
       "</table>\n",
       "</div>"
      ],
      "text/plain": [
       "                                                text           topic\n",
       "0  Россия должна сотрудничать с Всемирным антидоп...           Спорт\n",
       "1  Уголовный суд Кувейта 28 июня освободил под за...             Мир\n",
       "2  Французский журнал Charlie Hebdo опубликовал н...  Интернет и СМИ\n",
       "3  В Петербурге в доме № 53 по улице Лени Голиков...          Россия\n",
       "4  В московском аэропорту \"Домодедово\" задержан г...          Россия"
      ]
     },
     "execution_count": 4,
     "metadata": {},
     "output_type": "execute_result"
    }
   ],
   "source": [
    "data.head(5)"
   ]
  },
  {
   "cell_type": "code",
   "execution_count": 5,
   "id": "28750fad",
   "metadata": {},
   "outputs": [],
   "source": [
    "def preprocess(text):\n",
    "    tokens = text.lower().split()\n",
    "    tokens = [token.strip(punctuation) for token in tokens]\n",
    "    return tokens"
   ]
  },
  {
   "cell_type": "code",
   "execution_count": 6,
   "id": "1b53822b",
   "metadata": {},
   "outputs": [],
   "source": [
    "from tensorflow.keras import backend as K\n",
    "def f1(y_true, y_pred):\n",
    "    def recall(y_true, y_pred):\n",
    "        true_positives = K.sum(K.round(K.clip(y_true * y_pred, 0, 1)))\n",
    "        possible_positives = K.sum(K.round(K.clip(y_true, 0, 1)))\n",
    "        recall = true_positives / (possible_positives + K.epsilon())\n",
    "        return recall\n",
    "\n",
    "    def precision(y_true, y_pred):\n",
    "        true_positives = K.sum(K.round(K.clip(y_true * y_pred, 0, 1)))\n",
    "        predicted_positives = K.sum(K.round(K.clip(y_pred, 0, 1)))\n",
    "        precision = true_positives / (predicted_positives + K.epsilon())\n",
    "        return precision\n",
    "    precision = precision(y_true, y_pred)\n",
    "    recall = recall(y_true, y_pred)\n",
    "    return 2*((precision*recall)/(precision+recall+K.epsilon()))"
   ]
  },
  {
   "cell_type": "code",
   "execution_count": 7,
   "id": "a5253605",
   "metadata": {},
   "outputs": [],
   "source": [
    "vocab = Counter()\n",
    "\n",
    "for text in data.text:\n",
    "    vocab.update(preprocess(text))"
   ]
  },
  {
   "cell_type": "code",
   "execution_count": 8,
   "id": "702f0658",
   "metadata": {},
   "outputs": [],
   "source": [
    "# отфильтрованный словарь\n",
    "filtered_vocab = set()\n",
    "\n",
    "for word in vocab:\n",
    "    if vocab[word] > 30:\n",
    "        filtered_vocab.add(word)"
   ]
  },
  {
   "cell_type": "code",
   "execution_count": 9,
   "id": "bf154426",
   "metadata": {},
   "outputs": [],
   "source": [
    "# индексируем слова\n",
    "word2id = {'PAD':0, 'UNK':1}\n",
    "\n",
    "for word in filtered_vocab:\n",
    "    word2id[word] = len(word2id)"
   ]
  },
  {
   "cell_type": "code",
   "execution_count": 10,
   "id": "33f4dcb2",
   "metadata": {},
   "outputs": [],
   "source": [
    "id2word = {i:word for word, i in word2id.items()}"
   ]
  },
  {
   "cell_type": "code",
   "execution_count": 32,
   "id": "6ee9bd07",
   "metadata": {},
   "outputs": [],
   "source": [
    "# переводим тексты в последовательности индексов\n",
    "X = []\n",
    "\n",
    "for text in data.text:\n",
    "    tokens = preprocess(text)\n",
    "    ids = [word2id.get(token, 1) for token in tokens]\n",
    "    X.append(ids)"
   ]
  },
  {
   "cell_type": "code",
   "execution_count": 33,
   "id": "e47b7388",
   "metadata": {},
   "outputs": [],
   "source": [
    "MAX_LEN = max(len(x) for x in X)\n",
    "\n",
    "MEAN_LEN = np.median([len(x) for x in X])\n",
    "\n",
    "MAX_LEN = int(MEAN_LEN + 10)"
   ]
  },
  {
   "cell_type": "code",
   "execution_count": 34,
   "id": "6ce3e473",
   "metadata": {},
   "outputs": [],
   "source": [
    "# паддинг\n",
    "X = tf.keras.preprocessing.sequence.pad_sequences(X, maxlen=MAX_LEN)"
   ]
  },
  {
   "cell_type": "code",
   "execution_count": 35,
   "id": "667c27ff",
   "metadata": {},
   "outputs": [
    {
     "data": {
      "text/plain": [
       "(44356, 180)"
      ]
     },
     "execution_count": 35,
     "metadata": {},
     "output_type": "execute_result"
    }
   ],
   "source": [
    "X.shape"
   ]
  },
  {
   "cell_type": "code",
   "execution_count": 36,
   "id": "8cf7d09e",
   "metadata": {},
   "outputs": [],
   "source": [
    "id2label = {i:label for i, label in enumerate(set(data.topic.values))}\n",
    "label2id = {l:i for i, l in id2label.items()}"
   ]
  },
  {
   "cell_type": "code",
   "execution_count": 37,
   "id": "fbc5920c",
   "metadata": {},
   "outputs": [],
   "source": [
    "y = tf.keras.utils.to_categorical([label2id[label] for label in data.topic.values])"
   ]
  },
  {
   "cell_type": "code",
   "execution_count": 38,
   "id": "e078244f",
   "metadata": {},
   "outputs": [],
   "source": [
    "X_train, X_valid, y_train, y_valid = train_test_split(X, y, test_size=0.05, stratify=y)"
   ]
  },
  {
   "cell_type": "markdown",
   "id": "f4ea142f",
   "metadata": {},
   "source": [
    "### GRU"
   ]
  },
  {
   "cell_type": "code",
   "execution_count": 18,
   "id": "4d866c10",
   "metadata": {},
   "outputs": [],
   "source": [
    "inputs = tf.keras.layers.Input(shape=(MAX_LEN,))\n",
    "embeddings = tf.keras.layers.Embedding(input_dim=len(word2id), output_dim=30)(inputs, )\n",
    "\n",
    "rnn = tf.keras.layers.GRU(128, return_sequences=False)(embeddings)\n",
    "\n",
    "outputs = tf.keras.layers.Dense(len(label2id), activation='softmax')(rnn)\n",
    "\n",
    "model = tf.keras.Model(inputs=inputs, outputs=outputs)\n",
    "optimizer = tf.keras.optimizers.Adam(learning_rate=0.001)\n",
    "model.compile(optimizer=optimizer,\n",
    "              loss='categorical_crossentropy',\n",
    "              metrics=[f1, tf.keras.metrics.RecallAtPrecision(0.8, name='rec@prec')])"
   ]
  },
  {
   "cell_type": "code",
   "execution_count": 20,
   "id": "94ca653b",
   "metadata": {
    "scrolled": false
   },
   "outputs": [
    {
     "name": "stdout",
     "output_type": "stream",
     "text": [
      "Epoch 1/10\n",
      "43/43 [==============================] - 205s 5s/step - loss: 0.8409 - f1: 0.6947 - rec@prec: 0.6391 - val_loss: 1.4981 - val_f1: 0.5522 - val_rec@prec: 0.2962\n",
      "Epoch 2/10\n",
      "43/43 [==============================] - 206s 5s/step - loss: 0.7346 - f1: 0.7497 - rec@prec: 0.7357 - val_loss: 1.5150 - val_f1: 0.5887 - val_rec@prec: 0.3273\n",
      "Epoch 3/10\n",
      "43/43 [==============================] - 206s 5s/step - loss: 0.6475 - f1: 0.7863 - rec@prec: 0.7996 - val_loss: 1.5169 - val_f1: 0.6084 - val_rec@prec: 0.3841\n",
      "Epoch 4/10\n",
      "43/43 [==============================] - 205s 5s/step - loss: 0.5572 - f1: 0.8253 - rec@prec: 0.8555 - val_loss: 1.5515 - val_f1: 0.6132 - val_rec@prec: 0.4175\n",
      "Epoch 5/10\n",
      "43/43 [==============================] - 203s 5s/step - loss: 0.4963 - f1: 0.8467 - rec@prec: 0.8838 - val_loss: 1.7822 - val_f1: 0.6017 - val_rec@prec: 0.3305\n",
      "Epoch 6/10\n",
      "43/43 [==============================] - 203s 5s/step - loss: 0.4630 - f1: 0.8604 - rec@prec: 0.9037 - val_loss: 1.5859 - val_f1: 0.6233 - val_rec@prec: 0.4450\n",
      "Epoch 7/10\n",
      "43/43 [==============================] - 207s 5s/step - loss: 0.3695 - f1: 0.8954 - rec@prec: 0.9426 - val_loss: 1.6440 - val_f1: 0.6369 - val_rec@prec: 0.4639\n",
      "Epoch 8/10\n",
      "43/43 [==============================] - 206s 5s/step - loss: 0.3115 - f1: 0.9166 - rec@prec: 0.9593 - val_loss: 1.7290 - val_f1: 0.6251 - val_rec@prec: 0.4581\n",
      "Epoch 9/10\n",
      "43/43 [==============================] - 205s 5s/step - loss: 0.2667 - f1: 0.9321 - rec@prec: 0.9692 - val_loss: 1.8428 - val_f1: 0.6162 - val_rec@prec: 0.4319\n",
      "Epoch 10/10\n",
      "43/43 [==============================] - 206s 5s/step - loss: 0.2374 - f1: 0.9405 - rec@prec: 0.9746 - val_loss: 1.8971 - val_f1: 0.6125 - val_rec@prec: 0.4459\n"
     ]
    },
    {
     "data": {
      "text/plain": [
       "<keras.callbacks.History at 0x1bfa40cd970>"
      ]
     },
     "execution_count": 20,
     "metadata": {},
     "output_type": "execute_result"
    }
   ],
   "source": [
    "model.fit(X_train, y_train, \n",
    "          validation_data=(X_valid, y_valid),\n",
    "          batch_size=1000,\n",
    "         epochs=10)"
   ]
  },
  {
   "cell_type": "code",
   "execution_count": 21,
   "id": "b6ba1a42",
   "metadata": {},
   "outputs": [
    {
     "name": "stdout",
     "output_type": "stream",
     "text": [
      "dict_keys(['loss', 'f1', 'rec@prec', 'val_loss', 'val_f1', 'val_rec@prec'])\n"
     ]
    },
    {
     "data": {
      "image/png": "[encoded data removed]",
      "text/plain": [
       "<Figure size 432x288 with 1 Axes>"
      ]
     },
     "metadata": {
      "needs_background": "light"
     },
     "output_type": "display_data"
    }
   ],
   "source": [
    "print(model.history.history.keys())\n",
    "# summarize history for accuracy\n",
    "plt.plot(model.history.history['rec@prec'])\n",
    "plt.plot(model.history.history['val_rec@prec'])\n",
    "plt.title('model f1')\n",
    "plt.ylabel('f1')\n",
    "plt.xlabel('epoch')\n",
    "plt.legend(['train', 'val'], loc='upper left')\n",
    "plt.show()"
   ]
  },
  {
   "cell_type": "markdown",
   "id": "16b60694",
   "metadata": {},
   "source": [
    "### LSTM "
   ]
  },
  {
   "cell_type": "code",
   "execution_count": 24,
   "id": "219d2bd8",
   "metadata": {},
   "outputs": [
    {
     "name": "stdout",
     "output_type": "stream",
     "text": [
      "Epoch 1/10\n",
      "22/22 [==============================] - 236s 10s/step - loss: 2.6321 - f1: 0.0000e+00 - rec@prec: 0.0000e+00 - val_loss: 2.3631 - val_f1: 0.0000e+00 - val_rec@prec: 0.0000e+00\n",
      "Epoch 2/10\n",
      "22/22 [==============================] - 314s 14s/step - loss: 2.3312 - f1: 0.0000e+00 - rec@prec: 0.0000e+00 - val_loss: 2.3219 - val_f1: 0.0000e+00 - val_rec@prec: 0.0000e+00\n",
      "Epoch 3/10\n",
      "22/22 [==============================] - 298s 14s/step - loss: 2.3139 - f1: 0.0000e+00 - rec@prec: 2.3732e-05 - val_loss: 2.3062 - val_f1: 0.0000e+00 - val_rec@prec: 0.0027\n",
      "Epoch 4/10\n",
      "22/22 [==============================] - 287s 13s/step - loss: 2.2893 - f1: 0.0000e+00 - rec@prec: 4.7463e-05 - val_loss: 2.2798 - val_f1: 0.0000e+00 - val_rec@prec: 0.0023\n",
      "Epoch 5/10\n",
      "22/22 [==============================] - 190s 9s/step - loss: 2.2395 - f1: 0.0000e+00 - rec@prec: 2.8478e-04 - val_loss: 2.1524 - val_f1: 0.0000e+00 - val_rec@prec: 0.0023\n",
      "Epoch 6/10\n",
      "22/22 [==============================] - 163s 7s/step - loss: 2.0212 - f1: 0.0438 - rec@prec: 0.0026 - val_loss: 1.8995 - val_f1: 0.0906 - val_rec@prec: 0.0018\n",
      "Epoch 7/10\n",
      "22/22 [==============================] - 199s 9s/step - loss: 1.7651 - f1: 0.1980 - rec@prec: 0.0213 - val_loss: 1.7416 - val_f1: 0.2518 - val_rec@prec: 0.0045\n",
      "Epoch 8/10\n",
      "22/22 [==============================] - 183s 8s/step - loss: 1.5334 - f1: 0.4009 - rec@prec: 0.1621 - val_loss: 1.5048 - val_f1: 0.4383 - val_rec@prec: 0.2263\n",
      "Epoch 9/10\n",
      "22/22 [==============================] - 193s 9s/step - loss: 1.3901 - f1: 0.5012 - rec@prec: 0.2810 - val_loss: 1.4108 - val_f1: 0.5233 - val_rec@prec: 0.2223\n",
      "Epoch 10/10\n",
      "22/22 [==============================] - 192s 9s/step - loss: 1.2348 - f1: 0.5913 - rec@prec: 0.4091 - val_loss: 1.4122 - val_f1: 0.5526 - val_rec@prec: 0.2867\n",
      "dict_keys(['loss', 'f1', 'rec@prec', 'val_loss', 'val_f1', 'val_rec@prec'])\n"
     ]
    },
    {
     "data": {
      "image/png": "[encoded data removed]",
      "text/plain": [
       "<Figure size 432x288 with 1 Axes>"
      ]
     },
     "metadata": {
      "needs_background": "light"
     },
     "output_type": "display_data"
    }
   ],
   "source": [
    "inputs = tf.keras.layers.Input(shape=(MAX_LEN,))\n",
    "embeddings = tf.keras.layers.Embedding(input_dim=len(word2id), output_dim=30)(inputs, )\n",
    "\n",
    "lstm = tf.keras.layers.LSTM(128, return_sequences=False)(embeddings)\n",
    "\n",
    "outputs = tf.keras.layers.Dense(len(label2id), activation='softmax')(lstm)\n",
    "\n",
    "lstm = tf.keras.Model(inputs=inputs, outputs=outputs)\n",
    "optimizer = tf.keras.optimizers.Adam(learning_rate=0.001)\n",
    "lstm.compile(optimizer=optimizer,\n",
    "              loss='categorical_crossentropy',\n",
    "              metrics=[f1, tf.keras.metrics.RecallAtPrecision(0.8, name='rec@prec')])\n",
    "\n",
    "lstm.fit(X_train, y_train, \n",
    "          validation_data=(X_valid, y_valid),\n",
    "          batch_size=2000,\n",
    "         epochs=10)\n",
    "\n",
    "print(lstm.history.history.keys())\n",
    "# summarize history for accuracy\n",
    "plt.plot(lstm.history.history['rec@prec'])\n",
    "plt.plot(lstm.history.history['val_rec@prec'])\n",
    "plt.title('model f1')\n",
    "plt.ylabel('f1')\n",
    "plt.xlabel('epoch')\n",
    "plt.legend(['train', 'val'], loc='upper left')\n",
    "plt.show()"
   ]
  },
  {
   "cell_type": "markdown",
   "id": "cfda5af3",
   "metadata": {},
   "source": [
    "### GRU и LSTM "
   ]
  },
  {
   "cell_type": "code",
   "execution_count": 26,
   "id": "e9f8f4f9",
   "metadata": {},
   "outputs": [
    {
     "name": "stdout",
     "output_type": "stream",
     "text": [
      "Epoch 1/10\n",
      "22/22 [==============================] - 377s 17s/step - loss: 2.5559 - f1: 0.0000e+00 - rec@prec: 0.0000e+00 - val_loss: 2.3316 - val_f1: 0.0000e+00 - val_rec@prec: 0.0000e+00\n",
      "Epoch 2/10\n",
      "22/22 [==============================] - 362s 16s/step - loss: 2.3246 - f1: 0.0000e+00 - rec@prec: 0.0000e+00 - val_loss: 2.3170 - val_f1: 0.0000e+00 - val_rec@prec: 0.0000e+00\n",
      "Epoch 3/10\n",
      "22/22 [==============================] - 373s 17s/step - loss: 2.3083 - f1: 0.0000e+00 - rec@prec: 0.0000e+00 - val_loss: 2.2556 - val_f1: 0.0000e+00 - val_rec@prec: 4.5086e-04\n",
      "Epoch 4/10\n",
      "22/22 [==============================] - 350s 16s/step - loss: 2.0985 - f1: 0.0246 - rec@prec: 0.0235 - val_loss: 1.9662 - val_f1: 0.0540 - val_rec@prec: 0.0415\n",
      "Epoch 5/10\n",
      "22/22 [==============================] - 348s 16s/step - loss: 1.8263 - f1: 0.1091 - rec@prec: 0.0637 - val_loss: 1.7634 - val_f1: 0.1208 - val_rec@prec: 0.0708\n",
      "Epoch 6/10\n",
      "22/22 [==============================] - 347s 16s/step - loss: 1.6655 - f1: 0.1357 - rec@prec: 0.0865 - val_loss: 1.7417 - val_f1: 0.1345 - val_rec@prec: 0.0757\n",
      "Epoch 7/10\n",
      "22/22 [==============================] - 345s 16s/step - loss: 1.5859 - f1: 0.1512 - rec@prec: 0.0901 - val_loss: 1.6736 - val_f1: 0.1354 - val_rec@prec: 0.0942\n",
      "Epoch 8/10\n",
      "22/22 [==============================] - 356s 16s/step - loss: 1.5128 - f1: 0.1803 - rec@prec: 0.1055 - val_loss: 1.6645 - val_f1: 0.1412 - val_rec@prec: 0.1073\n",
      "Epoch 9/10\n",
      "22/22 [==============================] - 358s 16s/step - loss: 1.4496 - f1: 0.2553 - rec@prec: 0.1477 - val_loss: 1.6691 - val_f1: 0.2418 - val_rec@prec: 0.1109\n",
      "Epoch 10/10\n",
      "22/22 [==============================] - 351s 16s/step - loss: 1.3731 - f1: 0.3724 - rec@prec: 0.2229 - val_loss: 1.6079 - val_f1: 0.3955 - val_rec@prec: 0.1632\n",
      "dict_keys(['loss', 'f1', 'rec@prec', 'val_loss', 'val_f1', 'val_rec@prec'])\n"
     ]
    },
    {
     "data": {
      "image/png": "[encoded data removed]",
      "text/plain": [
       "<Figure size 432x288 with 1 Axes>"
      ]
     },
     "metadata": {
      "needs_background": "light"
     },
     "output_type": "display_data"
    }
   ],
   "source": [
    "inputs = tf.keras.layers.Input(shape=(MAX_LEN,))\n",
    "embeddings = tf.keras.layers.Embedding(input_dim=len(word2id), output_dim=30)(inputs, )\n",
    "\n",
    "gru = tf.keras.layers.GRU(128, return_sequences=True)(embeddings)\n",
    "lstm = tf.keras.layers.LSTM(128, return_sequences=False)(gru)\n",
    "\n",
    "outputs = tf.keras.layers.Dense(len(label2id), activation='softmax')(lstm)\n",
    "\n",
    "model = tf.keras.Model(inputs=inputs, outputs=outputs)\n",
    "optimizer = tf.keras.optimizers.Adam(learning_rate=0.001)\n",
    "model.compile(optimizer=optimizer,\n",
    "              loss='categorical_crossentropy',\n",
    "              metrics=[f1, tf.keras.metrics.RecallAtPrecision(0.8, name='rec@prec')])\n",
    "\n",
    "model.fit(X_train, y_train, \n",
    "          validation_data=(X_valid, y_valid),\n",
    "          batch_size=2000,\n",
    "         epochs=10)\n",
    "\n",
    "print(model.history.history.keys())\n",
    "# summarize history for accuracy\n",
    "plt.plot(model.history.history['rec@prec'])\n",
    "plt.plot(model.history.history['val_rec@prec'])\n",
    "plt.title('model f1')\n",
    "plt.ylabel('f1')\n",
    "plt.xlabel('epoch')\n",
    "plt.legend(['train', 'val'], loc='upper left')\n",
    "plt.show()"
   ]
  },
  {
   "cell_type": "markdown",
   "id": "a4420806",
   "metadata": {},
   "source": [
    "### BIGRU и 2 LSTM"
   ]
  },
  {
   "cell_type": "code",
   "execution_count": 27,
   "id": "0a54f42c",
   "metadata": {},
   "outputs": [
    {
     "name": "stdout",
     "output_type": "stream",
     "text": [
      "Epoch 1/10\n",
      "22/22 [==============================] - 1718s 78s/step - loss: 2.5643 - f1: 0.0000e+00 - rec@prec: 0.0000e+00 - val_loss: 2.3461 - val_f1: 0.0000e+00 - val_rec@prec: 0.0000e+00\n",
      "Epoch 2/10\n",
      "22/22 [==============================] - 1872s 85s/step - loss: 2.3337 - f1: 0.0000e+00 - rec@prec: 0.0000e+00 - val_loss: 2.3239 - val_f1: 0.0000e+00 - val_rec@prec: 0.0000e+00\n",
      "Epoch 3/10\n",
      "22/22 [==============================] - 2654s 122s/step - loss: 2.3220 - f1: 0.0000e+00 - rec@prec: 0.0000e+00 - val_loss: 2.3145 - val_f1: 0.0000e+00 - val_rec@prec: 0.0000e+00\n",
      "Epoch 4/10\n",
      "22/22 [==============================] - 3050s 138s/step - loss: 2.2104 - f1: 0.0000e+00 - rec@prec: 0.0029 - val_loss: 1.9774 - val_f1: 0.0000e+00 - val_rec@prec: 0.0158\n",
      "Epoch 5/10\n",
      "22/22 [==============================] - 2249s 101s/step - loss: 1.8377 - f1: 0.0868 - rec@prec: 0.0514 - val_loss: 1.7404 - val_f1: 0.1222 - val_rec@prec: 0.0676\n",
      "Epoch 6/10\n",
      "22/22 [==============================] - 1996s 91s/step - loss: 1.6727 - f1: 0.1535 - rec@prec: 0.0919 - val_loss: 1.7405 - val_f1: 0.1453 - val_rec@prec: 0.0906\n",
      "Epoch 7/10\n",
      "22/22 [==============================] - 2055s 93s/step - loss: 1.6013 - f1: 0.2082 - rec@prec: 0.1140 - val_loss: 1.7095 - val_f1: 0.1528 - val_rec@prec: 0.0857\n",
      "Epoch 8/10\n",
      "22/22 [==============================] - 1995s 91s/step - loss: 1.5532 - f1: 0.2454 - rec@prec: 0.1167 - val_loss: 1.6974 - val_f1: 0.2335 - val_rec@prec: 0.1087\n",
      "Epoch 9/10\n",
      "22/22 [==============================] - 2103s 95s/step - loss: 1.4968 - f1: 0.3068 - rec@prec: 0.1241 - val_loss: 1.6534 - val_f1: 0.2682 - val_rec@prec: 0.1429\n",
      "Epoch 10/10\n",
      "22/22 [==============================] - 2067s 94s/step - loss: 1.4488 - f1: 0.3549 - rec@prec: 0.1680 - val_loss: 1.6513 - val_f1: 0.3755 - val_rec@prec: 0.1510\n",
      "dict_keys(['loss', 'f1', 'rec@prec', 'val_loss', 'val_f1', 'val_rec@prec'])\n"
     ]
    },
    {
     "data": {
      "image/png": "[encoded data removed]",
      "text/plain": [
       "<Figure size 432x288 with 1 Axes>"
      ]
     },
     "metadata": {
      "needs_background": "light"
     },
     "output_type": "display_data"
    }
   ],
   "source": [
    "inputs = tf.keras.layers.Input(shape=(MAX_LEN,))\n",
    "embeddings = tf.keras.layers.Embedding(input_dim=len(word2id), output_dim=30)(inputs, )\n",
    "\n",
    "bigru = tf.keras.layers.Bidirectional(tf.keras.layers.GRU(128, return_sequences=True))(embeddings)\n",
    "lstm_1 = tf.keras.layers.LSTM(128, return_sequences=True)(bigru)\n",
    "lstm_2 = tf.keras.layers.LSTM(128, return_sequences=False)(lstm_1)\n",
    "\n",
    "dense = tf.keras.layers.Dense(64, activation='relu')(lstm_2)\n",
    "outputs = tf.keras.layers.Dense(len(label2id), activation='softmax')(dense)\n",
    "\n",
    "model = tf.keras.Model(inputs=inputs, outputs=outputs)\n",
    "optimizer = tf.keras.optimizers.Adam(learning_rate=0.001)\n",
    "model.compile(optimizer=optimizer,\n",
    "              loss='categorical_crossentropy',\n",
    "              metrics=[f1, tf.keras.metrics.RecallAtPrecision(0.8, name='rec@prec')])\n",
    "model.fit(X_train, y_train, \n",
    "          validation_data=(X_valid, y_valid),\n",
    "          batch_size=2000,\n",
    "          epochs=10)\n",
    "\n",
    "print(model.history.history.keys())\n",
    "# summarize history for accuracy\n",
    "plt.plot(model.history.history['rec@prec'])\n",
    "plt.plot(model.history.history['val_rec@prec'])\n",
    "plt.title('model f1')\n",
    "plt.ylabel('f1')\n",
    "plt.xlabel('epoch')\n",
    "plt.legend(['train', 'val'], loc='upper left')\n",
    "plt.show()"
   ]
  },
  {
   "cell_type": "markdown",
   "id": "4772ee36",
   "metadata": {},
   "source": [
    "### 5 GRU и 3 LSTM"
   ]
  },
  {
   "cell_type": "code",
   "execution_count": 40,
   "id": "01b3f49c",
   "metadata": {},
   "outputs": [
    {
     "name": "stdout",
     "output_type": "stream",
     "text": [
      "Epoch 1/10\n"
     ]
    },
    {
     "ename": "KeyboardInterrupt",
     "evalue": "",
     "output_type": "error",
     "traceback": [
      "\u001b[1;31m---------------------------------------------------------------------------\u001b[0m",
      "\u001b[1;31mKeyboardInterrupt\u001b[0m                         Traceback (most recent call last)",
      "\u001b[1;32m<ipython-input-40-72844015e046>\u001b[0m in \u001b[0;36m<module>\u001b[1;34m\u001b[0m\n\u001b[0;32m     20\u001b[0m               metrics=[f1, tf.keras.metrics.RecallAtPrecision(0.8, name='rec@prec')])\n\u001b[0;32m     21\u001b[0m \u001b[1;33m\u001b[0m\u001b[0m\n\u001b[1;32m---> 22\u001b[1;33m model.fit(X_train, y_train, \n\u001b[0m\u001b[0;32m     23\u001b[0m           \u001b[0mvalidation_data\u001b[0m\u001b[1;33m=\u001b[0m\u001b[1;33m(\u001b[0m\u001b[0mX_valid\u001b[0m\u001b[1;33m,\u001b[0m \u001b[0my_valid\u001b[0m\u001b[1;33m)\u001b[0m\u001b[1;33m,\u001b[0m\u001b[1;33m\u001b[0m\u001b[1;33m\u001b[0m\u001b[0m\n\u001b[0;32m     24\u001b[0m           \u001b[0mbatch_size\u001b[0m\u001b[1;33m=\u001b[0m\u001b[1;36m2000\u001b[0m\u001b[1;33m,\u001b[0m\u001b[1;33m\u001b[0m\u001b[1;33m\u001b[0m\u001b[0m\n",
      "\u001b[1;32m~\\anaconda3\\lib\\site-packages\\keras\\utils\\traceback_utils.py\u001b[0m in \u001b[0;36merror_handler\u001b[1;34m(*args, **kwargs)\u001b[0m\n\u001b[0;32m     62\u001b[0m     \u001b[0mfiltered_tb\u001b[0m \u001b[1;33m=\u001b[0m \u001b[1;32mNone\u001b[0m\u001b[1;33m\u001b[0m\u001b[1;33m\u001b[0m\u001b[0m\n\u001b[0;32m     63\u001b[0m     \u001b[1;32mtry\u001b[0m\u001b[1;33m:\u001b[0m\u001b[1;33m\u001b[0m\u001b[1;33m\u001b[0m\u001b[0m\n\u001b[1;32m---> 64\u001b[1;33m       \u001b[1;32mreturn\u001b[0m \u001b[0mfn\u001b[0m\u001b[1;33m(\u001b[0m\u001b[1;33m*\u001b[0m\u001b[0margs\u001b[0m\u001b[1;33m,\u001b[0m \u001b[1;33m**\u001b[0m\u001b[0mkwargs\u001b[0m\u001b[1;33m)\u001b[0m\u001b[1;33m\u001b[0m\u001b[1;33m\u001b[0m\u001b[0m\n\u001b[0m\u001b[0;32m     65\u001b[0m     \u001b[1;32mexcept\u001b[0m \u001b[0mException\u001b[0m \u001b[1;32mas\u001b[0m \u001b[0me\u001b[0m\u001b[1;33m:\u001b[0m  \u001b[1;31m# pylint: disable=broad-except\u001b[0m\u001b[1;33m\u001b[0m\u001b[1;33m\u001b[0m\u001b[0m\n\u001b[0;32m     66\u001b[0m       \u001b[0mfiltered_tb\u001b[0m \u001b[1;33m=\u001b[0m \u001b[0m_process_traceback_frames\u001b[0m\u001b[1;33m(\u001b[0m\u001b[0me\u001b[0m\u001b[1;33m.\u001b[0m\u001b[0m__traceback__\u001b[0m\u001b[1;33m)\u001b[0m\u001b[1;33m\u001b[0m\u001b[1;33m\u001b[0m\u001b[0m\n",
      "\u001b[1;32m~\\anaconda3\\lib\\site-packages\\keras\\engine\\training.py\u001b[0m in \u001b[0;36mfit\u001b[1;34m(self, x, y, batch_size, epochs, verbose, callbacks, validation_split, validation_data, shuffle, class_weight, sample_weight, initial_epoch, steps_per_epoch, validation_steps, validation_batch_size, validation_freq, max_queue_size, workers, use_multiprocessing)\u001b[0m\n\u001b[0;32m   1407\u001b[0m                 _r=1):\n\u001b[0;32m   1408\u001b[0m               \u001b[0mcallbacks\u001b[0m\u001b[1;33m.\u001b[0m\u001b[0mon_train_batch_begin\u001b[0m\u001b[1;33m(\u001b[0m\u001b[0mstep\u001b[0m\u001b[1;33m)\u001b[0m\u001b[1;33m\u001b[0m\u001b[1;33m\u001b[0m\u001b[0m\n\u001b[1;32m-> 1409\u001b[1;33m               \u001b[0mtmp_logs\u001b[0m \u001b[1;33m=\u001b[0m \u001b[0mself\u001b[0m\u001b[1;33m.\u001b[0m\u001b[0mtrain_function\u001b[0m\u001b[1;33m(\u001b[0m\u001b[0miterator\u001b[0m\u001b[1;33m)\u001b[0m\u001b[1;33m\u001b[0m\u001b[1;33m\u001b[0m\u001b[0m\n\u001b[0m\u001b[0;32m   1410\u001b[0m               \u001b[1;32mif\u001b[0m \u001b[0mdata_handler\u001b[0m\u001b[1;33m.\u001b[0m\u001b[0mshould_sync\u001b[0m\u001b[1;33m:\u001b[0m\u001b[1;33m\u001b[0m\u001b[1;33m\u001b[0m\u001b[0m\n\u001b[0;32m   1411\u001b[0m                 \u001b[0mcontext\u001b[0m\u001b[1;33m.\u001b[0m\u001b[0masync_wait\u001b[0m\u001b[1;33m(\u001b[0m\u001b[1;33m)\u001b[0m\u001b[1;33m\u001b[0m\u001b[1;33m\u001b[0m\u001b[0m\n",
      "\u001b[1;32m~\\anaconda3\\lib\\site-packages\\tensorflow\\python\\util\\traceback_utils.py\u001b[0m in \u001b[0;36merror_handler\u001b[1;34m(*args, **kwargs)\u001b[0m\n\u001b[0;32m    148\u001b[0m     \u001b[0mfiltered_tb\u001b[0m \u001b[1;33m=\u001b[0m \u001b[1;32mNone\u001b[0m\u001b[1;33m\u001b[0m\u001b[1;33m\u001b[0m\u001b[0m\n\u001b[0;32m    149\u001b[0m     \u001b[1;32mtry\u001b[0m\u001b[1;33m:\u001b[0m\u001b[1;33m\u001b[0m\u001b[1;33m\u001b[0m\u001b[0m\n\u001b[1;32m--> 150\u001b[1;33m       \u001b[1;32mreturn\u001b[0m \u001b[0mfn\u001b[0m\u001b[1;33m(\u001b[0m\u001b[1;33m*\u001b[0m\u001b[0margs\u001b[0m\u001b[1;33m,\u001b[0m \u001b[1;33m**\u001b[0m\u001b[0mkwargs\u001b[0m\u001b[1;33m)\u001b[0m\u001b[1;33m\u001b[0m\u001b[1;33m\u001b[0m\u001b[0m\n\u001b[0m\u001b[0;32m    151\u001b[0m     \u001b[1;32mexcept\u001b[0m \u001b[0mException\u001b[0m \u001b[1;32mas\u001b[0m \u001b[0me\u001b[0m\u001b[1;33m:\u001b[0m\u001b[1;33m\u001b[0m\u001b[1;33m\u001b[0m\u001b[0m\n\u001b[0;32m    152\u001b[0m       \u001b[0mfiltered_tb\u001b[0m \u001b[1;33m=\u001b[0m \u001b[0m_process_traceback_frames\u001b[0m\u001b[1;33m(\u001b[0m\u001b[0me\u001b[0m\u001b[1;33m.\u001b[0m\u001b[0m__traceback__\u001b[0m\u001b[1;33m)\u001b[0m\u001b[1;33m\u001b[0m\u001b[1;33m\u001b[0m\u001b[0m\n",
      "\u001b[1;32m~\\anaconda3\\lib\\site-packages\\tensorflow\\python\\eager\\def_function.py\u001b[0m in \u001b[0;36m__call__\u001b[1;34m(self, *args, **kwds)\u001b[0m\n\u001b[0;32m    913\u001b[0m \u001b[1;33m\u001b[0m\u001b[0m\n\u001b[0;32m    914\u001b[0m       \u001b[1;32mwith\u001b[0m \u001b[0mOptionalXlaContext\u001b[0m\u001b[1;33m(\u001b[0m\u001b[0mself\u001b[0m\u001b[1;33m.\u001b[0m\u001b[0m_jit_compile\u001b[0m\u001b[1;33m)\u001b[0m\u001b[1;33m:\u001b[0m\u001b[1;33m\u001b[0m\u001b[1;33m\u001b[0m\u001b[0m\n\u001b[1;32m--> 915\u001b[1;33m         \u001b[0mresult\u001b[0m \u001b[1;33m=\u001b[0m \u001b[0mself\u001b[0m\u001b[1;33m.\u001b[0m\u001b[0m_call\u001b[0m\u001b[1;33m(\u001b[0m\u001b[1;33m*\u001b[0m\u001b[0margs\u001b[0m\u001b[1;33m,\u001b[0m \u001b[1;33m**\u001b[0m\u001b[0mkwds\u001b[0m\u001b[1;33m)\u001b[0m\u001b[1;33m\u001b[0m\u001b[1;33m\u001b[0m\u001b[0m\n\u001b[0m\u001b[0;32m    916\u001b[0m \u001b[1;33m\u001b[0m\u001b[0m\n\u001b[0;32m    917\u001b[0m       \u001b[0mnew_tracing_count\u001b[0m \u001b[1;33m=\u001b[0m \u001b[0mself\u001b[0m\u001b[1;33m.\u001b[0m\u001b[0mexperimental_get_tracing_count\u001b[0m\u001b[1;33m(\u001b[0m\u001b[1;33m)\u001b[0m\u001b[1;33m\u001b[0m\u001b[1;33m\u001b[0m\u001b[0m\n",
      "\u001b[1;32m~\\anaconda3\\lib\\site-packages\\tensorflow\\python\\eager\\def_function.py\u001b[0m in \u001b[0;36m_call\u001b[1;34m(self, *args, **kwds)\u001b[0m\n\u001b[0;32m    978\u001b[0m         \u001b[1;31m# Lifting succeeded, so variables are initialized and we can run the\u001b[0m\u001b[1;33m\u001b[0m\u001b[1;33m\u001b[0m\u001b[1;33m\u001b[0m\u001b[0m\n\u001b[0;32m    979\u001b[0m         \u001b[1;31m# stateless function.\u001b[0m\u001b[1;33m\u001b[0m\u001b[1;33m\u001b[0m\u001b[1;33m\u001b[0m\u001b[0m\n\u001b[1;32m--> 980\u001b[1;33m         \u001b[1;32mreturn\u001b[0m \u001b[0mself\u001b[0m\u001b[1;33m.\u001b[0m\u001b[0m_stateless_fn\u001b[0m\u001b[1;33m(\u001b[0m\u001b[1;33m*\u001b[0m\u001b[0margs\u001b[0m\u001b[1;33m,\u001b[0m \u001b[1;33m**\u001b[0m\u001b[0mkwds\u001b[0m\u001b[1;33m)\u001b[0m\u001b[1;33m\u001b[0m\u001b[1;33m\u001b[0m\u001b[0m\n\u001b[0m\u001b[0;32m    981\u001b[0m     \u001b[1;32melse\u001b[0m\u001b[1;33m:\u001b[0m\u001b[1;33m\u001b[0m\u001b[1;33m\u001b[0m\u001b[0m\n\u001b[0;32m    982\u001b[0m       _, _, filtered_flat_args = (\n",
      "\u001b[1;32m~\\anaconda3\\lib\\site-packages\\tensorflow\\python\\eager\\function.py\u001b[0m in \u001b[0;36m__call__\u001b[1;34m(self, *args, **kwargs)\u001b[0m\n\u001b[0;32m   2451\u001b[0m       (graph_function,\n\u001b[0;32m   2452\u001b[0m        filtered_flat_args) = self._maybe_define_function(args, kwargs)\n\u001b[1;32m-> 2453\u001b[1;33m     return graph_function._call_flat(\n\u001b[0m\u001b[0;32m   2454\u001b[0m         filtered_flat_args, captured_inputs=graph_function.captured_inputs)  # pylint: disable=protected-access\n\u001b[0;32m   2455\u001b[0m \u001b[1;33m\u001b[0m\u001b[0m\n",
      "\u001b[1;32m~\\anaconda3\\lib\\site-packages\\tensorflow\\python\\eager\\function.py\u001b[0m in \u001b[0;36m_call_flat\u001b[1;34m(self, args, captured_inputs, cancellation_manager)\u001b[0m\n\u001b[0;32m   1858\u001b[0m         and executing_eagerly):\n\u001b[0;32m   1859\u001b[0m       \u001b[1;31m# No tape is watching; skip to running the function.\u001b[0m\u001b[1;33m\u001b[0m\u001b[1;33m\u001b[0m\u001b[1;33m\u001b[0m\u001b[0m\n\u001b[1;32m-> 1860\u001b[1;33m       return self._build_call_outputs(self._inference_function.call(\n\u001b[0m\u001b[0;32m   1861\u001b[0m           ctx, args, cancellation_manager=cancellation_manager))\n\u001b[0;32m   1862\u001b[0m     forward_backward = self._select_forward_and_backward_functions(\n",
      "\u001b[1;32m~\\anaconda3\\lib\\site-packages\\tensorflow\\python\\eager\\function.py\u001b[0m in \u001b[0;36mcall\u001b[1;34m(self, ctx, args, cancellation_manager)\u001b[0m\n\u001b[0;32m    495\u001b[0m       \u001b[1;32mwith\u001b[0m \u001b[0m_InterpolateFunctionError\u001b[0m\u001b[1;33m(\u001b[0m\u001b[0mself\u001b[0m\u001b[1;33m)\u001b[0m\u001b[1;33m:\u001b[0m\u001b[1;33m\u001b[0m\u001b[1;33m\u001b[0m\u001b[0m\n\u001b[0;32m    496\u001b[0m         \u001b[1;32mif\u001b[0m \u001b[0mcancellation_manager\u001b[0m \u001b[1;32mis\u001b[0m \u001b[1;32mNone\u001b[0m\u001b[1;33m:\u001b[0m\u001b[1;33m\u001b[0m\u001b[1;33m\u001b[0m\u001b[0m\n\u001b[1;32m--> 497\u001b[1;33m           outputs = execute.execute(\n\u001b[0m\u001b[0;32m    498\u001b[0m               \u001b[0mstr\u001b[0m\u001b[1;33m(\u001b[0m\u001b[0mself\u001b[0m\u001b[1;33m.\u001b[0m\u001b[0msignature\u001b[0m\u001b[1;33m.\u001b[0m\u001b[0mname\u001b[0m\u001b[1;33m)\u001b[0m\u001b[1;33m,\u001b[0m\u001b[1;33m\u001b[0m\u001b[1;33m\u001b[0m\u001b[0m\n\u001b[0;32m    499\u001b[0m               \u001b[0mnum_outputs\u001b[0m\u001b[1;33m=\u001b[0m\u001b[0mself\u001b[0m\u001b[1;33m.\u001b[0m\u001b[0m_num_outputs\u001b[0m\u001b[1;33m,\u001b[0m\u001b[1;33m\u001b[0m\u001b[1;33m\u001b[0m\u001b[0m\n",
      "\u001b[1;32m~\\anaconda3\\lib\\site-packages\\tensorflow\\python\\eager\\execute.py\u001b[0m in \u001b[0;36mquick_execute\u001b[1;34m(op_name, num_outputs, inputs, attrs, ctx, name)\u001b[0m\n\u001b[0;32m     52\u001b[0m   \u001b[1;32mtry\u001b[0m\u001b[1;33m:\u001b[0m\u001b[1;33m\u001b[0m\u001b[1;33m\u001b[0m\u001b[0m\n\u001b[0;32m     53\u001b[0m     \u001b[0mctx\u001b[0m\u001b[1;33m.\u001b[0m\u001b[0mensure_initialized\u001b[0m\u001b[1;33m(\u001b[0m\u001b[1;33m)\u001b[0m\u001b[1;33m\u001b[0m\u001b[1;33m\u001b[0m\u001b[0m\n\u001b[1;32m---> 54\u001b[1;33m     tensors = pywrap_tfe.TFE_Py_Execute(ctx._handle, device_name, op_name,\n\u001b[0m\u001b[0;32m     55\u001b[0m                                         inputs, attrs, num_outputs)\n\u001b[0;32m     56\u001b[0m   \u001b[1;32mexcept\u001b[0m \u001b[0mcore\u001b[0m\u001b[1;33m.\u001b[0m\u001b[0m_NotOkStatusException\u001b[0m \u001b[1;32mas\u001b[0m \u001b[0me\u001b[0m\u001b[1;33m:\u001b[0m\u001b[1;33m\u001b[0m\u001b[1;33m\u001b[0m\u001b[0m\n",
      "\u001b[1;31mKeyboardInterrupt\u001b[0m: "
     ]
    }
   ],
   "source": [
    "inputs = tf.keras.layers.Input(shape=(MAX_LEN,))\n",
    "embeddings = tf.keras.layers.Embedding(input_dim=len(word2id), output_dim=10)(inputs, )\n",
    "\n",
    "gru_1 = tf.keras.layers.GRU(128, return_sequences=True)(embeddings)\n",
    "gru_2 = tf.keras.layers.GRU(128, return_sequences=True)(gru_1)\n",
    "gru_3 = tf.keras.layers.GRU(128, return_sequences=True)(gru_2)\n",
    "gru_4 = tf.keras.layers.GRU(128, return_sequences=True)(gru_3)\n",
    "gru_5 = tf.keras.layers.GRU(128, return_sequences=True)(gru_4)\n",
    "\n",
    "lstm_1 = tf.keras.layers.LSTM(128, return_sequences=True)(gru_5)\n",
    "lstm_2 = tf.keras.layers.LSTM(128, return_sequences=True)(lstm_1)\n",
    "lstm_3 = tf.keras.layers.LSTM(128, return_sequences=False)(lstm_2)\n",
    "\n",
    "outputs = tf.keras.layers.Dense(len(label2id), activation='softmax')(lstm_3)\n",
    "\n",
    "model = tf.keras.Model(inputs=inputs, outputs=outputs)\n",
    "optimizer = tf.keras.optimizers.Adam(learning_rate=0.0001)\n",
    "model.compile(optimizer=optimizer,\n",
    "              loss='categorical_crossentropy',\n",
    "              metrics=[f1, tf.keras.metrics.RecallAtPrecision(0.8, name='rec@prec')])\n",
    "\n",
    "model.fit(X_train, y_train, \n",
    "          validation_data=(X_valid, y_valid),\n",
    "          batch_size=2000,\n",
    "         epochs=10)\n",
    "\n",
    "print(model.history.history.keys())\n",
    "# summarize history for accuracy\n",
    "plt.plot(model.history.history['rec@prec'])\n",
    "plt.plot(model.history.history['val_rec@prec'])\n",
    "plt.title('model f1')\n",
    "plt.ylabel('f1')\n",
    "plt.xlabel('epoch')\n",
    "plt.legend(['train', 'val'], loc='upper left')\n",
    "plt.show()"
   ]
  },
  {
   "cell_type": "markdown",
   "id": "00fc0527",
   "metadata": {},
   "source": [
    "### 1 BIGRU и 1 BILSTM"
   ]
  },
  {
   "cell_type": "code",
   "execution_count": null,
   "id": "6a93b395",
   "metadata": {},
   "outputs": [],
   "source": [
    "inputs = tf.keras.layers.Input(shape=(MAX_LEN,))\n",
    "embeddings = tf.keras.layers.Embedding(input_dim=len(word2id), output_dim=10)(inputs, )\n",
    "\n",
    "bigru_forward = tf.keras.layers.Bidirectional(\n",
    "    tf.keras.layers.GRU(128, return_sequences=True),\n",
    "    backward_layer=tf.keras.layers.GRU(32, return_sequences=True, go_backwards=True)\n",
    "    )(embeddings)\n",
    "\n",
    "bilstm_backward = tf.keras.layers.Bidirectional(\n",
    "    tf.keras.layers.LSTM(128, return_sequences=False),\n",
    "    backward_layer=tf.keras.layers.LSTM(128, return_sequences=False, go_backwards=True)\n",
    "    )(bigru_fw)\n",
    "\n",
    "outputs = tf.keras.layers.Dense(len(label2id), activation='softmax')(bilstm_bw)\n",
    "\n",
    "model = tf.keras.Model(inputs=inputs, outputs=outputs)\n",
    "optimizer = tf.keras.optimizers.Adam(learning_rate=0.001)\n",
    "model.compile(optimizer=optimizer,\n",
    "              loss='categorical_crossentropy',\n",
    "              metrics=[f1, tf.keras.metrics.RecallAtPrecision(0.8, name='rec@prec')])\n",
    "\n",
    "model.fit(X_train, y_train, \n",
    "          validation_data=(X_valid, y_valid),\n",
    "          batch_size=2000,\n",
    "         epochs=10)"
   ]
  },
  {
   "cell_type": "markdown",
   "id": "80644cf2",
   "metadata": {},
   "source": [
    "### LSTM, GRU, BILSTM, BIGRU, GRU, LSTM"
   ]
  },
  {
   "cell_type": "code",
   "execution_count": null,
   "id": "37829f29",
   "metadata": {},
   "outputs": [],
   "source": [
    "inputs = tf.keras.layers.Input(shape=(MAX_LEN,))\n",
    "embeddings = tf.keras.layers.Embedding(input_dim=len(word2id), output_dim=30)(inputs, )\n",
    "\n",
    "lstm = tf.keras.layers.LSTM(128, return_sequences=True)(embeddings)\n",
    "gru = tf.keras.layers.GRU(128, return_sequences=True)(lstm)\n",
    "bilstm = tf.keras.layers.Bidirectional(tf.keras.layers.LSTM(128, return_sequences=True))(gru)\n",
    "bigru = tf.keras.layers.Bidirectional(tf.keras.layers.GRU(128, return_sequences=True))(bilstm)\n",
    "gru_1 = tf.keras.layers.GRU(128, return_sequences=True)(bigru)\n",
    "lstm_1 = tf.keras.layers.LSTM(128, return_sequences=False)(gru_1)\n",
    "\n",
    "dense = tf.keras.layers.Dense(64, activation='relu')(lstm_1)\n",
    "outputs = tf.keras.layers.Dense(len(label2id), activation='softmax')(dense)\n",
    "\n",
    "model = tf.keras.Model(inputs=inputs, outputs=outputs)\n",
    "optimizer = tf.keras.optimizers.Adam(learning_rate=0.001)\n",
    "model.compile(optimizer=optimizer,\n",
    "              loss='categorical_crossentropy',\n",
    "              metrics=[f1, tf.keras.metrics.RecallAtPrecision(0.8, name='rec@prec')])\n",
    "\n",
    "model.fit(X_train, y_train, \n",
    "          validation_data=(X_valid, y_valid),\n",
    "          batch_size=2000,\n",
    "         epochs=10)\n",
    "\n",
    "print(model.history.history.keys())\n",
    "# summarize history for accuracy\n",
    "plt.plot(model.history.history['rec@prec'])\n",
    "plt.plot(model.history.history['val_rec@prec'])\n",
    "plt.title('model f1')\n",
    "plt.ylabel('f1')\n",
    "plt.xlabel('epoch')\n",
    "plt.legend(['train', 'val'], loc='upper left')\n",
    "plt.show()"
   ]
  },
  {
   "cell_type": "markdown",
   "id": "0041c859",
   "metadata": {},
   "source": [
    "**модели обучаются невыносимо долго и почти полностью сжирают компьютер (чем больше слоёв, тем хуже), поэтому последние три я решила не обучать. к тому же качество с каждым новым слоем падает. из обученных моделей лучше всего себя показала модель с одним слоем gru**"
   ]
  },
  {
   "cell_type": "markdown",
   "id": "e2dc3b16",
   "metadata": {},
   "source": [
    "# Задание 2"
   ]
  },
  {
   "cell_type": "code",
   "execution_count": 2,
   "id": "9a657140",
   "metadata": {
    "scrolled": true
   },
   "outputs": [
    {
     "name": "stdout",
     "output_type": "stream",
     "text": [
      "Collecting datasets\n",
      "  Downloading datasets-2.3.2-py3-none-any.whl (362 kB)\n",
      "Collecting tqdm>=4.62.1\n",
      "  Downloading tqdm-4.64.0-py2.py3-none-any.whl (78 kB)\n",
      "Collecting multiprocess\n",
      "  Downloading multiprocess-0.70.13-py38-none-any.whl (131 kB)\n",
      "Collecting xxhash\n",
      "  Downloading xxhash-3.0.0-cp38-cp38-win_amd64.whl (29 kB)\n",
      "Requirement already satisfied: numpy>=1.17 in c:\\users\\howto\\anaconda3\\lib\\site-packages (from datasets) (1.20.1)\n",
      "Requirement already satisfied: pandas in c:\\users\\howto\\anaconda3\\lib\\site-packages (from datasets) (1.2.4)\n",
      "Collecting pyarrow>=6.0.0\n",
      "  Downloading pyarrow-8.0.0-cp38-cp38-win_amd64.whl (17.9 MB)\n",
      "Requirement already satisfied: aiohttp in c:\\users\\howto\\anaconda3\\lib\\site-packages (from datasets) (3.8.1)\n",
      "Collecting fsspec[http]>=2021.05.0\n",
      "  Downloading fsspec-2022.5.0-py3-none-any.whl (140 kB)\n",
      "Requirement already satisfied: packaging in c:\\users\\howto\\anaconda3\\lib\\site-packages (from datasets) (20.9)\n",
      "Collecting dill<0.3.6\n",
      "  Downloading dill-0.3.5.1-py2.py3-none-any.whl (95 kB)\n",
      "Requirement already satisfied: requests>=2.19.0 in c:\\users\\howto\\anaconda3\\lib\\site-packages (from datasets) (2.25.1)\n",
      "Collecting huggingface-hub<1.0.0,>=0.1.0\n",
      "  Downloading huggingface_hub-0.7.0-py3-none-any.whl (86 kB)\n",
      "Collecting responses<0.19\n",
      "  Downloading responses-0.18.0-py3-none-any.whl (38 kB)\n",
      "Requirement already satisfied: typing-extensions>=3.7.4.3 in c:\\users\\howto\\anaconda3\\lib\\site-packages (from huggingface-hub<1.0.0,>=0.1.0->datasets) (3.7.4.3)\n",
      "Requirement already satisfied: filelock in c:\\users\\howto\\anaconda3\\lib\\site-packages (from huggingface-hub<1.0.0,>=0.1.0->datasets) (3.0.12)\n",
      "Requirement already satisfied: pyyaml>=5.1 in c:\\users\\howto\\anaconda3\\lib\\site-packages (from huggingface-hub<1.0.0,>=0.1.0->datasets) (5.4.1)\n",
      "Requirement already satisfied: pyparsing>=2.0.2 in c:\\users\\howto\\anaconda3\\lib\\site-packages (from packaging->datasets) (2.4.7)\n",
      "Requirement already satisfied: certifi>=2017.4.17 in c:\\users\\howto\\anaconda3\\lib\\site-packages (from requests>=2.19.0->datasets) (2021.10.8)\n",
      "Requirement already satisfied: urllib3<1.27,>=1.21.1 in c:\\users\\howto\\anaconda3\\lib\\site-packages (from requests>=2.19.0->datasets) (1.26.4)\n",
      "Requirement already satisfied: chardet<5,>=3.0.2 in c:\\users\\howto\\anaconda3\\lib\\site-packages (from requests>=2.19.0->datasets) (4.0.0)\n",
      "Requirement already satisfied: idna<3,>=2.5 in c:\\users\\howto\\anaconda3\\lib\\site-packages (from requests>=2.19.0->datasets) (2.10)\n",
      "Requirement already satisfied: colorama in c:\\users\\howto\\anaconda3\\lib\\site-packages (from tqdm>=4.62.1->datasets) (0.4.4)\n",
      "Requirement already satisfied: attrs>=17.3.0 in c:\\users\\howto\\anaconda3\\lib\\site-packages (from aiohttp->datasets) (20.3.0)\n",
      "Requirement already satisfied: charset-normalizer<3.0,>=2.0 in c:\\users\\howto\\anaconda3\\lib\\site-packages (from aiohttp->datasets) (2.0.12)\n",
      "Requirement already satisfied: aiosignal>=1.1.2 in c:\\users\\howto\\anaconda3\\lib\\site-packages (from aiohttp->datasets) (1.2.0)\n",
      "Requirement already satisfied: multidict<7.0,>=4.5 in c:\\users\\howto\\anaconda3\\lib\\site-packages (from aiohttp->datasets) (6.0.2)\n",
      "Requirement already satisfied: async-timeout<5.0,>=4.0.0a3 in c:\\users\\howto\\anaconda3\\lib\\site-packages (from aiohttp->datasets) (4.0.2)\n",
      "Requirement already satisfied: frozenlist>=1.1.1 in c:\\users\\howto\\anaconda3\\lib\\site-packages (from aiohttp->datasets) (1.3.0)\n",
      "Requirement already satisfied: yarl<2.0,>=1.0 in c:\\users\\howto\\anaconda3\\lib\\site-packages (from aiohttp->datasets) (1.7.2)\n",
      "Requirement already satisfied: pytz>=2017.3 in c:\\users\\howto\\anaconda3\\lib\\site-packages (from pandas->datasets) (2021.1)\n",
      "Requirement already satisfied: python-dateutil>=2.7.3 in c:\\users\\howto\\anaconda3\\lib\\site-packages (from pandas->datasets) (2.8.1)\n",
      "Requirement already satisfied: six>=1.5 in c:\\users\\howto\\anaconda3\\lib\\site-packages (from python-dateutil>=2.7.3->pandas->datasets) (1.15.0)\n",
      "Installing collected packages: tqdm, fsspec, dill, xxhash, responses, pyarrow, multiprocess, huggingface-hub, datasets\n",
      "  Attempting uninstall: tqdm\n",
      "    Found existing installation: tqdm 4.59.0\n",
      "    Uninstalling tqdm-4.59.0:\n",
      "      Successfully uninstalled tqdm-4.59.0\n",
      "  Attempting uninstall: fsspec\n",
      "    Found existing installation: fsspec 0.9.0\n",
      "    Uninstalling fsspec-0.9.0:\n",
      "      Successfully uninstalled fsspec-0.9.0\n",
      "Successfully installed datasets-2.3.2 dill-0.3.5.1 fsspec-2022.5.0 huggingface-hub-0.7.0 multiprocess-0.70.13 pyarrow-8.0.0 responses-0.18.0 tqdm-4.64.0 xxhash-3.0.0\n"
     ]
    }
   ],
   "source": [
    "!pip install datasets"
   ]
  },
  {
   "cell_type": "code",
   "execution_count": 3,
   "id": "93253b39",
   "metadata": {},
   "outputs": [],
   "source": [
    "from datasets import load_dataset"
   ]
  },
  {
   "cell_type": "code",
   "execution_count": 4,
   "id": "d2f2699f",
   "metadata": {},
   "outputs": [
    {
     "data": {
      "application/vnd.jupyter.widget-view+json": {
       "model_id": "327d6acd5eb3440dbd16e6a351c9212b",
       "version_major": 2,
       "version_minor": 0
      },
      "text/plain": [
       "Downloading builder script:   0%|          | 0.00/3.94k [00:00<?, ?B/s]"
      ]
     },
     "metadata": {},
     "output_type": "display_data"
    },
    {
     "data": {
      "application/vnd.jupyter.widget-view+json": {
       "model_id": "90fc17600ac643f784839deb6157268f",
       "version_major": 2,
       "version_minor": 0
      },
      "text/plain": [
       "Downloading metadata:   0%|          | 0.00/12.6k [00:00<?, ?B/s]"
      ]
     },
     "metadata": {},
     "output_type": "display_data"
    },
    {
     "name": "stdout",
     "output_type": "stream",
     "text": [
      "Downloading and preparing dataset wikiann/ru (download: 223.17 MiB, generated: 9.87 MiB, post-processed: Unknown size, total: 233.04 MiB) to C:\\Users\\howto\\.cache\\huggingface\\datasets\\wikiann\\ru\\1.1.0\\4bfd4fe4468ab78bb6e096968f61fab7a888f44f9d3371c2f3fea7e74a5a354e...\n"
     ]
    },
    {
     "data": {
      "application/vnd.jupyter.widget-view+json": {
       "model_id": "6c3d97bd7916488e94214ecc9f50e9dd",
       "version_major": 2,
       "version_minor": 0
      },
      "text/plain": [
       "Downloading data:   0%|          | 0.00/234M [00:00<?, ?B/s]"
      ]
     },
     "metadata": {},
     "output_type": "display_data"
    },
    {
     "data": {
      "application/vnd.jupyter.widget-view+json": {
       "model_id": "",
       "version_major": 2,
       "version_minor": 0
      },
      "text/plain": [
       "Generating validation split:   0%|          | 0/10000 [00:00<?, ? examples/s]"
      ]
     },
     "metadata": {},
     "output_type": "display_data"
    },
    {
     "data": {
      "application/vnd.jupyter.widget-view+json": {
       "model_id": "",
       "version_major": 2,
       "version_minor": 0
      },
      "text/plain": [
       "Generating test split:   0%|          | 0/10000 [00:00<?, ? examples/s]"
      ]
     },
     "metadata": {},
     "output_type": "display_data"
    },
    {
     "data": {
      "application/vnd.jupyter.widget-view+json": {
       "model_id": "",
       "version_major": 2,
       "version_minor": 0
      },
      "text/plain": [
       "Generating train split:   0%|          | 0/20000 [00:00<?, ? examples/s]"
      ]
     },
     "metadata": {},
     "output_type": "display_data"
    },
    {
     "name": "stdout",
     "output_type": "stream",
     "text": [
      "Dataset wikiann downloaded and prepared to C:\\Users\\howto\\.cache\\huggingface\\datasets\\wikiann\\ru\\1.1.0\\4bfd4fe4468ab78bb6e096968f61fab7a888f44f9d3371c2f3fea7e74a5a354e. Subsequent calls will reuse this data.\n"
     ]
    },
    {
     "data": {
      "application/vnd.jupyter.widget-view+json": {
       "model_id": "6cb7681c77fa432da30430fd03244b3a",
       "version_major": 2,
       "version_minor": 0
      },
      "text/plain": [
       "  0%|          | 0/3 [00:00<?, ?it/s]"
      ]
     },
     "metadata": {},
     "output_type": "display_data"
    }
   ],
   "source": [
    "dataset = load_dataset(\"wikiann\", 'ru')"
   ]
  },
  {
   "cell_type": "code",
   "execution_count": 7,
   "id": "d04c39d7",
   "metadata": {},
   "outputs": [],
   "source": [
    "vocab = Counter()\n",
    "\n",
    "for sent in dataset['train']['tokens']:\n",
    "    vocab.update([x.lower() for x in sent])\n",
    "\n",
    "word2id = {'PAD':0, 'UNK':1}\n",
    "\n",
    "for word in vocab:\n",
    "    word2id[word] = len(word2id)\n",
    "\n",
    "id2word = {i:word for word, i in word2id.items()}\n",
    "\n",
    "X = []\n",
    "\n",
    "for sent in dataset['train']['tokens']:\n",
    "    tokens = [w.lower() for w in sent]\n",
    "    ids = [word2id.get(token, 1) for token in tokens]\n",
    "    X.append(ids)\n",
    "    \n",
    "X_test = []\n",
    "\n",
    "for sent in dataset['test']['tokens']:\n",
    "    tokens = [w.lower() for w in sent]\n",
    "    ids = [word2id.get(token, 1) for token in tokens]\n",
    "    X_test.append(ids)\n",
    "    \n",
    "MAX_LEN = max(len(x) for x in X)\n",
    "\n",
    "# паддинг\n",
    "X = tf.keras.preprocessing.sequence.pad_sequences(X, maxlen=MAX_LEN, padding='post')\n",
    "X_test = tf.keras.preprocessing.sequence.pad_sequences(X_test, maxlen=MAX_LEN, padding='post')\n",
    "\n",
    "id2labels = {0:'O', 1:'B-PER', 2:'I-PER', 3:'B-ORG', 4:'I-ORG', 5: 'B-LOC', 6:'I-LOC', 7:'PAD'}\n",
    "label2id = {v:k for k,v in id2labels.items()}\n",
    "\n",
    "y = tf.keras.preprocessing.sequence.pad_sequences(dataset['train']['ner_tags'], value=7,\n",
    "                                                  maxlen=MAX_LEN,  padding='post')\n",
    "y_test = tf.keras.preprocessing.sequence.pad_sequences(dataset['test']['ner_tags'], value=7,\n",
    "                                                       maxlen=MAX_LEN,  padding='post')"
   ]
  },
  {
   "cell_type": "markdown",
   "id": "2fe0d7bd",
   "metadata": {},
   "source": [
    "#### BILSTM"
   ]
  },
  {
   "cell_type": "code",
   "execution_count": 8,
   "id": "a942886c",
   "metadata": {},
   "outputs": [
    {
     "name": "stdout",
     "output_type": "stream",
     "text": [
      "Epoch 1/5\n",
      "157/157 [==============================] - 258s 2s/step - loss: 0.2547 - accuracy: 0.9307 - val_loss: 0.1473 - val_accuracy: 0.9539\n",
      "Epoch 2/5\n",
      "157/157 [==============================] - 233s 1s/step - loss: 0.1230 - accuracy: 0.9605 - val_loss: 0.1003 - val_accuracy: 0.9687\n",
      "Epoch 3/5\n",
      "157/157 [==============================] - 233s 1s/step - loss: 0.0571 - accuracy: 0.9823 - val_loss: 0.0544 - val_accuracy: 0.9831\n",
      "Epoch 4/5\n",
      "157/157 [==============================] - 233s 1s/step - loss: 0.0205 - accuracy: 0.9942 - val_loss: 0.0535 - val_accuracy: 0.9836\n",
      "Epoch 5/5\n",
      "157/157 [==============================] - 230s 1s/step - loss: 0.0097 - accuracy: 0.9975 - val_loss: 0.0571 - val_accuracy: 0.9836\n"
     ]
    },
    {
     "data": {
      "text/plain": [
       "<keras.callbacks.History at 0x280676b17f0>"
      ]
     },
     "execution_count": 8,
     "metadata": {},
     "output_type": "execute_result"
    }
   ],
   "source": [
    "inputs = tf.keras.layers.Input(shape=(MAX_LEN,))\n",
    "embeddings = tf.keras.layers.Embedding(input_dim=len(word2id), output_dim=100)(inputs)\n",
    "\n",
    "lstm_1 = tf.keras.layers.Bidirectional(tf.keras.layers.LSTM(128, return_sequences=True))(embeddings)\n",
    "lstm_2 = tf.keras.layers.Bidirectional(tf.keras.layers.LSTM(128, return_sequences=True))(lstm_1)\n",
    "\n",
    "outputs = tf.keras.layers.Dense(len(label2id), activation='softmax')(lstm_2)\n",
    "\n",
    "bilstm_model = tf.keras.Model(inputs=inputs, outputs=outputs)\n",
    "bilstm_model.compile(optimizer='adam',\n",
    "              loss='sparse_categorical_crossentropy', \n",
    "             metrics=['accuracy'])\n",
    "\n",
    "bilstm_model.fit(X, y, \n",
    "          validation_data=(X_test, y_test),\n",
    "          batch_size=128,\n",
    "          epochs=5)"
   ]
  },
  {
   "cell_type": "code",
   "execution_count": 9,
   "id": "4bd94cb0",
   "metadata": {},
   "outputs": [
    {
     "name": "stdout",
     "output_type": "stream",
     "text": [
      "dict_keys(['loss', 'accuracy', 'val_loss', 'val_accuracy'])\n"
     ]
    },
    {
     "data": {
      "image/png": "[encoded data removed]",
      "text/plain": [
       "<Figure size 432x288 with 1 Axes>"
      ]
     },
     "metadata": {
      "needs_background": "light"
     },
     "output_type": "display_data"
    }
   ],
   "source": [
    "print(bilstm_model.history.history.keys())\n",
    "plt.plot(bilstm_model.history.history['accuracy'])\n",
    "plt.plot(bilstm_model.history.history['val_accuracy'])\n",
    "plt.title('model acc')\n",
    "plt.ylabel('accuracy')\n",
    "plt.xlabel('epoch')\n",
    "plt.legend(['train', 'val'], loc='upper left')\n",
    "plt.show()"
   ]
  },
  {
   "cell_type": "markdown",
   "id": "3e872a58",
   "metadata": {},
   "source": [
    "#### BIGRU"
   ]
  },
  {
   "cell_type": "code",
   "execution_count": 11,
   "id": "79898258",
   "metadata": {},
   "outputs": [
    {
     "name": "stdout",
     "output_type": "stream",
     "text": [
      "Epoch 1/5\n",
      "157/157 [==============================] - 213s 1s/step - loss: 0.2454 - accuracy: 0.9328 - val_loss: 0.1101 - val_accuracy: 0.9640\n",
      "Epoch 2/5\n",
      "157/157 [==============================] - 194s 1s/step - loss: 0.0617 - accuracy: 0.9809 - val_loss: 0.0509 - val_accuracy: 0.9845\n",
      "Epoch 3/5\n",
      "157/157 [==============================] - 201s 1s/step - loss: 0.0191 - accuracy: 0.9945 - val_loss: 0.0597 - val_accuracy: 0.9824\n",
      "Epoch 4/5\n",
      "157/157 [==============================] - 202s 1s/step - loss: 0.0082 - accuracy: 0.9977 - val_loss: 0.0553 - val_accuracy: 0.9844\n",
      "Epoch 5/5\n",
      "157/157 [==============================] - 201s 1s/step - loss: 0.0048 - accuracy: 0.9987 - val_loss: 0.0617 - val_accuracy: 0.9838\n",
      "dict_keys(['loss', 'accuracy', 'val_loss', 'val_accuracy'])\n"
     ]
    },
    {
     "data": {
      "image/png": "[encoded data removed]",
      "text/plain": [
       "<Figure size 432x288 with 1 Axes>"
      ]
     },
     "metadata": {
      "needs_background": "light"
     },
     "output_type": "display_data"
    }
   ],
   "source": [
    "inputs = tf.keras.layers.Input(shape=(MAX_LEN,))\n",
    "embeddings = tf.keras.layers.Embedding(input_dim=len(word2id), output_dim=100)(inputs)\n",
    "\n",
    "bigru_1 = tf.keras.layers.Bidirectional(tf.keras.layers.GRU(128, return_sequences=True))(embeddings)\n",
    "bigru_2 = tf.keras.layers.Bidirectional(tf.keras.layers.GRU(128, return_sequences=True))(bigru_1)\n",
    "\n",
    "outputs = tf.keras.layers.Dense(len(label2id), activation='softmax')(bigru_2)\n",
    "\n",
    "bigru_model = tf.keras.Model(inputs=inputs, outputs=outputs)\n",
    "bigru_model.compile(optimizer='adam',\n",
    "              loss='sparse_categorical_crossentropy', \n",
    "             metrics=['accuracy'])\n",
    "\n",
    "bigru_model.fit(X, y, \n",
    "          validation_data=(X_test, y_test),\n",
    "          batch_size=128,\n",
    "          epochs=5)\n",
    "\n",
    "print(bigru_model.history.history.keys())\n",
    "plt.plot(bigru_model.history.history['accuracy'])\n",
    "plt.plot(bigru_model.history.history['val_accuracy'])\n",
    "plt.title('model acc')\n",
    "plt.ylabel('accuracy')\n",
    "plt.xlabel('epoch')\n",
    "plt.legend(['train', 'val'], loc='upper left')\n",
    "plt.show()"
   ]
  },
  {
   "cell_type": "code",
   "execution_count": 12,
   "id": "fac7baaa",
   "metadata": {},
   "outputs": [],
   "source": [
    "import re\n",
    "\n",
    "def tokenize(text, word2id):\n",
    "    # токенизирует и переводит в индексы\n",
    "    tokens = re.findall('\\w+|[^\\w\\s]+', text)\n",
    "    ids = [word2id.get(token.lower(), 1) for token in tokens]\n",
    "    return tokens, ids\n",
    "\n",
    "def pred2tags(pred, id2label, length):\n",
    "    # декодирует индексы в части речи\n",
    "    # length нужно чтобы откидывать паддинги или некорректные предсказания\n",
    "    pred = pred.argmax(2)[0, :length]\n",
    "    labels = [id2label[l] for l in pred]\n",
    "    return labels\n",
    "\n",
    "def label_seq(text, word2id, id2label, max_len, model):\n",
    "    tokens, ids = tokenize(text, word2id)\n",
    "    pred = model.predict(tf.keras.preprocessing.sequence.pad_sequences([ids], \n",
    "                                                                       maxlen=max_len, \n",
    "                                                                       padding='post'))\n",
    "    labels = pred2tags(pred, id2label, len(ids))\n",
    "    \n",
    "    return list(zip(tokens, labels))"
   ]
  },
  {
   "cell_type": "code",
   "execution_count": 15,
   "id": "7340ecc5",
   "metadata": {},
   "outputs": [
    {
     "name": "stdout",
     "output_type": "stream",
     "text": [
      "1/1 [==============================] - 5s 5s/step\n"
     ]
    },
    {
     "data": {
      "text/plain": [
       "[('Олеся', 'B-LOC'),\n",
       " ('купила', 'I-LOC'),\n",
       " ('новые', 'O'),\n",
       " ('часы', 'O'),\n",
       " ('в', 'O'),\n",
       " ('Киеве', 'B-LOC'),\n",
       " (',', 'O'),\n",
       " ('которые', 'O'),\n",
       " ('подарит', 'B-LOC'),\n",
       " ('Евгении', 'O')]"
      ]
     },
     "execution_count": 15,
     "metadata": {},
     "output_type": "execute_result"
    }
   ],
   "source": [
    "label_seq('Олеся купила новые часы в Киеве, которые подарит Евгении', word2id, id2labels, MAX_LEN, bilstm_model)"
   ]
  },
  {
   "cell_type": "code",
   "execution_count": 16,
   "id": "65dbd182",
   "metadata": {},
   "outputs": [
    {
     "name": "stdout",
     "output_type": "stream",
     "text": [
      "1/1 [==============================] - 4s 4s/step\n"
     ]
    },
    {
     "data": {
      "text/plain": [
       "[('Олеся', 'B-PER'),\n",
       " ('купила', 'O'),\n",
       " ('новые', 'O'),\n",
       " ('часы', 'O'),\n",
       " ('в', 'O'),\n",
       " ('Киеве', 'B-LOC'),\n",
       " (',', 'O'),\n",
       " ('которые', 'O'),\n",
       " ('подарит', 'O'),\n",
       " ('Евгении', 'O')]"
      ]
     },
     "execution_count": 16,
     "metadata": {},
     "output_type": "execute_result"
    }
   ],
   "source": [
    "label_seq('Олеся купила новые часы в Киеве, которые подарит Евгении', word2id, id2labels, MAX_LEN, bigru_model)"
   ]
  },
  {
   "cell_type": "code",
   "execution_count": 17,
   "id": "4b0af3de",
   "metadata": {},
   "outputs": [
    {
     "name": "stdout",
     "output_type": "stream",
     "text": [
      "1/1 [==============================] - 0s 72ms/step\n"
     ]
    },
    {
     "data": {
      "text/plain": [
       "[('Кандид', 'B-LOC'),\n",
       " ('снова', 'O'),\n",
       " ('попытался', 'O'),\n",
       " ('его', 'O'),\n",
       " ('обойти', 'O'),\n",
       " ('и', 'O'),\n",
       " ('снова', 'O'),\n",
       " ('каким', 'O'),\n",
       " ('-', 'O'),\n",
       " ('то', 'O'),\n",
       " ('образом', 'O'),\n",
       " ('оказался', 'O'),\n",
       " ('с', 'O'),\n",
       " ('ним', 'O'),\n",
       " ('носом', 'B-LOC'),\n",
       " ('к', 'O'),\n",
       " ('носу', 'B-LOC')]"
      ]
     },
     "execution_count": 17,
     "metadata": {},
     "output_type": "execute_result"
    }
   ],
   "source": [
    "label_seq('Кандид снова попытался его обойти и снова каким-то образом оказался с ним носом к носу', word2id, id2labels, MAX_LEN, bilstm_model)"
   ]
  },
  {
   "cell_type": "code",
   "execution_count": 18,
   "id": "e443cde2",
   "metadata": {},
   "outputs": [
    {
     "name": "stdout",
     "output_type": "stream",
     "text": [
      "1/1 [==============================] - 0s 57ms/step\n"
     ]
    },
    {
     "data": {
      "text/plain": [
       "[('Кандид', 'O'),\n",
       " ('снова', 'O'),\n",
       " ('попытался', 'O'),\n",
       " ('его', 'O'),\n",
       " ('обойти', 'O'),\n",
       " ('и', 'O'),\n",
       " ('снова', 'O'),\n",
       " ('каким', 'O'),\n",
       " ('-', 'O'),\n",
       " ('то', 'O'),\n",
       " ('образом', 'O'),\n",
       " ('оказался', 'O'),\n",
       " ('с', 'O'),\n",
       " ('ним', 'O'),\n",
       " ('носом', 'O'),\n",
       " ('к', 'O'),\n",
       " ('носу', 'O')]"
      ]
     },
     "execution_count": 18,
     "metadata": {},
     "output_type": "execute_result"
    }
   ],
   "source": [
    "label_seq('Кандид снова попытался его обойти и снова каким-то образом оказался с ним носом к носу', word2id, id2labels, MAX_LEN, bigru_model)"
   ]
  },
  {
   "cell_type": "markdown",
   "id": "2e7b36af",
   "metadata": {},
   "source": [
    "**В целом, обе модели работают похоже; bigru определяет сущности совсем несного лучше (хотя с определением сложного имени лучше справилась модель bilstm (но и нос она тоже почему-то определила как сущность))**"
   ]
  }
 ],
 "metadata": {
  "kernelspec": {
   "display_name": "Python 3",
   "language": "python",
   "name": "python3"
  },
  "language_info": {
   "codemirror_mode": {
    "name": "ipython",
    "version": 3
   },
   "file_extension": ".py",
   "mimetype": "text/x-python",
   "name": "python",
   "nbconvert_exporter": "python",
   "pygments_lexer": "ipython3",
   "version": "3.8.8"
  }
 },
 "nbformat": 4,
 "nbformat_minor": 5
}
