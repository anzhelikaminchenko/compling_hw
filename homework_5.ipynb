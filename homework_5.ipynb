{
 "cells": [
  {
   "cell_type": "markdown",
   "id": "dc8b74ba",
   "metadata": {},
   "source": [
    "### Задание № 1"
   ]
  },
  {
   "cell_type": "code",
   "execution_count": 1,
   "id": "44d5a720",
   "metadata": {},
   "outputs": [
    {
     "name": "stdout",
     "output_type": "stream",
     "text": [
      "Collecting gensim\n",
      "  Downloading gensim-4.1.2-cp38-cp38-win_amd64.whl (24.0 MB)\n",
      "Requirement already satisfied: Cython==0.29.23 in c:\\users\\howto\\anaconda3\\lib\\site-packages (from gensim) (0.29.23)\n",
      "Requirement already satisfied: scipy>=0.18.1 in c:\\users\\howto\\anaconda3\\lib\\site-packages (from gensim) (1.6.2)\n",
      "Collecting smart-open>=1.8.1\n",
      "  Using cached smart_open-5.2.1-py3-none-any.whl (58 kB)\n",
      "Requirement already satisfied: numpy>=1.17.0 in c:\\users\\howto\\anaconda3\\lib\\site-packages (from gensim) (1.20.1)\n",
      "Installing collected packages: smart-open, gensim\n",
      "Successfully installed gensim-4.1.2 smart-open-5.2.1\n",
      "Note: you may need to restart the kernel to use updated packages.\n"
     ]
    }
   ],
   "source": [
    "pip install gensim"
   ]
  },
  {
   "cell_type": "code",
   "execution_count": 110,
   "id": "7eb54cb6",
   "metadata": {},
   "outputs": [],
   "source": [
    "import gensim\n",
    "import numpy as np\n",
    "import pandas as pd\n",
    "from datetime import datetime\n",
    "from nltk.corpus import stopwords\n",
    "from pymorphy2 import MorphAnalyzer\n",
    "from sklearn.decomposition import TruncatedSVD, NMF\n",
    "from sklearn.feature_extraction.text import TfidfVectorizer\n",
    "from sklearn.ensemble import RandomForestClassifier, ExtraTreesClassifier\n",
    "from sklearn.linear_model import SGDClassifier\n",
    "from sklearn.metrics import precision_score, recall_score, f1_score, confusion_matrix\n",
    "from sklearn.naive_bayes import MultinomialNB\n",
    "from sklearn.neighbors import KNeighborsClassifier\n",
    "from sklearn.pipeline import Pipeline\n",
    "from sklearn.preprocessing import MinMaxScaler\n",
    "from sklearn.model_selection import StratifiedKFold\n",
    "from string import punctuation\n",
    "from razdel import tokenize as razdel_tokenize\n",
    "import pickle\n",
    "import warnings\n",
    "morph = MorphAnalyzer()\n",
    "warnings.filterwarnings(\"ignore\")"
   ]
  },
  {
   "cell_type": "code",
   "execution_count": 62,
   "id": "432a47c6",
   "metadata": {},
   "outputs": [],
   "source": [
    "def normalize(text):\n",
    "    normalized_text = [word.text.strip(punctuation) for word in razdel_tokenize(text)]\n",
    "    normalized_text = [word.lower() for word in normalized_text if word]\n",
    "    normalized_text = [morph.parse(word)[0].normal_form for word in normalized_text]\n",
    "    return ' '.join(normalized_text)"
   ]
  },
  {
   "cell_type": "code",
   "execution_count": 63,
   "id": "cfca3f5d",
   "metadata": {},
   "outputs": [],
   "source": [
    "data = pd.read_csv('avito_category_classification.csv')\n",
    "data['description_norm'] = data['description'].apply(normalize)"
   ]
  },
  {
   "cell_type": "code",
   "execution_count": 64,
   "id": "0808000b",
   "metadata": {},
   "outputs": [],
   "source": [
    "vectorizer = TfidfVectorizer(max_features=2000, min_df=10, max_df=0.4)\n",
    "X = vectorizer.fit_transform(data['description_norm'])"
   ]
  },
  {
   "cell_type": "code",
   "execution_count": 81,
   "id": "efb01ff7",
   "metadata": {},
   "outputs": [],
   "source": [
    "pipelines = {\n",
    "    'svd_sgd' : Pipeline([\n",
    "    ('bow', vectorizer),\n",
    "    ('svd', TruncatedSVD(500)),\n",
    "    ('clf', SGDClassifier(max_iter=1000, tol=1e-3))]),\n",
    "        \n",
    "    'svd_kn' : Pipeline([\n",
    "    ('bow', vectorizer),\n",
    "    ('svd', TruncatedSVD(500)),\n",
    "    ('clf', KNeighborsClassifier(n_neighbors=7))]),\n",
    "        \n",
    "    'svd_rf' : Pipeline([\n",
    "    ('bow', vectorizer),\n",
    "    ('svd', TruncatedSVD(500)),\n",
    "    ('clf', RandomForestClassifier(n_estimators=100, max_depth=10))]),\n",
    "        \n",
    "    'svd_extratrees' : Pipeline([\n",
    "    ('bow', vectorizer),\n",
    "    ('svd', TruncatedSVD(500)),\n",
    "    ('clf', ExtraTreesClassifier(random_state=0))]),\n",
    "   \n",
    "    'nmf_sgd' : Pipeline([\n",
    "    ('bow', vectorizer),\n",
    "    ('svd', NMF(60)),\n",
    "    ('clf', SGDClassifier(max_iter=1000, tol=1e-3))]),\n",
    "\n",
    "    'nmf_kn' : Pipeline([\n",
    "    ('bow', vectorizer),\n",
    "    ('svd', NMF(60)),\n",
    "    ('clf', KNeighborsClassifier(n_neighbors=7))]),\n",
    "        \n",
    "    'nmf_rf' : Pipeline([\n",
    "    ('bow', vectorizer),\n",
    "    ('svd', NMF(60)),\n",
    "    ('clf', RandomForestClassifier(n_estimators=100, max_depth=10))]),\n",
    "\n",
    "    'nmf_extratrees' : Pipeline([\n",
    "    ('bow', vectorizer),\n",
    "    ('svd', NMF(60)),\n",
    "    ('clf', ExtraTreesClassifier(random_state=0))]),\n",
    "}"
   ]
  },
  {
   "cell_type": "code",
   "execution_count": 82,
   "id": "eda34187",
   "metadata": {},
   "outputs": [],
   "source": [
    "def eval_table(X, y, pipeline, N=6):\n",
    "    labels = list(set(y))\n",
    " \n",
    "    fold_metrics = pd.DataFrame(index=labels)\n",
    "    errors = np.zeros((len(labels), len(labels)))\n",
    "\n",
    "    kfold = StratifiedKFold(n_splits=N, shuffle=True, )\n",
    "    \n",
    "    for i, (train_index, test_index) in enumerate(kfold.split(X, y)):\n",
    "        pipeline.fit(X[train_index], y[train_index])\n",
    "        preds = pipeline.predict(X[test_index])\n",
    "\n",
    "        fold_metrics[f'precision_{i}'] = precision_score(y[test_index], preds, labels=labels, average=None)\n",
    "        fold_metrics[f'recall_{i}'] = recall_score(y[test_index], preds, labels=labels, average=None)\n",
    "        fold_metrics[f'f1_{i}'] = f1_score(y[test_index], preds, labels=labels, average=None)\n",
    "        errors += confusion_matrix(y[test_index], preds, labels=labels, normalize='true')\n",
    "\n",
    "    result = pd.DataFrame(index=labels)\n",
    "    result['precision'] = fold_metrics[[f'precision_{i}' for i in range(N)]].mean(axis=1).round(2)\n",
    "    result['precision_std'] = fold_metrics[[f'precision_{i}' for i in range(N)]].std(axis=1).round(2)\n",
    "    \n",
    "    result['recall'] = fold_metrics[[f'recall_{i}' for i in range(N)]].mean(axis=1).round(2)\n",
    "    result['recall_std'] = fold_metrics[[f'recall_{i}' for i in range(N)]].std(axis=1).round(2)\n",
    "    \n",
    "    result['f1'] = fold_metrics[[f'f1_{i}' for i in range(N)]].mean(axis=1).round(2)\n",
    "    result['f1_std'] = fold_metrics[[f'f1_{i}' for i in range(N)]].std(axis=1).round(2)\n",
    " \n",
    "    result.loc['mean'] = result.mean().round(2)\n",
    "    errors /= N\n",
    "    \n",
    "    return result, errors"
   ]
  },
  {
   "cell_type": "code",
   "execution_count": 101,
   "id": "eebb1e3d",
   "metadata": {},
   "outputs": [
    {
     "name": "stdout",
     "output_type": "stream",
     "text": [
      "svd_sgd: 0.76\n",
      "svd_kn: 0.48\n",
      "svd_rf: 0.56\n",
      "svd_extratrees: 0.62\n",
      "nmf_sgd: 0.51\n",
      "nmf_kn: 0.52\n",
      "nmf_rf: 0.61\n",
      "nmf_extratrees: 0.69\n"
     ]
    }
   ],
   "source": [
    "for count, pipe in enumerate(pipelines):\n",
    "    metrics_svd, errors_svd = eval_table(data['description_norm'], data['category_name'], pipelines[pipe])\n",
    "    print(f'{pipe}: {metrics_svd.loc[\"mean\"][\"f1\"].round(3)}\\n', end='')"
   ]
  },
  {
   "cell_type": "markdown",
   "id": "c52c7b61",
   "metadata": {},
   "source": [
    "**лучшее сочетание - svd_sgd**"
   ]
  },
  {
   "cell_type": "markdown",
   "id": "7f1da512",
   "metadata": {},
   "source": [
    "### Задание № 2 "
   ]
  },
  {
   "cell_type": "code",
   "execution_count": 107,
   "id": "72107573",
   "metadata": {},
   "outputs": [],
   "source": [
    "texts = open('wiki_data.txt', encoding='utf-8').read().splitlines()[:5000]"
   ]
  },
  {
   "cell_type": "code",
   "execution_count": 108,
   "id": "91f75714",
   "metadata": {},
   "outputs": [],
   "source": [
    "texts = ([normalize(text) for text in texts])"
   ]
  },
  {
   "cell_type": "code",
   "execution_count": 111,
   "id": "5c5948d5",
   "metadata": {},
   "outputs": [],
   "source": [
    "text = [text.split() for text in texts]\n",
    "ph = gensim.models.Phrases(texts, scoring='npmi', threshold=0.4) # threshold можно подбирать\n",
    "p = gensim.models.phrases.Phraser(ph)\n",
    "ngrammed_texts = p[texts]"
   ]
  },
  {
   "cell_type": "code",
   "execution_count": 118,
   "id": "f169180e",
   "metadata": {},
   "outputs": [
    {
     "name": "stdout",
     "output_type": "stream",
     "text": [
      "Dictionary(8102 unique tokens: ['1,2', '1,5', '12', '14', '16']...)\n"
     ]
    }
   ],
   "source": [
    "dictinary = gensim.corpora.Dictionary((text.split() for text in texts))\n",
    "dictinary.filter_extremes(no_above=0.1, no_below=10)\n",
    "dictinary.compactify()\n",
    "\n",
    "print(dictinary)"
   ]
  },
  {
   "cell_type": "code",
   "execution_count": 113,
   "id": "e1a375c6",
   "metadata": {},
   "outputs": [
    {
     "data": {
      "text/plain": [
       "[(99,\n",
       "  '0.006*\"случай\" + 0.005*\"звезда\" + 0.005*\"вода\" + 0.005*\"использовать\" + 0.005*\"друг\" + 0.005*\"температура\" + 0.004*\"собака\" + 0.004*\"форма\" + 0.004*\"различный\" + 0.004*\"смотреть\"'),\n",
       " (98,\n",
       "  '0.020*\"монастырь\" + 0.007*\"маргарита\" + 0.006*\"пещера\" + 0.006*\"книга\" + 0.006*\"колония\" + 0.005*\"действие\" + 0.005*\"монастырский\" + 0.005*\"день\" + 0.005*\"персонаж\" + 0.004*\"дом\"'),\n",
       " (97,\n",
       "  '0.024*\"участок\" + 0.021*\"строительство\" + 0.015*\"земельный\" + 0.012*\"план\" + 0.011*\"объект\" + 0.010*\"проект\" + 0.010*\"сооружение\" + 0.009*\"рубль\" + 0.009*\"опора\" + 0.008*\"мост\"'),\n",
       " (96,\n",
       "  '0.017*\"свидетель\" + 0.012*\"германия\" + 0.010*\"гитлер\" + 0.008*\"движение\" + 0.007*\"немецкий\" + 0.007*\"полигон\" + 0.007*\"военный\" + 0.007*\"метр\" + 0.006*\"дистанция\" + 0.005*\"сила\"'),\n",
       " (95,\n",
       "  '0.023*\"картина\" + 0.016*\"рим\" + 0.015*\"мария\" + 0.014*\"римский\" + 0.013*\"медичи\" + 0.008*\"изобразить\" + 0.007*\"италия\" + 0.007*\"портрет\" + 0.006*\"папа\" + 0.006*\"художник\"'),\n",
       " (94,\n",
       "  '0.044*\"армия\" + 0.026*\"войско\" + 0.021*\"флот\" + 0.021*\"корабль\" + 0.016*\"военный\" + 0.015*\"японский\" + 0.013*\"сила\" + 0.009*\"флотилия\" + 0.009*\"фронт\" + 0.009*\"китай\"'),\n",
       " (92,\n",
       "  '0.043*\"церковь\" + 0.039*\"епархия\" + 0.030*\"южный\" + 0.027*\"епископ\" + 0.024*\"северный\" + 0.024*\"восточный\" + 0.023*\"долгота\" + 0.022*\"собор\" + 0.022*\"меридиан\" + 0.021*\"полюс\"'),\n",
       " (93,\n",
       "  '0.037*\"партия\" + 0.012*\"политический\" + 0.012*\"правительство\" + 0.010*\"выборы\" + 0.008*\"президент\" + 0.008*\"премьер-министр\" + 0.007*\"движение\" + 0.007*\"республика\" + 0.006*\"национальный\" + 0.005*\"глава\"'),\n",
       " (91,\n",
       "  '0.031*\"смит\" + 0.015*\"симфония\" + 0.010*\"сериал\" + 0.008*\"полиция\" + 0.007*\"2013\" + 0.007*\"„\" + 0.007*\"“\" + 0.006*\"лос-анджелес\" + 0.004*\"появиться\" + 0.004*\"свердловский\"'),\n",
       " (90,\n",
       "  '0.110*\"уезд\" + 0.038*\"округ\" + 0.030*\"волость\" + 0.028*\"городской\" + 0.026*\"губерния\" + 0.017*\"специальный\" + 0.017*\"образовать\" + 0.013*\"переименовать\" + 0.012*\"империя\" + 0.012*\"власть\"'),\n",
       " (9,\n",
       "  '0.006*\"125\" + 0.006*\"нововодолажский\" + 0.006*\"новгород\" + 0.006*\"норвежский\" + 0.005*\"завод\" + 0.005*\"нижегородский\" + 0.005*\"весёлый\" + 0.005*\"p\" + 0.005*\"председатель\" + 0.005*\"совет\"'),\n",
       " (8,\n",
       "  '0.034*\"ссср\" + 0.016*\"советский\" + 0.014*\"совет\" + 0.013*\"председатель\" + 0.010*\"секретарь\" + 0.010*\"институт\" + 0.009*\"сср\" + 0.008*\"москва\" + 0.008*\"цк\" + 0.008*\"член\"'),\n",
       " (7,\n",
       "  '0.008*\"журнал\" + 0.008*\"горный\" + 0.006*\"различный\" + 0.006*\"список\" + 0.006*\"земля\" + 0.005*\"можно\" + 0.005*\"государство\" + 0.005*\"цикл\" + 0.004*\"герой\" + 0.004*\"населить\"'),\n",
       " (6,\n",
       "  '0.010*\"азербайджан\" + 0.006*\"песня\" + 0.005*\"семья\" + 0.005*\"русский\" + 0.004*\"москва\" + 0.004*\"член\" + 0.004*\"жена\" + 0.004*\"азербайджанский\" + 0.004*\"поэт\" + 0.004*\"написать\"'),\n",
       " (5,\n",
       "  '0.069*\"летний\" + 0.029*\"1968\" + 0.025*\"1956\" + 0.025*\"ни\" + 0.024*\"1972\" + 0.016*\"тринидад\" + 0.016*\"тобаго\" + 0.014*\"список\" + 0.014*\"1952\" + 0.013*\"фрг\"'),\n",
       " (4,\n",
       "  '0.031*\"граф\" + 0.030*\"сын\" + 0.030*\"де\" + 0.026*\"i\" + 0.022*\"ii\" + 0.019*\"король\" + 0.013*\"графство\" + 0.013*\"дочь\" + 0.012*\"смерть\" + 0.011*\"герцог\"'),\n",
       " (3,\n",
       "  '0.129*\"житомирский\" + 0.056*\"почтовый\" + 0.054*\"км²\" + 0.054*\"индекс\" + 0.053*\"телефонный\" + 0.053*\"р-н\" + 0.048*\"ул\" + 0.043*\"коатуа\" + 0.023*\"радомышльский\" + 0.020*\"романовский\"'),\n",
       " (2,\n",
       "  '0.029*\"летний\" + 0.022*\"турнир\" + 0.020*\"сборная\" + 0.019*\"спортсмен\" + 0.017*\"чемпионат\" + 0.016*\"мир\" + 0.015*\"финал\" + 0.013*\"раунд\" + 0.013*\"соревнование\" + 0.012*\"женщина\"'),\n",
       " (1,\n",
       "  '0.050*\"зимний\" + 0.015*\"ни\" + 0.012*\"крым\" + 0.010*\"cryptocephalus\" + 0.010*\"япония\" + 0.009*\"2002\" + 0.009*\"1994\" + 0.008*\"2006\" + 0.008*\"крымский\" + 0.007*\"италия\"'),\n",
       " (0,\n",
       "  '0.009*\"значение\" + 0.009*\"фамилия\" + 0.005*\"носитель\" + 0.005*\"портрет\" + 0.005*\"мир\" + 0.005*\"изображение\" + 0.005*\"суд\" + 0.005*\"русский\" + 0.005*\"устройство\" + 0.004*\"лыжный\"')]"
      ]
     },
     "execution_count": 113,
     "metadata": {},
     "output_type": "execute_result"
    }
   ],
   "source": [
    "corpus = [dictinary.doc2bow(text.split()) for text in texts]\n",
    "lda = gensim.models.LdaMulticore(corpus, \n",
    "                                 100, # колиество тем\n",
    "                                 alpha='asymmetric',\n",
    "                                 id2word=dictinary, \n",
    "                                 passes=10)\n",
    "lda.print_topics()"
   ]
  },
  {
   "cell_type": "code",
   "execution_count": 114,
   "id": "e8282332",
   "metadata": {},
   "outputs": [
    {
     "data": {
      "text/plain": [
       "5963.936381005242"
      ]
     },
     "execution_count": 114,
     "metadata": {},
     "output_type": "execute_result"
    }
   ],
   "source": [
    "np.exp2(-lda.log_perplexity(corpus[:1000]))"
   ]
  },
  {
   "cell_type": "code",
   "execution_count": 115,
   "id": "6c3f042f",
   "metadata": {},
   "outputs": [
    {
     "data": {
      "text/plain": [
       "0.5416919427765893"
      ]
     },
     "execution_count": 115,
     "metadata": {},
     "output_type": "execute_result"
    }
   ],
   "source": [
    "topics = []\n",
    "for topic_id, topic in lda.show_topics(num_topics=100, formatted=False):\n",
    "    topic = [word for word, _ in topic]\n",
    "    topics.append(topic)\n",
    "coherence_model_lda = gensim.models.CoherenceModel(topics=topics, \n",
    "                                                   texts=[text.split() for text in texts], \n",
    "                                                   dictionary=dictinary, coherence='c_v')\n",
    "coherence_model_lda.get_coherence()"
   ]
  },
  {
   "cell_type": "code",
   "execution_count": 117,
   "id": "b54bb4f3",
   "metadata": {},
   "outputs": [
    {
     "data": {
      "text/plain": [
       "['новостройка нижегородский область новостро́йка — сельский посёлок в дивеевский район нижегородский область входить в состав сатисский сельсовет посёлок расположить в 12,5 км к юг от село дивеево и 1 км к запад от город саров на право берег река вичкинза правый приток река сатис окружить смешанный лес соединить асфальтовый дорога с посёлок цыгановка 1,5 км и грунтовый просёлочный дорога с посёлок сатис 3,5 км название новостройка являться сугубо официальный местный население использовать исключительно альтернативный название — хитрый употребляться языковой оборот « … на хитрый » ранее использовать название — песчаный известковый основать в 1920-й год переселенец из соседний село аламасовый и нарышкино расположить соответственно в 8 и 14 км к запад в вознесенский район традиционно в посёлок жить рабочий совхоз « вперёд » центр в посёлок сатис возле посёлок расположить карьер где активно добывать доломитовый мука и бутовый камень в настоящий время официально закрытый по данные 1978 год посёлок новостройка характеризоваться как неперспективный здесь насчитываться 24 хозяйство и 43 житель водоснабжение осуществляться из колодец и родниковый учреждение соцкультбыт отсутствовать в 1992 год в посёлок насчитываться 7 хозяйство и 16 житель из который 7 трудоспособный возраст на 1 январь 1995 год в посёлок иметься 6 хозяйство и 12 житель в настоящий время посёлок не только оставаться жилой но и получить развитие благодаря свой близость к святой источник в полкилометра расположить казанский родник а в 1,2 км — источник святой серафим саровский в посёлок расположить скит дивеевский монастырь в 2012 год быть освятить домовой храм в честь серафим саровский',\n",
       " 'эсмеральда фильм 1905 « эсмеральда » — немой короткометражный драматический фильм режиссёр алиса ги-блаша 1873—1968 и викторить жасс 1862—1913 фильм снятой по роман виктор гюго премьера состояться в франция в 1905 год фильм считаться самый первый фильм снятой по роман « собор парижский богоматерь » фильм рассказывать о жизнь цыганский красавица эсмеральда и горбун квазимодо звонарь собор парижский богоматерь',\n",
       " 'список остров архипелаг норденшёльд это рабочий список для координация создание стать о остров архипелаг норденшёльд жирный выделить относительно крупный остров пометка не весь — остров обозначить на указанный карта лишь частично 4 безымянный остров у южный побережье остров русский безымянный остров к юг от остров ермолов']"
      ]
     },
     "execution_count": 117,
     "metadata": {},
     "output_type": "execute_result"
    }
   ],
   "source": [
    "[text for text in ngrammed_texts[:3]]"
   ]
  },
  {
   "cell_type": "code",
   "execution_count": 136,
   "id": "fa9d97e9",
   "metadata": {},
   "outputs": [],
   "source": [
    "ngrammed_dictinary = gensim.corpora.Dictionary((text.split() for text in ngrammed_texts))\n",
    "ngrammed_dictinary.filter_extremes(no_above=0.05, no_below=10)\n",
    "ngrammed_dictinary.compactify()"
   ]
  },
  {
   "cell_type": "code",
   "execution_count": null,
   "id": "94453121",
   "metadata": {},
   "outputs": [],
   "source": [
    "ngrammed_corpus = [dictinary.doc2bow(text.split()) for text in ngrammed_texts]\n",
    "ngrammed_lda = gensim.models.LdaMulticore(corpus, \n",
    "                                 100, # колиество тем\n",
    "                                 alpha='asymmetric',\n",
    "                                 id2word=ngrammed_dictinary, \n",
    "                                 passes=5) \n",
    "ngrammed_lda.print_topics()"
   ]
  },
  {
   "cell_type": "code",
   "execution_count": 125,
   "id": "b88c7ef2",
   "metadata": {},
   "outputs": [
    {
     "data": {
      "text/plain": [
       "5961.531966245532"
      ]
     },
     "execution_count": 125,
     "metadata": {},
     "output_type": "execute_result"
    }
   ],
   "source": [
    "np.exp2(-lda.log_perplexity(corpus[:1000]))"
   ]
  },
  {
   "cell_type": "code",
   "execution_count": null,
   "id": "8745daae",
   "metadata": {},
   "outputs": [],
   "source": [
    "coherence_model_ngrammed_lda = gensim.models.CoherenceModel(topics=ngrammed_topics, \n",
    "                                                   texts=[text.split() for text in ngrammed_texts], \n",
    "                                                   dictionary=ngrammed_dictinary, coherence='c_v')\n",
    "coherence_model_ngrammed_lda.get_coherence()"
   ]
  },
  {
   "cell_type": "code",
   "execution_count": null,
   "id": "b5e30aca",
   "metadata": {},
   "outputs": [],
   "source": []
  },
  {
   "cell_type": "code",
   "execution_count": null,
   "id": "b9acd093",
   "metadata": {},
   "outputs": [],
   "source": []
  },
  {
   "cell_type": "code",
   "execution_count": null,
   "id": "ef105a7b",
   "metadata": {},
   "outputs": [],
   "source": [
    "dictinary = gensim.corpora.Dictionary((text.split() for text in texts))\n",
    "dictinary.filter_extremes(no_above=0.1, no_below=10)\n",
    "dictinary.compactify()\n",
    "\n",
    "print(dictinary)"
   ]
  },
  {
   "cell_type": "code",
   "execution_count": null,
   "id": "deaf654e",
   "metadata": {},
   "outputs": [],
   "source": [
    "tfidf = gensim.models.TfidfModel(corpus, id2word=dictinary, )\n",
    "corpus_tfidf = tfidf[corpus]\n",
    "\n",
    "lda_tfidf = gensim.models.LdaMulticore(corpus_tfidf, \n",
    "                                 100, # колиество тем\n",
    "                                 alpha='asymmetric',\n",
    "                                 id2word=dictinary, \n",
    "                                 passes=10) \n",
    "lda_tfidf.print_topics()"
   ]
  },
  {
   "cell_type": "code",
   "execution_count": null,
   "id": "b339f1b7",
   "metadata": {},
   "outputs": [],
   "source": []
  }
 ],
 "metadata": {
  "kernelspec": {
   "display_name": "Python 3",
   "language": "python",
   "name": "python3"
  },
  "language_info": {
   "codemirror_mode": {
    "name": "ipython",
    "version": 3
   },
   "file_extension": ".py",
   "mimetype": "text/x-python",
   "name": "python",
   "nbconvert_exporter": "python",
   "pygments_lexer": "ipython3",
   "version": "3.8.8"
  }
 },
 "nbformat": 4,
 "nbformat_minor": 5
}
