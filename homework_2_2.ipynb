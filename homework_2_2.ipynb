{
 "cells": [
  {
   "cell_type": "markdown",
   "id": "b68c90a5",
   "metadata": {},
   "source": [
    "## Задание 1"
   ]
  },
  {
   "cell_type": "code",
   "execution_count": 70,
   "id": "e87f4dce",
   "metadata": {},
   "outputs": [],
   "source": [
    "import pandas as pd\n",
    "import sklearn as sk\n",
    "import math\n",
    "from sklearn.model_selection import train_test_split\n",
    "from sklearn.feature_extraction.text import CountVectorizer, TfidfVectorizer\n",
    "from razdel import tokenize as razdel_tokenize\n",
    "from sklearn.linear_model import LogisticRegression\n",
    "from sklearn.metrics import classification_report, accuracy_score\n",
    "from sklearn.tree import DecisionTreeClassifier\n",
    "from sklearn.neighbors import KNeighborsClassifier\n",
    "from sklearn.naive_bayes import MultinomialNB\n",
    "import numpy as np"
   ]
  },
  {
   "cell_type": "code",
   "execution_count": 6,
   "id": "7723a9f5",
   "metadata": {},
   "outputs": [
    {
     "data": {
      "text/html": [
       "<div>\n",
       "<style scoped>\n",
       "    .dataframe tbody tr th:only-of-type {\n",
       "        vertical-align: middle;\n",
       "    }\n",
       "\n",
       "    .dataframe tbody tr th {\n",
       "        vertical-align: top;\n",
       "    }\n",
       "\n",
       "    .dataframe thead th {\n",
       "        text-align: right;\n",
       "    }\n",
       "</style>\n",
       "<table border=\"1\" class=\"dataframe\">\n",
       "  <thead>\n",
       "    <tr style=\"text-align: right;\">\n",
       "      <th></th>\n",
       "      <th>comment</th>\n",
       "      <th>toxic</th>\n",
       "    </tr>\n",
       "  </thead>\n",
       "  <tbody>\n",
       "    <tr>\n",
       "      <th>0</th>\n",
       "      <td>Верблюдов-то за что? Дебилы, бл...\\n</td>\n",
       "      <td>1.0</td>\n",
       "    </tr>\n",
       "    <tr>\n",
       "      <th>1</th>\n",
       "      <td>Хохлы, это отдушина затюканого россиянина, мол...</td>\n",
       "      <td>1.0</td>\n",
       "    </tr>\n",
       "    <tr>\n",
       "      <th>2</th>\n",
       "      <td>Собаке - собачья смерть\\n</td>\n",
       "      <td>1.0</td>\n",
       "    </tr>\n",
       "    <tr>\n",
       "      <th>3</th>\n",
       "      <td>Страницу обнови, дебил. Это тоже не оскорблени...</td>\n",
       "      <td>1.0</td>\n",
       "    </tr>\n",
       "    <tr>\n",
       "      <th>4</th>\n",
       "      <td>тебя не убедил 6-страничный пдф в том, что Скр...</td>\n",
       "      <td>1.0</td>\n",
       "    </tr>\n",
       "  </tbody>\n",
       "</table>\n",
       "</div>"
      ],
      "text/plain": [
       "                                             comment  toxic\n",
       "0               Верблюдов-то за что? Дебилы, бл...\\n    1.0\n",
       "1  Хохлы, это отдушина затюканого россиянина, мол...    1.0\n",
       "2                          Собаке - собачья смерть\\n    1.0\n",
       "3  Страницу обнови, дебил. Это тоже не оскорблени...    1.0\n",
       "4  тебя не убедил 6-страничный пдф в том, что Скр...    1.0"
      ]
     },
     "execution_count": 6,
     "metadata": {},
     "output_type": "execute_result"
    }
   ],
   "source": [
    "data = pd.read_csv('labeled.csv')\n",
    "data.head()"
   ]
  },
  {
   "cell_type": "code",
   "execution_count": 7,
   "id": "8643df7a",
   "metadata": {},
   "outputs": [
    {
     "data": {
      "text/plain": [
       "0.0    0.66514\n",
       "1.0    0.33486\n",
       "Name: toxic, dtype: float64"
      ]
     },
     "execution_count": 7,
     "metadata": {},
     "output_type": "execute_result"
    }
   ],
   "source": [
    "data.toxic.value_counts(normalize=True)"
   ]
  },
  {
   "cell_type": "code",
   "execution_count": 9,
   "id": "440b467f",
   "metadata": {},
   "outputs": [],
   "source": [
    "train, test = train_test_split(data, test_size=0.1, shuffle=True)\n",
    "\n",
    "train.reset_index(inplace=True)\n",
    "test.reset_index(inplace=True)"
   ]
  },
  {
   "cell_type": "markdown",
   "id": "e3069e22",
   "metadata": {},
   "source": [
    "### дефолтная токенизация"
   ]
  },
  {
   "cell_type": "code",
   "execution_count": 10,
   "id": "2300aaaa",
   "metadata": {},
   "outputs": [],
   "source": [
    "vectorizer = CountVectorizer() "
   ]
  },
  {
   "cell_type": "code",
   "execution_count": 11,
   "id": "c4c7769a",
   "metadata": {},
   "outputs": [],
   "source": [
    "x = vectorizer.fit_transform(train.comment)\n",
    "x_test = vectorizer.transform(test.comment) \n",
    "\n",
    "y = train.toxic.values\n",
    "y_test = test.toxic.values"
   ]
  },
  {
   "cell_type": "code",
   "execution_count": 16,
   "id": "2b68996b",
   "metadata": {},
   "outputs": [],
   "source": [
    "clf = LogisticRegression(C=0.1, class_weight='balanced')\n",
    "clf.fit(x, y)\n",
    "pred = clf.predict(x_test)"
   ]
  },
  {
   "cell_type": "code",
   "execution_count": 17,
   "id": "43980253",
   "metadata": {},
   "outputs": [
    {
     "name": "stdout",
     "output_type": "stream",
     "text": [
      "              precision    recall  f1-score   support\n",
      "\n",
      "         0.0       0.91      0.83      0.87       954\n",
      "         1.0       0.71      0.84      0.77       488\n",
      "\n",
      "    accuracy                           0.83      1442\n",
      "   macro avg       0.81      0.83      0.82      1442\n",
      "weighted avg       0.84      0.83      0.83      1442\n",
      "\n"
     ]
    }
   ],
   "source": [
    "print(classification_report(y_test, pred))"
   ]
  },
  {
   "cell_type": "markdown",
   "id": "705b1102",
   "metadata": {},
   "source": [
    "### razdel.tokenize"
   ]
  },
  {
   "cell_type": "code",
   "execution_count": 26,
   "id": "d935eee8",
   "metadata": {},
   "outputs": [],
   "source": [
    "def razdel_tokenize(text):\n",
    "    tokens = list(tokenize(text))\n",
    "    tokens = [token.text for token in tokens]\n",
    "    return tokens"
   ]
  },
  {
   "cell_type": "code",
   "execution_count": 27,
   "id": "e393acc3",
   "metadata": {},
   "outputs": [],
   "source": [
    "razdel_vectorizer = CountVectorizer(tokenizer = razdel_tokenize)\n",
    "x2 = razdel_vectorizer.fit_transform(train.comment)\n",
    "x2_test = razdel_vectorizer.transform(test.comment)\n",
    "y2 = train.toxic.values\n",
    "y2_test = test.toxic.values"
   ]
  },
  {
   "cell_type": "code",
   "execution_count": 30,
   "id": "a8b48036",
   "metadata": {},
   "outputs": [
    {
     "name": "stderr",
     "output_type": "stream",
     "text": [
      "C:\\Users\\howto\\anaconda3\\lib\\site-packages\\sklearn\\linear_model\\_logistic.py:763: ConvergenceWarning: lbfgs failed to converge (status=1):\n",
      "STOP: TOTAL NO. of ITERATIONS REACHED LIMIT.\n",
      "\n",
      "Increase the number of iterations (max_iter) or scale the data as shown in:\n",
      "    https://scikit-learn.org/stable/modules/preprocessing.html\n",
      "Please also refer to the documentation for alternative solver options:\n",
      "    https://scikit-learn.org/stable/modules/linear_model.html#logistic-regression\n",
      "  n_iter_i = _check_optimize_result(\n"
     ]
    }
   ],
   "source": [
    "clf_razdel = LogisticRegression(C=0.1, class_weight='balanced')\n",
    "clf_razdel.fit(x2, y2)\n",
    "pred_razdel = clf_razdel.predict(x2_test)"
   ]
  },
  {
   "cell_type": "code",
   "execution_count": 34,
   "id": "639061e9",
   "metadata": {},
   "outputs": [
    {
     "name": "stdout",
     "output_type": "stream",
     "text": [
      "              precision    recall  f1-score   support\n",
      "\n",
      "         0.0       0.91      0.84      0.87       954\n",
      "         1.0       0.73      0.83      0.78       488\n",
      "\n",
      "    accuracy                           0.84      1442\n",
      "   macro avg       0.82      0.84      0.82      1442\n",
      "weighted avg       0.85      0.84      0.84      1442\n",
      "\n"
     ]
    }
   ],
   "source": [
    "print(classification_report(y2_test, pred_razdel))"
   ]
  },
  {
   "cell_type": "markdown",
   "id": "158e1d4e",
   "metadata": {},
   "source": [
    "**razdel.tokenize показывает лучший результат, но незначительно**"
   ]
  },
  {
   "cell_type": "markdown",
   "id": "109efa33",
   "metadata": {},
   "source": [
    "## Задание 2"
   ]
  },
  {
   "cell_type": "code",
   "execution_count": 50,
   "id": "89148c67",
   "metadata": {},
   "outputs": [],
   "source": [
    "text = ['я и ты', 'ты и я', 'я, я и только я', 'только не я', 'он']"
   ]
  },
  {
   "cell_type": "code",
   "execution_count": 57,
   "id": "65774d5e",
   "metadata": {},
   "outputs": [],
   "source": [
    "def tf(term, sent):\n",
    "    tf = []\n",
    "    tf = sent.count(term) / len(sent.split())\n",
    "    return tf\n",
    "\n",
    "def idf(term, text):\n",
    "        df = 0\n",
    "        idf = []\n",
    "        for d in text:\n",
    "            if term in d:\n",
    "                df += 1\n",
    "                idf = math.log(len(text) / df) \n",
    "        return idf\n",
    "    \n",
    "def tf_idf(term, sent, text):\n",
    "    tfidf = []\n",
    "    tfidf = tf(term, sent) * idf(term, text)\n",
    "    return tfidf"
   ]
  },
  {
   "cell_type": "code",
   "execution_count": 58,
   "id": "4c972892",
   "metadata": {},
   "outputs": [],
   "source": [
    "vocabulary = ['я', 'ты', 'и', 'только', 'не', 'он']"
   ]
  },
  {
   "cell_type": "code",
   "execution_count": 61,
   "id": "c939c2e5",
   "metadata": {},
   "outputs": [],
   "source": [
    "table_tfidf = pd.DataFrame({\"я\" : [1, 1, 3, 1, 0],\n",
    "                            \"ты\" : [1, 1, 0, 0, 0],\n",
    "                            \"и\" : [1, 1, 1, 0, 0],\n",
    "                            \"только\" : [0, 0, 1, 1, 0],\n",
    "                            \"не\" : [0, 0, 0, 1, 0],\n",
    "                            \"он\" : [0, 0, 0, 0, 1]})"
   ]
  },
  {
   "cell_type": "code",
   "execution_count": 62,
   "id": "61a64045",
   "metadata": {},
   "outputs": [
    {
     "name": "stdout",
     "output_type": "stream",
     "text": [
      "                        я       ты         и    только        не        он\n",
      "я и ты           0.074381  0.30543  0.170275  0.000000  0.000000  0.000000\n",
      "ты и я           0.074381  0.30543  0.170275  0.000000  0.000000  0.000000\n",
      "я, я и только я  0.133886  0.00000  0.102165  0.183258  0.000000  0.000000\n",
      "только не я      0.074381  0.00000  0.000000  0.305430  0.536479  0.000000\n",
      "он               0.000000  0.00000  0.000000  0.000000  0.000000  1.609438\n"
     ]
    }
   ],
   "source": [
    "for s in voc:\n",
    "    x = []\n",
    "    for d in text:\n",
    "        x.append(tf_idf(s, d, text))\n",
    "    table_tfidf[s] = x\n",
    "    \n",
    "table_tfidf.index = text\n",
    "print(table_tfidf)"
   ]
  },
  {
   "cell_type": "markdown",
   "id": "a3327698",
   "metadata": {},
   "source": [
    "## Задание 3"
   ]
  },
  {
   "cell_type": "code",
   "execution_count": 103,
   "id": "5e9fb2ea",
   "metadata": {},
   "outputs": [
    {
     "name": "stdout",
     "output_type": "stream",
     "text": [
      "              precision    recall  f1-score   support\n",
      "\n",
      "         0.0       0.79      0.59      0.68       961\n",
      "         1.0       0.46      0.69      0.55       481\n",
      "\n",
      "    accuracy                           0.62      1442\n",
      "   macro avg       0.63      0.64      0.61      1442\n",
      "weighted avg       0.68      0.62      0.63      1442\n",
      "\n"
     ]
    }
   ],
   "source": [
    "train, test = train_test_split(data, test_size=0.1, shuffle=True)\n",
    "train.reset_index(inplace=True)\n",
    "test.reset_index(inplace=True)\n",
    "\n",
    "vectorizer = CountVectorizer(analyzer='word', ngram_range=(1, 1), lowercase=True, stop_words = None, encoding=\"utf-8\")\n",
    "X_1 = vectorizer.fit_transform(train.comment)\n",
    "X_1_test = vectorizer.transform(test.comment) \n",
    "\n",
    "y_1 = train.toxic.values\n",
    "y_1_test = test.toxic.values\n",
    "\n",
    "clf = DecisionTreeClassifier(max_depth=8, class_weight='balanced')\n",
    "clf.fit(X_1, y_1)\n",
    "dtc_preds = clf.predict(X_1_test)\n",
    "\n",
    "print(classification_report(y_1_test, dtc_preds))"
   ]
  },
  {
   "cell_type": "code",
   "execution_count": 105,
   "id": "a2dc0dfe",
   "metadata": {},
   "outputs": [
    {
     "name": "stdout",
     "output_type": "stream",
     "text": [
      "              precision    recall  f1-score   support\n",
      "\n",
      "         0.0       0.79      0.59      0.68       961\n",
      "         1.0       0.46      0.69      0.55       481\n",
      "\n",
      "    accuracy                           0.62      1442\n",
      "   macro avg       0.63      0.64      0.61      1442\n",
      "weighted avg       0.68      0.62      0.63      1442\n",
      "\n"
     ]
    }
   ],
   "source": [
    "tfidf_vectorizer = TfidfVectorizer(min_df=10, max_df=0.4, lowercase = False, ngram_range = (1,2))\n",
    "X1 = vectorizer.fit_transform(train.comment)\n",
    "X1_test = vectorizer.transform(test.comment) \n",
    "\n",
    "y1 = train.toxic.values\n",
    "y1_test = test.toxic.values\n",
    "\n",
    "clf_MNB = MultinomialNB(alpha = 1, fit_prior = True)\n",
    "clf_MNB.fit(X1, y1)\n",
    "mnb_preds = clf.predict(X1_test)\n",
    "\n",
    "print(classification_report(y1_test, mnb_preds))"
   ]
  },
  {
   "cell_type": "code",
   "execution_count": 87,
   "id": "f07a1530",
   "metadata": {},
   "outputs": [],
   "source": [
    "def find_toxic(probas):\n",
    "    probas = [p[1] for p in probas]\n",
    "    test['probas'] = probas\n",
    "    \n",
    "    res = test.sort_values(by = 'probas', ascending = False)[:10]\n",
    "    res = res.reset_index(drop=True)\n",
    "    \n",
    "    for i in range(10):\n",
    "        print('toxic:', res.loc[i].toxic)\n",
    "        print('comment: ', res.loc[i].comment)\n",
    "        return (res)"
   ]
  },
  {
   "cell_type": "code",
   "execution_count": 106,
   "id": "6244c6b5",
   "metadata": {},
   "outputs": [],
   "source": [
    "dtc_preds = clf.predict(X_1_test)\n",
    "dtc_probas = clf.predict_proba(X_1_test)"
   ]
  },
  {
   "cell_type": "code",
   "execution_count": 107,
   "id": "a069c800",
   "metadata": {},
   "outputs": [
    {
     "name": "stdout",
     "output_type": "stream",
     "text": [
      "toxic: 1.0\n",
      "comment:  если вспомнить, что у русских фамилии хохлов, то все сходится\n",
      "\n",
      "   index                                            comment  toxic  probas\n",
      "0  14035  если вспомнить, что у русских фамилии хохлов, ...    1.0     1.0\n",
      "1   2569  АВСИЕВВСТЬИЫФЦВФФСОАЬ! АЛЕКС! ПЫНЯ! СИСЯН! ХОХ...    1.0     1.0\n",
      "2   2343  Какая убогая банда, гуляет на просторах YouTub...    1.0     1.0\n",
      "3  13795  Обезьяна, имей совесть! 1nb4: уже поимел! В s ...    1.0     1.0\n",
      "4   6101  Да какой там у хохлов языг? Можно любую хуету ...    1.0     1.0\n",
      "5   5132  ЦИФРЫ, блять, не сходятся. Вот как вам отвечат...    1.0     1.0\n",
      "6  14205  КАКИЕ ХОХЛЫ?! два урода. при чём ту вообще ХОХ...    1.0     1.0\n",
      "7   1978              граждане России Хохлы какие-нибудь.\\n    1.0     1.0\n",
      "8    247  моча сюда не заходит И как привлекать их внима...    1.0     1.0\n",
      "9  14078  просто остаётся пройти 3 км Ну-ну давай. Хочеш...    0.0     1.0\n"
     ]
    },
    {
     "name": "stderr",
     "output_type": "stream",
     "text": [
      "<ipython-input-87-69ae0579ced9>:3: SettingWithCopyWarning: \n",
      "A value is trying to be set on a copy of a slice from a DataFrame.\n",
      "Try using .loc[row_indexer,col_indexer] = value instead\n",
      "\n",
      "See the caveats in the documentation: https://pandas.pydata.org/pandas-docs/stable/user_guide/indexing.html#returning-a-view-versus-a-copy\n",
      "  test['probas'] = probas\n"
     ]
    }
   ],
   "source": [
    "print (find_toxic(dtc_probas))"
   ]
  },
  {
   "cell_type": "code",
   "execution_count": 102,
   "id": "804a8f6a",
   "metadata": {},
   "outputs": [
    {
     "name": "stdout",
     "output_type": "stream",
     "text": [
      "toxic: 1.0\n",
      "comment:  Рефлексия? Пиво? Хохлы? У тебя галлюцинации?\n",
      "\n",
      "   index                                            comment  toxic  probas\n",
      "0  10292     Рефлексия? Пиво? Хохлы? У тебя галлюцинации?\\n    1.0     1.0\n",
      "1   5600  Вот и хохлы подгоревшие подъехали. Куда Ньюсач...    1.0     1.0\n",
      "2  14253  Надо просто Тарасов-пидорашек из по выгнать, т...    1.0     1.0\n",
      "3   1965  90 не будет этим заниматься. Хохлов отрезают о...    1.0     1.0\n",
      "4    931  Если говорит, значит пиздит Это про хохлов ска...    1.0     1.0\n",
      "5    350  Вы вот смеетесь, а что будет, когда у нас эти ...    1.0     1.0\n",
      "6   5933  Навязывание любой религии дно, но есть. Правос...    1.0     1.0\n",
      "7   5803       бедная пидораха, и здесь хохлы ей выноваты\\n    1.0     1.0\n",
      "8   5535  выискивают хохлов, живущих в рашке и по умолча...    1.0     1.0\n",
      "9  14167                   Не стоит корить хохлов за это.\\n    1.0     1.0\n"
     ]
    },
    {
     "name": "stderr",
     "output_type": "stream",
     "text": [
      "<ipython-input-87-69ae0579ced9>:3: SettingWithCopyWarning: \n",
      "A value is trying to be set on a copy of a slice from a DataFrame.\n",
      "Try using .loc[row_indexer,col_indexer] = value instead\n",
      "\n",
      "See the caveats in the documentation: https://pandas.pydata.org/pandas-docs/stable/user_guide/indexing.html#returning-a-view-versus-a-copy\n",
      "  test['probas'] = probas\n"
     ]
    }
   ],
   "source": [
    "print (find_toxic(mnb_probas))"
   ]
  },
  {
   "cell_type": "markdown",
   "id": "bcfde793",
   "metadata": {},
   "source": [
    "В результате, оба классификатора отобрали разные токсичные комментарии; MultinomialNB выбрал более токсичные комментарии, чем DecisionTreeClassifier."
   ]
  }
 ],
 "metadata": {
  "kernelspec": {
   "display_name": "Python 3",
   "language": "python",
   "name": "python3"
  },
  "language_info": {
   "codemirror_mode": {
    "name": "ipython",
    "version": 3
   },
   "file_extension": ".py",
   "mimetype": "text/x-python",
   "name": "python",
   "nbconvert_exporter": "python",
   "pygments_lexer": "ipython3",
   "version": "3.8.8"
  }
 },
 "nbformat": 4,
 "nbformat_minor": 5
}
